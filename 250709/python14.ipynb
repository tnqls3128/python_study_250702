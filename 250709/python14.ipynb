{
 "cells": [
  {
   "cell_type": "markdown",
   "id": "215f9fcc-7011-450a-9bf5-8915624595cf",
   "metadata": {},
   "source": [
    "#### 파이썬 Basic 크롤링 문법\n",
    "1. requests\n",
    "2. bs4"
   ]
  },
  {
   "cell_type": "code",
   "execution_count": 6,
   "id": "ca456e0d-8bc2-4264-bbd7-071b3c822ea4",
   "metadata": {},
   "outputs": [
    {
     "name": "stdout",
     "output_type": "stream",
     "text": [
      "잔금대출에도 DTI 규제 적용 검토\n"
     ]
    }
   ],
   "source": [
    "import requests    # 웹 페이지 요청을 위한 라이브러리\n",
    "from bs4 import BeautifulSoup    # html 파싱을 위한 라이브러리\n",
    "\n",
    "res = requests.get(\"https://v.daum.net/v/20170615203441266\")    #지정한 url로 get 요청 보내기\n",
    "soup = BeautifulSoup(res.content, \"html.parser\")    #BeautifulSoup을 이용해서 html파싱(분석)\n",
    "\n",
    "mydata = soup.find(\"title\")    # title태그를 찾아서 mydata에 저장\n",
    "print(mydata.get_text())    # mydata에서 텍스트(문자열)만 꺼내어 출력"
   ]
  }
 ],
 "metadata": {
  "kernelspec": {
   "display_name": "Python [conda env:anaconda3]",
   "language": "python",
   "name": "conda-env-anaconda3-py"
  },
  "language_info": {
   "codemirror_mode": {
    "name": "ipython",
    "version": 3
   },
   "file_extension": ".py",
   "mimetype": "text/x-python",
   "name": "python",
   "nbconvert_exporter": "python",
   "pygments_lexer": "ipython3",
   "version": "3.13.5"
  }
 },
 "nbformat": 4,
 "nbformat_minor": 5
}
