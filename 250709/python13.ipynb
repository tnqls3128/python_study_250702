{
 "cells": [
  {
   "cell_type": "markdown",
   "id": "56abccc3-fb14-41a1-a771-6069213bc67d",
   "metadata": {},
   "source": [
    "#### 파이썬 크롤링\n",
    "1. 크롤링을 하는 수많은 프로그래밍 언어와 툴이 존재하는데 왜 파이썬?\n",
    "    - 파이썬은 라이브러리의 천국\n",
    "    - 라이브러리 -> 도서관 -> 특정 분야에 대한 전문지식을 습득하기 위해서 해당 책을 빌려보거나 참고\n",
    "    - 크롤링을 하려고 하는데 a ~ z까지 직접 크롤링을 위한 코드를 작성한다면 효율이 매우 안좋을 것\n",
    "    - 파이썬은 미리 크롤링 할 수 있도록 도와줄 수 있는 일종의 참고서적을 만들어놓음 (*참고서적 -> 라이브러리)\n",
    "    - 특정 라이브러리를 가져와서 사용하려면 import 예약어(*명령어)를 사용\n",
    "    - 만약, 해당 라이브러리가 파이썬에 내장되어있는 라이브러리가 아니라고 한다면 반드시 사전에 설치가 필요\n",
    "        - !pip = (python install package)\n",
    "        - !pip install 설치하고 싶은 라이브러리명 = pandas"
   ]
  },
  {
   "cell_type": "code",
   "execution_count": 7,
   "id": "df6174a3-2a19-418b-b732-74b89dce1b42",
   "metadata": {},
   "outputs": [
    {
     "name": "stdout",
     "output_type": "stream",
     "text": [
      "Defaulting to user installation because normal site-packages is not writeable\n",
      "Requirement already satisfied: pandas in c:\\programdata\\anaconda3\\lib\\site-packages (2.2.3)\n",
      "Requirement already satisfied: numpy>=1.26.0 in c:\\programdata\\anaconda3\\lib\\site-packages (from pandas) (2.1.3)\n",
      "Requirement already satisfied: python-dateutil>=2.8.2 in c:\\programdata\\anaconda3\\lib\\site-packages (from pandas) (2.9.0.post0)\n",
      "Requirement already satisfied: pytz>=2020.1 in c:\\programdata\\anaconda3\\lib\\site-packages (from pandas) (2024.1)\n",
      "Requirement already satisfied: tzdata>=2022.7 in c:\\programdata\\anaconda3\\lib\\site-packages (from pandas) (2025.2)\n",
      "Requirement already satisfied: six>=1.5 in c:\\programdata\\anaconda3\\lib\\site-packages (from python-dateutil>=2.8.2->pandas) (1.17.0)\n",
      "Note: you may need to restart the kernel to use updated packages.\n"
     ]
    }
   ],
   "source": [
    "pip install pandas"
   ]
  },
  {
   "cell_type": "code",
   "execution_count": 12,
   "id": "67844f52-f808-449f-85c5-df8e7b79aeb2",
   "metadata": {},
   "outputs": [],
   "source": [
    "import pandas    #표형식의 데이터"
   ]
  },
  {
   "cell_type": "code",
   "execution_count": 29,
   "id": "c7266dc3-6554-4102-b63d-8b25849a565e",
   "metadata": {},
   "outputs": [
    {
     "data": {
      "text/plain": [
       "2.5"
      ]
     },
     "execution_count": 29,
     "metadata": {},
     "output_type": "execute_result"
    }
   ],
   "source": [
    "# import statistics  -> 내장 라이브러리, 간단한 통계 게산\n",
    "# from statistics import mean, stdev   -> 선택적으로 불러옴\n",
    "# from statistics import *   ->모든 함수와 변수들을 한꺼번에 불러옴\n",
    "# import statistics as s   -> s라는 이름으로 사용할거라는 뜻\n",
    "from statistics import mean as m\n",
    "\n",
    "data=[1, 2, 3, 4]\n",
    "m(data)\n",
    "\n",
    "# print(statistics.mean(data))    #평균\n",
    "# print(statistics.stdev(data):.1f)#표준편차\n",
    "# print(s.mean(data))\n",
    "# print(s.stdev(data))"
   ]
  }
 ],
 "metadata": {
  "kernelspec": {
   "display_name": "Python [conda env:anaconda3]",
   "language": "python",
   "name": "conda-env-anaconda3-py"
  },
  "language_info": {
   "codemirror_mode": {
    "name": "ipython",
    "version": 3
   },
   "file_extension": ".py",
   "mimetype": "text/x-python",
   "name": "python",
   "nbconvert_exporter": "python",
   "pygments_lexer": "ipython3",
   "version": "3.13.5"
  }
 },
 "nbformat": 4,
 "nbformat_minor": 5
}
