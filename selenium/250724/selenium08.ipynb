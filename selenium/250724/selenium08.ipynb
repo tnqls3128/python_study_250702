{
 "cells": [
  {
   "cell_type": "markdown",
   "id": "787669c4-9892-4103-9d01-f9d0faf58753",
   "metadata": {},
   "source": [
    "1. Xpath 활용\n",
    "2. ID : error@eorro.com\n",
    "3. PS : 1234\n",
    "4. 로그인 버튼 클릭\n",
    "5. 로그인 페이지에서 message 클래스 속성값 텍스트 출력"
   ]
  },
  {
   "cell_type": "code",
   "execution_count": 18,
   "id": "03b8fe10-0cb0-4e1d-a85c-692b5d1fa109",
   "metadata": {},
   "outputs": [
    {
     "name": "stdout",
     "output_type": "stream",
     "text": [
      "뉴스: 머신러닝 강좌가 나왔어요~~~\n"
     ]
    }
   ],
   "source": [
    "from selenium import webdriver\n",
    "from selenium.webdriver.chrome.service import Service\n",
    "from selenium.webdriver.common.by import By\n",
    "from selenium.webdriver.common.keys import Keys\n",
    "from webdriver_manager.chrome import ChromeDriverManager\n",
    "from selenium.webdriver.chrome.options import Options\n",
    "from urllib.request  import urlretrieve\n",
    "import time\n",
    "import pyautogui\n",
    "\n",
    "service = Service(\"C:\\\\Users\\\\user\\\\Downloads\\\\chromedriver-win64\\\\chromedriver-win64\\\\chromedriver.exe\")\n",
    "\n",
    "options = Options()\n",
    "prefs = {\"profile.default_content_setting_values.notifications\": 2}\n",
    "# options.add_argument(\"headless\")\n",
    "options.add_argument(\"window-size=2560,1440\")\n",
    "options.add_argument(\"--start-maximized\")\n",
    "options.add_experimental_option(\"prefs\", prefs)\n",
    "options.add_argument(\"--disable-gpu\")\n",
    "options.add_argument(\"--user-agent=Mozilla/5.0 (Windows NT 10.0; Win64; x64) AppleWebKit/537.36 (KHTML, like Gecko) Chrome/138.0.0.0 Safari/537.36 Edg/138.0.0.0\")\n",
    "options.add_argument(\"lang=ko_KR\")\n",
    "\n",
    "driver = webdriver.Chrome(service=service, options = options)\n",
    "driver.get(\"https://divjason.github.io/sellenium-test/index_login.html\")\n",
    "\n",
    "element = driver.find_element(By.XPATH, \"//input[@type='submit']\")\n",
    "element.click()\n",
    "\n",
    "time.sleep(3)\n",
    "\n",
    "element = driver.find_element(By.XPATH, \"//span[@class='news']\")\n",
    "print(element.text)\n",
    "\n",
    "\n",
    "driver.quit()"
   ]
  }
 ],
 "metadata": {
  "kernelspec": {
   "display_name": "Python [conda env:anaconda3]",
   "language": "python",
   "name": "conda-env-anaconda3-py"
  },
  "language_info": {
   "codemirror_mode": {
    "name": "ipython",
    "version": 3
   },
   "file_extension": ".py",
   "mimetype": "text/x-python",
   "name": "python",
   "nbconvert_exporter": "python",
   "pygments_lexer": "ipython3",
   "version": "3.13.5"
  }
 },
 "nbformat": 4,
 "nbformat_minor": 5
}
