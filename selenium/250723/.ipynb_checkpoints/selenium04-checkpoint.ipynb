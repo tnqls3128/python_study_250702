{
 "cells": [
  {
   "cell_type": "code",
   "execution_count": 6,
   "id": "d6d8cb2d-1bc2-4d3e-b93f-07d24875748a",
   "metadata": {},
   "outputs": [
    {
     "name": "stdout",
     "output_type": "stream",
     "text": [
      "Teddy의 선물 블로그\n"
     ]
    }
   ],
   "source": [
    "from selenium import webdriver\n",
    "from selenium.webdriver.chrome.service import Service\n",
    "from selenium.webdriver.common.by import By\n",
    "from selenium.webdriver.common.keys import Keys\n",
    "from webdriver_manager.chrome import ChromeDriverManager\n",
    "from selenium.webdriver.chrome.options import Options\n",
    "import time\n",
    "import pyautogui\n",
    "\n",
    "service = Service(\"C:\\\\Users\\\\user\\\\Downloads\\\\chromedriver-win64\\\\chromedriver-win64\\\\chromedriver.exe\")\n",
    "options = Options()\n",
    "options.add_argument(\"headless\")\n",
    "options.add_argument(\"window-size=1920x1080\")\n",
    "options.add_argument(\"--disable-gpu\")\n",
    "# options.add_argument(\"--user-agent=Mozilla/5.0 (Windows NT 10.0; Win64; x64) AppleWebKit/537.36 (KHTML, like Gecko) Chrome/138.0.0.0 Safari/537.36 Edg/138.0.0.0\")\n",
    "options.add_argument(\"lang=ko_KR\")\n",
    "\n",
    "\n",
    "driver = webdriver.Chrome(service=service, options = options)\n",
    "driver.get(\"https://davelee-fun.github.io/\")\n",
    "\n",
    "\n",
    "element = driver.find_element(By.TAG_NAME, \"h1\") \n",
    "print(element.text)\n",
    "\n",
    "time.sleep(3)\n",
    "\n",
    "driver.quit()"
   ]
  },
  {
   "cell_type": "markdown",
   "id": "59242db3-254b-4721-9017-bccea9220ff2",
   "metadata": {},
   "source": [
    "#### 1. 다음 웹 사이트에 접속해서 selenium을 활용해 크롤링해오세요.\n",
    "- https://crawlingtest.netlify.app/\n",
    "- 부모요소의 id 속성값이 dev_course_class_list인 후손요소의 class가 course인 데이터만 출력"
   ]
  },
  {
   "cell_type": "code",
   "execution_count": 7,
   "id": "537c9acf-3823-45dc-a8ac-bbfc2a37e4e1",
   "metadata": {},
   "outputs": [
    {
     "name": "stdout",
     "output_type": "stream",
     "text": [
      "(초급) - 강사가 실제 사용하는 자동 프로그램 소개 [2]\n",
      "(초급) - 필요한 프로그램 설치 시연 [5]\n",
      "(초급) - 데이터를 엑셀 파일로 만들기 [9]\n",
      "(초급) -     엑셀 파일 이쁘게! 이쁘게! [8]\n",
      "(초급) -     나대신 주기적으로 파이썬 프로그램 실행하기 [7]\n",
      "(초급) - 파이썬으로 슬랙(slack) 메신저에 글쓰기 [40]\n",
      "(초급) - 웹사이트 변경사항 주기적으로 체크해서, 메신저로 알람주기 [12]\n",
      "(초급) - 네이버 API 사용해서, 블로그에 글쓰기 [42]\n",
      "(중급) - 자동으로 쿠팡파트너스 API 로 가져온 상품 정보, 네이버 블로그/트위터에 홍보하기 [412]\n"
     ]
    }
   ],
   "source": [
    "from selenium import webdriver\n",
    "from selenium.webdriver.chrome.service import Service\n",
    "from selenium.webdriver.common.by import By\n",
    "from selenium.webdriver.common.keys import Keys\n",
    "from webdriver_manager.chrome import ChromeDriverManager\n",
    "from selenium.webdriver.chrome.options import Options\n",
    "import time\n",
    "import pyautogui\n",
    "\n",
    "service = Service(\"C:\\\\Users\\\\user\\\\Downloads\\\\chromedriver-win64\\\\chromedriver-win64\\\\chromedriver.exe\")\n",
    "options = Options()\n",
    "options.add_argument(\"headless\")\n",
    "options.add_argument(\"window-size=1920x1080\")\n",
    "options.add_argument(\"--disable-gpu\")\n",
    "# options.add_argument(\"--user-agent=Mozilla/5.0 (Windows NT 10.0; Win64; x64) AppleWebKit/537.36 (KHTML, like Gecko) Chrome/138.0.0.0 Safari/537.36 Edg/138.0.0.0\")\n",
    "options.add_argument(\"lang=ko_KR\")\n",
    "\n",
    "\n",
    "driver = webdriver.Chrome(service=service, options = options)\n",
    "driver.get(\"https://crawlingtest.netlify.app/\")\n",
    "\n",
    "\n",
    "elements = driver.find_elements(By.CSS_SELECTOR, \"ul#dev_course_list > li.course\")\n",
    "\n",
    "for element in elements :\n",
    "    print(element.text)\n",
    "\n",
    "time.sleep(3)\n",
    "\n",
    "driver.quit()"
   ]
  },
  {
   "cell_type": "markdown",
   "id": "0d25f000-38f2-4483-b84f-2310b5fc53b6",
   "metadata": {},
   "source": [
    "#### 2. 다음 웹 사이트에 접속해서 selenium을 활용해 크롤링해오세요.\n",
    "- https://crawlingtest.netlify.app/\n",
    "- 해당 사이트 내 커리큘럼일정표 모두 추출"
   ]
  },
  {
   "cell_type": "code",
   "execution_count": 15,
   "id": "500f8b91-a795-4832-b786-2af83743ffb5",
   "metadata": {},
   "outputs": [
    {
     "name": "stdout",
     "output_type": "stream",
     "text": [
      "일정\n",
      "커리큘럼 타이틀\n",
      "난이도\n",
      "5.1 ~ 6.15\n",
      "나만의 엣지있는 블로그 사이트 만들기 (취미로 익히는 IT)\n",
      "초급\n",
      "6.16 ~ 7.31\n",
      "파이썬과 데이터과학 첫걸음 (IT 기본기 익히기)\n",
      "중급\n"
     ]
    }
   ],
   "source": [
    "from selenium import webdriver\n",
    "from selenium.webdriver.chrome.service import Service\n",
    "from selenium.webdriver.common.by import By\n",
    "from selenium.webdriver.common.keys import Keys\n",
    "from webdriver_manager.chrome import ChromeDriverManager\n",
    "from selenium.webdriver.chrome.options import Options\n",
    "import time\n",
    "import pyautogui\n",
    "\n",
    "service = Service(\"C:\\\\Users\\\\user\\\\Downloads\\\\chromedriver-win64\\\\chromedriver-win64\\\\chromedriver.exe\")\n",
    "options = Options()\n",
    "options.add_argument(\"headless\")\n",
    "options.add_argument(\"window-size=1920x1080\")\n",
    "options.add_argument(\"--disable-gpu\")\n",
    "# options.add_argument(\"--user-agent=Mozilla/5.0 (Windows NT 10.0; Win64; x64) AppleWebKit/537.36 (KHTML, like Gecko) Chrome/138.0.0.0 Safari/537.36 Edg/138.0.0.0\")\n",
    "options.add_argument(\"lang=ko_KR\")\n",
    "\n",
    "\n",
    "driver = webdriver.Chrome(service=service, options = options)\n",
    "driver.get(\"https://crawlingtest.netlify.app/\")\n",
    "\n",
    "\n",
    "# elements = driver.find_elements(By.TAG_NAME, \"td\")\n",
    "elements = driver.find_elements(By.CSS_SELECTOR, \"table tr td\")\n",
    "\n",
    "for element in elements :\n",
    "    print(element.text)\n",
    "\n",
    "\n",
    "time.sleep(3)\n",
    "\n",
    "driver.quit()"
   ]
  },
  {
   "cell_type": "markdown",
   "id": "5ca62023-bb9e-47bb-b1c0-41df4b08771f",
   "metadata": {},
   "source": [
    "#### 3. 다음 웹 사이트에 접속해서 selenium을 활용해 크롤링해오세요.\n",
    "- https://crawlingtest.netlify.app/\n",
    "- 아래 데이터만 추출해오세요\n",
    "- (중급) - 자동으로 쿠팡파트너스 API 로 가져온 상품 정보, 네이버 블로그/트위터에 홍보하기 [412]"
   ]
  },
  {
   "cell_type": "code",
   "execution_count": 24,
   "id": "90cbaed1-a783-4d23-8749-d82679e576e1",
   "metadata": {},
   "outputs": [
    {
     "name": "stdout",
     "output_type": "stream",
     "text": [
      "(중급) - 자동으로 쿠팡파트너스 API 로 가져온 상품 정보, 네이버 블로그/트위터에 홍보하기 [412]\n"
     ]
    }
   ],
   "source": [
    "from selenium import webdriver\n",
    "from selenium.webdriver.chrome.service import Service\n",
    "from selenium.webdriver.common.by import By\n",
    "from selenium.webdriver.common.keys import Keys\n",
    "from webdriver_manager.chrome import ChromeDriverManager\n",
    "from selenium.webdriver.chrome.options import Options\n",
    "import time\n",
    "import pyautogui\n",
    "\n",
    "service = Service(\"C:\\\\Users\\\\user\\\\Downloads\\\\chromedriver-win64\\\\chromedriver-win64\\\\chromedriver.exe\")\n",
    "options = Options()\n",
    "options.add_argument(\"headless\")\n",
    "options.add_argument(\"window-size=1920x1080\")\n",
    "options.add_argument(\"--disable-gpu\")\n",
    "# options.add_argument(\"--user-agent=Mozilla/5.0 (Windows NT 10.0; Win64; x64) AppleWebKit/537.36 (KHTML, like Gecko) Chrome/138.0.0.0 Safari/537.36 Edg/138.0.0.0\")\n",
    "options.add_argument(\"lang=ko_KR\")\n",
    "\n",
    "\n",
    "driver = webdriver.Chrome(service=service, options = options)\n",
    "driver.get(\"https://crawlingtest.netlify.app/\")\n",
    "\n",
    "\n",
    "elements = driver.find_elements(By.CSS_SELECTOR, \"ul#dev_course_list > li.course\")\n",
    "\n",
    "print(elements[8].text)\n",
    "\n",
    "time.sleep(3)\n",
    "\n",
    "driver.quit()"
   ]
  },
  {
   "cell_type": "markdown",
   "id": "8219c228-62a2-479c-80af-8e0d13de3511",
   "metadata": {},
   "source": [
    "#### 4. 다음 웹 사이트에 접속해서 selenium을 활용해 크롤링해오세요.\n",
    "- https://divjason.github.io/sellenium-test/\n",
    "- class값이 news인 요소의 태그내용을 찾아 출력해주세요"
   ]
  },
  {
   "cell_type": "code",
   "execution_count": 26,
   "id": "3b789eb2-c8ef-472f-8148-00a38cb7466e",
   "metadata": {},
   "outputs": [
    {
     "name": "stdout",
     "output_type": "stream",
     "text": [
      "뉴스: 머신러닝 강좌가 나왔어요~~~\n"
     ]
    }
   ],
   "source": [
    "from selenium import webdriver\n",
    "from selenium.webdriver.chrome.service import Service\n",
    "from selenium.webdriver.common.by import By\n",
    "from selenium.webdriver.common.keys import Keys\n",
    "from webdriver_manager.chrome import ChromeDriverManager\n",
    "from selenium.webdriver.chrome.options import Options\n",
    "import time\n",
    "import pyautogui\n",
    "\n",
    "service = Service(\"C:\\\\Users\\\\user\\\\Downloads\\\\chromedriver-win64\\\\chromedriver-win64\\\\chromedriver.exe\")\n",
    "options = Options()\n",
    "options.add_argument(\"headless\")\n",
    "options.add_argument(\"window-size=1920x1080\")\n",
    "options.add_argument(\"--disable-gpu\")\n",
    "# options.add_argument(\"--user-agent=Mozilla/5.0 (Windows NT 10.0; Win64; x64) AppleWebKit/537.36 (KHTML, like Gecko) Chrome/138.0.0.0 Safari/537.36 Edg/138.0.0.0\")\n",
    "options.add_argument(\"lang=ko_KR\")\n",
    "\n",
    "\n",
    "driver = webdriver.Chrome(service=service, options = options)\n",
    "driver.get(\"https://divjason.github.io/sellenium-test/\")\n",
    "\n",
    "\n",
    "element = driver.find_element(By.CSS_SELECTOR, \"span.news\")\n",
    "\n",
    "print(element.text)\n",
    "\n",
    "time.sleep(3)\n",
    "\n",
    "driver.quit()"
   ]
  },
  {
   "cell_type": "markdown",
   "id": "3d9b1867-a3f5-4435-84a7-228810af690b",
   "metadata": {},
   "source": [
    "#### 5. 다음 웹 사이트에 접속해서 selenium을 활용해 크롤링해오세요.\n",
    "- https://divjason.github.io/sellenium-test/\n",
    "- input 태그 요소에 아이디 error@error.com / 비밀번호 1234 입력 후 로그인 버튼 누르게 해주세요"
   ]
  },
  {
   "cell_type": "code",
   "execution_count": 40,
   "id": "a60205d0-46a6-4768-84db-7a2b026e5f63",
   "metadata": {},
   "outputs": [],
   "source": [
    "from selenium import webdriver\n",
    "from selenium.webdriver.chrome.service import Service\n",
    "from selenium.webdriver.common.by import By\n",
    "from selenium.webdriver.common.keys import Keys\n",
    "from webdriver_manager.chrome import ChromeDriverManager\n",
    "from selenium.webdriver.chrome.options import Options\n",
    "import time\n",
    "import pyautogui\n",
    "\n",
    "service = Service(\"C:\\\\Users\\\\user\\\\Downloads\\\\chromedriver-win64\\\\chromedriver-win64\\\\chromedriver.exe\")\n",
    "options = Options()\n",
    "# options.add_argument(\"headless\")\n",
    "options.add_argument(\"window-size=1920x1080\")\n",
    "options.add_argument(\"--disable-gpu\")\n",
    "options.add_argument(\"--user-agent=Mozilla/5.0 (Windows NT 10.0; Win64; x64) AppleWebKit/537.36 (KHTML, like Gecko) Chrome/138.0.0.0 Safari/537.36 Edg/138.0.0.0\")\n",
    "options.add_argument(\"lang=ko_KR\")\n",
    "\n",
    "\n",
    "driver = webdriver.Chrome(service=service, options = options)\n",
    "driver.get(\"https://divjason.github.io/sellenium-test/\")\n",
    "\n",
    "element = driver.find_element(By.ID, \"username\")\n",
    "element.clear()\n",
    "element.send_keys(\"error@error.com\")\n",
    "\n",
    "element = driver.find_element(By.ID, \"password\")\n",
    "element.clear()\n",
    "element.send_keys(\"1234\")\n",
    "\n",
    "time.sleep(3)\n",
    "\n",
    "# element.send_keys(Keys.RETURN)\n",
    "element = driver.find_element(By.CSS_SELECTOR, \"input[type='submit']\")\n",
    "element.click()  # 정석\n",
    "\n",
    "time.sleep(3)\n",
    "\n",
    "driver.quit()"
   ]
  },
  {
   "cell_type": "markdown",
   "id": "ee2c56ef-af1d-4721-a6ec-3d93eaff99e8",
   "metadata": {},
   "source": [
    "#### 6. 다음 웹 사이트에 접속해서 selenium을 활용해 크롤링해오세요.\n",
    "- https://divjason.github.io/sellenium-test/\n",
    "- input 태그 요소에 아이디 error@error.com / 비밀번호 1234 입력 후 로그인 버튼 누르게 해주세요\n",
    "- 클릭 이후 이동한 페이지에서 message라는 클래스 속성값을 가지고 있는 요소의 텍스트 정보를 출력"
   ]
  },
  {
   "cell_type": "code",
   "execution_count": 43,
   "id": "60b0230d-ccc9-40e6-898e-79812f51d97b",
   "metadata": {},
   "outputs": [
    {
     "name": "stdout",
     "output_type": "stream",
     "text": [
      "실제 사이트는 https://megaitlab.com/ 입니다\n",
      "본 페이지는 로그인된 페이지입니다!\n",
      "뉴스: 머신러닝 강좌가 나왔어요~~~\n"
     ]
    }
   ],
   "source": [
    "from selenium import webdriver\n",
    "from selenium.webdriver.chrome.service import Service\n",
    "from selenium.webdriver.common.by import By\n",
    "from selenium.webdriver.common.keys import Keys\n",
    "from webdriver_manager.chrome import ChromeDriverManager\n",
    "from selenium.webdriver.chrome.options import Options\n",
    "import time\n",
    "import pyautogui\n",
    "\n",
    "service = Service(\"C:\\\\Users\\\\user\\\\Downloads\\\\chromedriver-win64\\\\chromedriver-win64\\\\chromedriver.exe\")\n",
    "options = Options()\n",
    "# options.add_argument(\"headless\")\n",
    "options.add_argument(\"window-size=1920x1080\")\n",
    "options.add_argument(\"--disable-gpu\")\n",
    "options.add_argument(\"--user-agent=Mozilla/5.0 (Windows NT 10.0; Win64; x64) AppleWebKit/537.36 (KHTML, like Gecko) Chrome/138.0.0.0 Safari/537.36 Edg/138.0.0.0\")\n",
    "options.add_argument(\"lang=ko_KR\")\n",
    "\n",
    "\n",
    "driver = webdriver.Chrome(service=service, options = options)\n",
    "driver.get(\"https://divjason.github.io/sellenium-test/\")\n",
    "\n",
    "element = driver.find_element(By.ID, \"username\")\n",
    "element.clear()\n",
    "element.send_keys(\"error@error.com\")\n",
    "\n",
    "element = driver.find_element(By.ID, \"password\")\n",
    "element.clear()\n",
    "element.send_keys(\"1234\")\n",
    "\n",
    "time.sleep(3)\n",
    "\n",
    "# element.send_keys(Keys.RETURN)\n",
    "element = driver.find_element(By.CSS_SELECTOR, \"input[type='submit']\")\n",
    "element.click()  # 정석\n",
    "\n",
    "element = driver.find_element(By.CSS_SELECTOR, \"div.message\")\n",
    "print(element.text)\n",
    "\n",
    "time.sleep(3)\n",
    "\n",
    "driver.quit()"
   ]
  }
 ],
 "metadata": {
  "kernelspec": {
   "display_name": "Python [conda env:anaconda3]",
   "language": "python",
   "name": "conda-env-anaconda3-py"
  },
  "language_info": {
   "codemirror_mode": {
    "name": "ipython",
    "version": 3
   },
   "file_extension": ".py",
   "mimetype": "text/x-python",
   "name": "python",
   "nbconvert_exporter": "python",
   "pygments_lexer": "ipython3",
   "version": "3.13.5"
  }
 },
 "nbformat": 4,
 "nbformat_minor": 5
}
