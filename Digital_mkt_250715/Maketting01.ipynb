{
 "cells": [
  {
   "cell_type": "code",
   "execution_count": 5,
   "id": "f30bfc6f-6296-4738-9e2d-ecd829f59db0",
   "metadata": {},
   "outputs": [
    {
     "name": "stdout",
     "output_type": "stream",
     "text": [
      "[]\n"
     ]
    }
   ],
   "source": [
    "import requests\n",
    "from bs4 import BeautifulSoup\n",
    "from openpyxl import Workbook\n",
    "\n",
    "url = \"https://www.kurly.com/goods/1001437373\"\n",
    "res = requests.get(url)\n",
    "soup = BeautifulSoup(res.content, \"html.parser\")\n",
    "\n",
    "test = soup.select(\".css-y49dcn e36z05c13\")\n",
    "print(test)"
   ]
  },
  {
   "cell_type": "code",
   "execution_count": 6,
   "id": "67fa47b9-d1f1-4ec5-88cf-006da3b40190",
   "metadata": {},
   "outputs": [
    {
     "name": "stdout",
     "output_type": "stream",
     "text": [
      "Defaulting to user installation because normal site-packages is not writeable\n",
      "Collecting selenium\n",
      "  Downloading selenium-4.34.2-py3-none-any.whl.metadata (7.5 kB)\n",
      "Collecting urllib3~=2.5.0 (from urllib3[socks]~=2.5.0->selenium)\n",
      "  Downloading urllib3-2.5.0-py3-none-any.whl.metadata (6.5 kB)\n",
      "Collecting trio~=0.30.0 (from selenium)\n",
      "  Downloading trio-0.30.0-py3-none-any.whl.metadata (8.5 kB)\n",
      "Collecting trio-websocket~=0.12.2 (from selenium)\n",
      "  Downloading trio_websocket-0.12.2-py3-none-any.whl.metadata (5.1 kB)\n",
      "Collecting certifi>=2025.6.15 (from selenium)\n",
      "  Downloading certifi-2025.7.14-py3-none-any.whl.metadata (2.4 kB)\n",
      "Collecting typing_extensions~=4.14.0 (from selenium)\n",
      "  Downloading typing_extensions-4.14.1-py3-none-any.whl.metadata (3.0 kB)\n",
      "Requirement already satisfied: websocket-client~=1.8.0 in c:\\programdata\\anaconda3\\lib\\site-packages (from selenium) (1.8.0)\n",
      "Requirement already satisfied: attrs>=23.2.0 in c:\\programdata\\anaconda3\\lib\\site-packages (from trio~=0.30.0->selenium) (24.3.0)\n",
      "Requirement already satisfied: sortedcontainers in c:\\programdata\\anaconda3\\lib\\site-packages (from trio~=0.30.0->selenium) (2.4.0)\n",
      "Requirement already satisfied: idna in c:\\programdata\\anaconda3\\lib\\site-packages (from trio~=0.30.0->selenium) (3.7)\n",
      "Collecting outcome (from trio~=0.30.0->selenium)\n",
      "  Downloading outcome-1.3.0.post0-py2.py3-none-any.whl.metadata (2.6 kB)\n",
      "Requirement already satisfied: sniffio>=1.3.0 in c:\\programdata\\anaconda3\\lib\\site-packages (from trio~=0.30.0->selenium) (1.3.0)\n",
      "Requirement already satisfied: cffi>=1.14 in c:\\programdata\\anaconda3\\lib\\site-packages (from trio~=0.30.0->selenium) (1.17.1)\n",
      "Collecting wsproto>=0.14 (from trio-websocket~=0.12.2->selenium)\n",
      "  Downloading wsproto-1.2.0-py3-none-any.whl.metadata (5.6 kB)\n",
      "Requirement already satisfied: pysocks!=1.5.7,<2.0,>=1.5.6 in c:\\programdata\\anaconda3\\lib\\site-packages (from urllib3[socks]~=2.5.0->selenium) (1.7.1)\n",
      "Requirement already satisfied: pycparser in c:\\programdata\\anaconda3\\lib\\site-packages (from cffi>=1.14->trio~=0.30.0->selenium) (2.21)\n",
      "Requirement already satisfied: h11<1,>=0.9.0 in c:\\programdata\\anaconda3\\lib\\site-packages (from wsproto>=0.14->trio-websocket~=0.12.2->selenium) (0.16.0)\n",
      "Downloading selenium-4.34.2-py3-none-any.whl (9.4 MB)\n",
      "   ---------------------------------------- 0.0/9.4 MB ? eta -:--:--\n",
      "   ---------------------------------------- 9.4/9.4 MB 72.1 MB/s eta 0:00:00\n",
      "Downloading trio-0.30.0-py3-none-any.whl (499 kB)\n",
      "Downloading trio_websocket-0.12.2-py3-none-any.whl (21 kB)\n",
      "Downloading typing_extensions-4.14.1-py3-none-any.whl (43 kB)\n",
      "Downloading urllib3-2.5.0-py3-none-any.whl (129 kB)\n",
      "Downloading certifi-2025.7.14-py3-none-any.whl (162 kB)\n",
      "Downloading outcome-1.3.0.post0-py2.py3-none-any.whl (10 kB)\n",
      "Downloading wsproto-1.2.0-py3-none-any.whl (24 kB)\n",
      "Installing collected packages: wsproto, urllib3, typing_extensions, outcome, certifi, trio, trio-websocket, selenium\n",
      "\n",
      "   ----- ---------------------------------- 1/8 [urllib3]\n",
      "   ----- ---------------------------------- 1/8 [urllib3]\n",
      "   ---------- ----------------------------- 2/8 [typing_extensions]\n",
      "   ------------------------- -------------- 5/8 [trio]\n",
      "   ------------------------- -------------- 5/8 [trio]\n",
      "   ------------------------- -------------- 5/8 [trio]\n",
      "   ------------------------- -------------- 5/8 [trio]\n",
      "   ------------------------- -------------- 5/8 [trio]\n",
      "   ------------------------- -------------- 5/8 [trio]\n",
      "   ------------------------- -------------- 5/8 [trio]\n",
      "   ------------------------- -------------- 5/8 [trio]\n",
      "   ------------------------------ --------- 6/8 [trio-websocket]\n",
      "   ----------------------------------- ---- 7/8 [selenium]\n",
      "   ----------------------------------- ---- 7/8 [selenium]\n",
      "   ----------------------------------- ---- 7/8 [selenium]\n",
      "   ----------------------------------- ---- 7/8 [selenium]\n",
      "   ----------------------------------- ---- 7/8 [selenium]\n",
      "   ----------------------------------- ---- 7/8 [selenium]\n",
      "   ----------------------------------- ---- 7/8 [selenium]\n",
      "   ----------------------------------- ---- 7/8 [selenium]\n",
      "   ----------------------------------- ---- 7/8 [selenium]\n",
      "   ----------------------------------- ---- 7/8 [selenium]\n",
      "   ----------------------------------- ---- 7/8 [selenium]\n",
      "   ----------------------------------- ---- 7/8 [selenium]\n",
      "   ----------------------------------- ---- 7/8 [selenium]\n",
      "   ----------------------------------- ---- 7/8 [selenium]\n",
      "   ----------------------------------- ---- 7/8 [selenium]\n",
      "   ----------------------------------- ---- 7/8 [selenium]\n",
      "   ----------------------------------- ---- 7/8 [selenium]\n",
      "   ----------------------------------- ---- 7/8 [selenium]\n",
      "   ---------------------------------------- 8/8 [selenium]\n",
      "\n",
      "Successfully installed certifi-2025.7.14 outcome-1.3.0.post0 selenium-4.34.2 trio-0.30.0 trio-websocket-0.12.2 typing_extensions-4.14.1 urllib3-2.5.0 wsproto-1.2.0\n",
      "Note: you may need to restart the kernel to use updated packages.\n"
     ]
    }
   ],
   "source": [
    "pip install selenium"
   ]
  },
  {
   "cell_type": "code",
   "execution_count": 5,
   "id": "6e2801a6-42c2-41e1-b78a-5f193c6be7a6",
   "metadata": {},
   "outputs": [
    {
     "name": "stdout",
     "output_type": "stream",
     "text": [
      "크고 통통  에어프라이어 팬구이\n",
      "다 괜찮은데 버터구이는 생각보다 소소함\n",
      "아직 먹기전인데 맛있을꺼 같네요\n",
      "냉동상태로 포장은 간소하게 오네요 김치냉장고에 전날 넣어두고 잤더니 다음날 썰기 좋게 알맞게 녹아서 터지지 않고 잘 썰어졌던거 같아요 쪄서 먹어도 맛있을거 같지만 살짝 얼은 상태에서 썰었더니 안터지고 잘 썰어지고 계란에 구워 먹으니 부드럽게 맛있었어요 \n",
      "간도 적당하고 오징어소도 맛있고 오징어가 부드러워서 먹기에도 좋은거 같다. 별미로 한번씩 사먹기에 가격도 만원 정도여서 좋네요 백화점에는 2만원 넘게 하던데 가성비도 좋고 맛있어서 다음에도 구매 할거 같아요 \n",
      "계란에 구워내니 더 고소하게 맛있는거 같아요 반찬으로도 그냥 먹어도 맛있어요\n",
      "짭짤하니 맛나요~ 양이 적지 않나 싶었는데 배부릅니다 ㅎㅎ\n",
      "배송 잘 받았습니다.ㅂ\n",
      "오징어순대 집에서 즐길 수 있어서 좋아요.\n",
      "완전 대만족!!!! 컬리 냉우동이랑 곁들여먹으려고 구워봤는데 매장에서 먹던거랑 맛이 똑같아요~ 해동해서 부치는 게 좀 귀찮긴 하지만 가격이 저렴하니까 푸짐하게 먹을 수 있을 거 같아용 강추강추 여기가 속초네요 ㅋ\n",
      "매장에서 먹었던거랑 같은맛이네요\n",
      "신상 신기해서 사봤어요\n",
      "속이 꽉차있는 오징어순대~대만족\n"
     ]
    }
   ],
   "source": [
    "from selenium import webdriver\n",
    "from selenium.webdriver.chrome.options import Options\n",
    "from bs4 import BeautifulSoup\n",
    "import time\n",
    "\n",
    "# 1. 셀레니움 기본 옵션 설정\n",
    "options = Options()\n",
    "options.add_argument(\"--no-sandbox\")    #--no-sandbox : 샌드박스 보안 기능 비활성화\n",
    "options.add_argument(\"--disable-dev-shm-usage\")    # 공유메모리 대신 디스크 사용하여 메모리 문제 방지\n",
    "options.add_argument(\"--headless\")    # 브라우저 창을 띄우지않고 백그라운드에서 실행\n",
    "\n",
    "driver = webdriver.Chrome(options = options)    # 설정한 옵션을 적용하여 크롬 드라이버 객체 생성 \n",
    "\n",
    "# 2. 페이지접속\n",
    "url = \"https://www.kurly.com/goods/1001437373\"\n",
    "driver.get(url)\n",
    "\n",
    "time.sleep(5)    # 페이지 로딩 대기시간 설정 (java 로딩 고려하여 충분히 대기)\n",
    "\n",
    "# 3. HTML 가져오기\n",
    "soup = BeautifulSoup(driver.page_source, \"html.parser\")\n",
    "\n",
    "#4. 리뷰 텍스트 추출하기\n",
    "reviews = soup.select(\"p.css-y49dcn.e36z05c13\")\n",
    "for review in reviews :\n",
    "    print(review.get_text().strip())\n",
    "\n",
    "driver.quit()"
   ]
  },
  {
   "cell_type": "code",
   "execution_count": 7,
   "id": "b3291a39-d728-40d8-8dbc-ed8f8ff661ff",
   "metadata": {},
   "outputs": [
    {
     "name": "stdout",
     "output_type": "stream",
     "text": [
      "엑셀 저장완료 : Kurly_review.xlsx\n"
     ]
    }
   ],
   "source": [
    "# 엑셀 저장\n",
    "\n",
    "from selenium import webdriver\n",
    "from selenium.webdriver.chrome.options import Options\n",
    "from bs4 import BeautifulSoup\n",
    "import time\n",
    "from openpyxl import Workbook\n",
    "\n",
    "# 1. 셀레니움 기본 옵션 설정\n",
    "options = Options()\n",
    "options.add_argument(\"--no-sandbox\")    #--no-sandbox : 샌드박스 보안 기능 비활성화\n",
    "options.add_argument(\"--disable-dev-shm-usage\")    # 공유메모리 대신 디스크 사용하여 메모리 문제 방지\n",
    "options.add_argument(\"--headless\")    # 브라우저 창을 띄우지않고 백그라운드에서 실행\n",
    "\n",
    "driver = webdriver.Chrome(options = options)    # 설정한 옵션을 적용하여 크롬 드라이버 객체 생성 \n",
    "\n",
    "# 2. 페이지접속\n",
    "url = \"https://www.kurly.com/goods/1001437373\"\n",
    "driver.get(url)\n",
    "\n",
    "time.sleep(5)    # 페이지 로딩 대기시간 설정 (java 로딩 고려하여 충분히 대기)\n",
    "\n",
    "# 3. HTML 가져오기\n",
    "soup = BeautifulSoup(driver.page_source, \"html.parser\")\n",
    "\n",
    "#4. 리뷰 텍스트 추출하기\n",
    "reviews = soup.select(\"p.css-y49dcn.e36z05c13\")\n",
    "review_lists = [review.get_text().strip() for review in reviews]\n",
    "\n",
    "driver.quit()\n",
    "\n",
    "wb = Workbook()     #wb가 엑셀만들어주는 인스턴스 객체, Wokebook이 엑셀 만들어줌\n",
    "ws = wb.active    #active한 상태\n",
    "ws.title = \"Kurly Reviews\"\n",
    "\n",
    "ws.append([\"리뷰 내용\"])\n",
    "for item in review_lists :\n",
    "    ws.append([item])\n",
    "\n",
    "wb.save(\"Kurly_review.xlsx\")\n",
    "print(\"엑셀 저장완료 : Kurly_review.xlsx\")"
   ]
  }
 ],
 "metadata": {
  "kernelspec": {
   "display_name": "Python [conda env:anaconda3]",
   "language": "python",
   "name": "conda-env-anaconda3-py"
  },
  "language_info": {
   "codemirror_mode": {
    "name": "ipython",
    "version": 3
   },
   "file_extension": ".py",
   "mimetype": "text/x-python",
   "name": "python",
   "nbconvert_exporter": "python",
   "pygments_lexer": "ipython3",
   "version": "3.13.5"
  }
 },
 "nbformat": 4,
 "nbformat_minor": 5
}
