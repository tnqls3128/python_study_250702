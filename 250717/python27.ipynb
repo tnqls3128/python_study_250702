{
 "cells": [
  {
   "cell_type": "markdown",
   "id": "c990567d-266b-4cee-a01c-c725731a81b0",
   "metadata": {},
   "source": [
    "#### 문자열 관련 함수 리스트\n",
    "- count : 문자열에 있는 특정 문자 갯수 세기\n",
    "- index : 문자열에 있는 특정 문자의 인덱스 위치를 알려주기\n",
    "- find : 문자열에 있는 특정 문자의 인덱스를 찾아오긴 하나, 만약 존재하지 않는다면 에러를 발생하지 않고 -1을 발생\n",
    "- join : 문자열 사이에 다른 문자를 끼워 넣기\n",
    "- strip : 문자열 앞뒤에 공백 제거\n",
    "- upper : 소문자를 대문자로 변경하기\n",
    "- lower : 대문자를 소문자로 변경하기\n",
    "- split : 문자열 내 특정 문자를 기준으로 나누기\n",
    "- replace : 문자열 중 일부를 다른 문자로 바꾸거나 혹은 삭제하기"
   ]
  },
  {
   "cell_type": "code",
   "execution_count": 2,
   "id": "3b730750-1d11-4c08-93ce-19f4efa65da4",
   "metadata": {},
   "outputs": [
    {
     "data": {
      "text/plain": [
       "2"
      ]
     },
     "execution_count": 2,
     "metadata": {},
     "output_type": "execute_result"
    }
   ],
   "source": [
    "data = \"Dave David\"\n",
    "data.count(\"Dave\")\n",
    "data.count(\"D\")"
   ]
  },
  {
   "cell_type": "code",
   "execution_count": 7,
   "id": "57a4a8bf-b464-4a8e-bb64-fcba721d1256",
   "metadata": {},
   "outputs": [
    {
     "data": {
      "text/plain": [
       "11"
      ]
     },
     "execution_count": 7,
     "metadata": {},
     "output_type": "execute_result"
    }
   ],
   "source": [
    "string = \"Dave ID is dave\"\n",
    "string.index(\"D\")\n",
    "string.index(\"d\")"
   ]
  },
  {
   "cell_type": "code",
   "execution_count": 14,
   "id": "ea670de0-e694-4fe4-b177-3b5c8a3b1132",
   "metadata": {},
   "outputs": [
    {
     "name": "stdout",
     "output_type": "stream",
     "text": [
      "x는 sting01 문자열 객체 안에 없습니다\n"
     ]
    }
   ],
   "source": [
    "string01 = \"Dave ID is dave\"\n",
    "string.find(\"x\")\n",
    "string.find(\"D\")\n",
    "\n",
    "if string01.find(\"x\") == -1 :\n",
    "    print(\"x는 sting01 문자열 객체 안에 없습니다\")"
   ]
  },
  {
   "cell_type": "code",
   "execution_count": 16,
   "id": "fccd6490-092a-4294-9cd5-33387e972331",
   "metadata": {},
   "outputs": [
    {
     "data": {
      "text/plain": [
       "'1,2,3,4,5'"
      ]
     },
     "execution_count": 16,
     "metadata": {},
     "output_type": "execute_result"
    }
   ],
   "source": [
    "string02 = \"12345\"\n",
    "comma = \",\"\n",
    "\n",
    "comma.join(string02)"
   ]
  },
  {
   "cell_type": "code",
   "execution_count": 20,
   "id": "0710b679-7eec-4b3e-8c4a-3a5bfed5c971",
   "metadata": {},
   "outputs": [
    {
     "data": {
      "text/plain": [
       "'     Dave'"
      ]
     },
     "execution_count": 20,
     "metadata": {},
     "output_type": "execute_result"
    }
   ],
   "source": [
    "data01 = \"     Dave        \"\n",
    "data01.strip()\n",
    "\n",
    "data02 = \"     Dave        \"\n",
    "data02.lstrip()\n",
    "\n",
    "data02 = \"     Dave        \"\n",
    "data02.rstrip()"
   ]
  },
  {
   "cell_type": "code",
   "execution_count": 29,
   "id": "828de25a-a557-4e95-84f1-1441590fca7d",
   "metadata": {},
   "outputs": [
    {
     "data": {
      "text/plain": [
       "'Dav'"
      ]
     },
     "execution_count": 29,
     "metadata": {},
     "output_type": "execute_result"
    }
   ],
   "source": [
    "string03 = \"            999999999999(Dave)8888   \"\n",
    "string03.strip(\" 98(e)\")"
   ]
  },
  {
   "cell_type": "code",
   "execution_count": 30,
   "id": "f09dc8c8-d43f-4bec-b510-d53f3e919e3e",
   "metadata": {},
   "outputs": [
    {
     "data": {
      "text/plain": [
       "'DAVE ID IS DAVE'"
      ]
     },
     "execution_count": 30,
     "metadata": {},
     "output_type": "execute_result"
    }
   ],
   "source": [
    "string04 = \"Dave ID is dave\"\n",
    "string04.upper()"
   ]
  },
  {
   "cell_type": "code",
   "execution_count": 31,
   "id": "5ea87e3e-957b-4074-b539-ac7e88209b41",
   "metadata": {},
   "outputs": [
    {
     "data": {
      "text/plain": [
       "'dave id is dave'"
      ]
     },
     "execution_count": 31,
     "metadata": {},
     "output_type": "execute_result"
    }
   ],
   "source": [
    "string05 = \"Dave ID is dave\"\n",
    "string05.lower()"
   ]
  },
  {
   "cell_type": "code",
   "execution_count": 35,
   "id": "feb370a2-9943-4b4e-ae01-69cd9e04b196",
   "metadata": {},
   "outputs": [
    {
     "data": {
      "text/plain": [
       "['Dave', 'goes', 'to', 'Korea']"
      ]
     },
     "execution_count": 35,
     "metadata": {},
     "output_type": "execute_result"
    }
   ],
   "source": [
    "string06 = \"Dave goes to Korea\"\n",
    "string06.split()[3]\n",
    "string06.split(\" \")\n",
    "\n",
    "string07 = \"Dave/goes/to/Korea\"\n",
    "string07.split(\"/\")"
   ]
  },
  {
   "cell_type": "markdown",
   "id": "f323b2c4-673c-43db-9fac-8f88d40a3e09",
   "metadata": {},
   "source": [
    "#### 문자열 \"10, 11, 12, 13, 14\" 해당값을 리스트 형태 [10, 11, 12, 13, 14] 로 변환"
   ]
  },
  {
   "cell_type": "code",
   "execution_count": 53,
   "id": "07eb5517-4194-4db7-bb27-8ccb2ea6219a",
   "metadata": {},
   "outputs": [
    {
     "name": "stdout",
     "output_type": "stream",
     "text": [
      "[10, 11, 12, 13, 14]\n"
     ]
    }
   ],
   "source": [
    "string08 = \"10,11,12,13,14\"\n",
    "split_string08 = string08.split(\",\")\n",
    "\n",
    "for index, split_item in enumerate(split_string08) :\n",
    "    split_string08[index] = int(split_item)\n",
    "print(split_string08)"
   ]
  },
  {
   "cell_type": "code",
   "execution_count": 10,
   "id": "03c07f6d-12a1-41fa-8c8c-fb53be8d33c7",
   "metadata": {},
   "outputs": [
    {
     "data": {
      "text/plain": [
       "'David'"
      ]
     },
     "execution_count": 10,
     "metadata": {},
     "output_type": "execute_result"
    }
   ],
   "source": [
    "string08 = \"Dave goes to Korea\"\n",
    "string08.replace(\"Dave\", \"David\")\n",
    "\n",
    "string09 = \"(David)\"\n",
    "string09.replace(\"(\", \"\")\n",
    "\n",
    "string10 = \"(David)\"\n",
    "string10.replace(\"()\", \"\")\n",
    "\n",
    "string11 = \"(David)\"\n",
    "string12 = string11.replace(\"(\", \"\")\n",
    "string12.replace(\")\", \"\")\n",
    "\n",
    "# Method Chaining\n",
    "string13 = string11.replace(\"(\",\"\").replace(\")\",\"\")\n",
    "string13"
   ]
  }
 ],
 "metadata": {
  "kernelspec": {
   "display_name": "Python [conda env:anaconda3]",
   "language": "python",
   "name": "conda-env-anaconda3-py"
  },
  "language_info": {
   "codemirror_mode": {
    "name": "ipython",
    "version": 3
   },
   "file_extension": ".py",
   "mimetype": "text/x-python",
   "name": "python",
   "nbconvert_exporter": "python",
   "pygments_lexer": "ipython3",
   "version": "3.13.5"
  }
 },
 "nbformat": 4,
 "nbformat_minor": 5
}
