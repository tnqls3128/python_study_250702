{
 "cells": [
  {
   "cell_type": "markdown",
   "id": "bcecd970-f534-4aa0-9ad1-4803979b6acb",
   "metadata": {},
   "source": [
    "5. 대법원 판례 검색 페이지에서 최근 등록된 판례 제목을 10개 수집하세요."
   ]
  },
  {
   "cell_type": "code",
   "execution_count": 13,
   "id": "6085e81d-e6ef-42a5-b08b-1c810a400148",
   "metadata": {},
   "outputs": [
    {
     "name": "stdout",
     "output_type": "stream",
     "text": [
      "1. 대법원 2023.12.07 선고 2020도15393 판결 [근로기준법위반ㆍ근로자퇴직급여보장법위반]〈1주간 12시간의 연장근로한도 위반 여부가 문제된 사건〉 [공2024상,161]\n",
      "2. 대법원 2023.12.07 선고 2023다246600 판결 [손해배상(기)]〈집합건물 시공자가 구분소유자에 대하여 부담하는 담보책임이 문제된 사건〉 [공2024상,114]\n",
      "3. 대법원 2023.12.07 선고 2023다269139 판결 [소유권이전등기]〈아파트 매매계약서에 인도일과 실제 명도일 약정이 별도로 있는 경우 매도인의 현실인도의무 인정 여부가 문제된 사건〉 [공2024상,117]\n",
      "4. 대법원 2023.12.07 선고 2022다279795 판결 [건물인도]〈임차인의 계약갱신 요구에 대하여 임대인이 실제 거주를 이유로 갱신거절한 후 그 주택의 인도를 구하는 사건〉 [공2024상,110]\n",
      "5. 대법원 2023.12.07 선고 2020도17863 판결 [저작권법위반ㆍ부정경쟁방지및영업비밀보호에관한법률위반]〈외국에서 수입·판매한 만화 캐릭터 미니블록 제품에 대한 배포권 침해 여부가 문제된 사건〉 [공2024상,165]\n",
      "6. 대법원 2023.12.07 선고 2020두42668 판결 [법인지방소득세경정거부처분취소]〈개정된 세법 부칙조항을 근거로 납세의무자에게 유리한 종전 규정을 적용하기 위한 요건〉 [공2024상,147]\n",
      "7. 대법원 2023.11.30 선고 2023다259743 판결 [임대차보증금]〈다가구주택 임대차계약을 중개한 공인중개사의 주의의무 이행 여부가 문제된 사건〉 [공2024상,104]\n",
      "8. 대법원 2023.11.30 선고 2022다280283 판결 [손해배상(기)]〈일제 강제징용 노동자상을 제작·설치한 조각가 부부가 해당 노동자상의 모델이 일본인이라는 발언 등을 한 피고를 상대로 손해배상을 청구한 사건〉 [공2024상,97]\n",
      "9. 대법원 2023.11.30 선고 2019두53952 판결 [차별시정재심판정취소]〈시립 의료원 소속 기간제근로자가 정규직 근로자에 비해 차별적 처우를 받았다는 이유로 차별시정을 구한 사건〉 [공2024상,128]\n",
      "10. 대법원 2023.11.30 선고 2020도10180 판결 [저작권법위반]〈저작인격권 침해로 인한 저작권법위반죄 해당 여부가 문제된 사건〉 [공2024상,155]\n"
     ]
    }
   ],
   "source": [
    "from selenium import webdriver\n",
    "from selenium.webdriver.chrome.service import Service\n",
    "from selenium.webdriver.common.by import By\n",
    "from selenium.webdriver.chrome.options import Options\n",
    "from webdriver_manager.chrome import ChromeDriverManager\n",
    "import time\n",
    "\n",
    "service = Service(ChromeDriverManager().install())\n",
    "options = Options()\n",
    "\n",
    "options.add_argument(\"window-size=1920x1080\")\n",
    "options.add_argument(\"--start-maximized\")\n",
    "options.add_argument(\"--disable-gpu\")\n",
    "options.add_argument(\"--user-agent=Mozilla/5.0 (Macintosh; Intel Mac OS X 10_15_7) AppleWebKit/537.36 (KHTML, like Gecko) Chrome/138.0.0.0 Safari/537.36\")\n",
    "options.add_argument(\"lang=ko_KR\")\n",
    "\n",
    "driver = webdriver.Chrome(service=service, options=options)\n",
    "\n",
    "driver.get(\"https://portal.scourt.go.kr/pgp/index.on?m=PGP1011M01&l=N&c=900\")\n",
    "\n",
    "time.sleep (5)\n",
    "\n",
    "elements = driver.find_elements(By.CSS_SELECTOR, \".w2anchor.infoTit\")\n",
    "\n",
    "for idx, element in enumerate(elements[:10], start=1) :\n",
    "    print(f\"{idx}. {element.text}\")\n",
    "\n",
    "driver.quit()"
   ]
  },
  {
   "cell_type": "markdown",
   "id": "cf296f14-efab-4888-b7f6-4ef1e385e461",
   "metadata": {},
   "source": [
    "6. 삼성전자 뉴스룸에서 최근 기사 제목과 날짜를 수집하세요."
   ]
  },
  {
   "cell_type": "code",
   "execution_count": 2,
   "id": "0ba1e24e-62af-4079-8f22-61464b6b5ef2",
   "metadata": {},
   "outputs": [],
   "source": [
    "import requests\n",
    "from bs4 import BeautifulSoup\n",
    "\n",
    "url = \"https://news.samsung.com/kr/\"\n",
    "res = requests.get(url)\n",
    "soup = BeautifulSoup(res.content, \"html.parser\")\n",
    "\n",
    "datas = soup.select(\"ul#recent_list_box > li\")\n",
    "\n",
    "index = 0\n",
    "for data in datas :\n",
    "    title = data.select_one(\"span.ellipsis.is-truncated\")\n",
    "    date = data.select_one(\"span.date\")\n",
    "    if title != None:\n",
    "        index += 1\n",
    "        print(index, title.get_text().strip(), date.get_text().strip())"
   ]
  },
  {
   "cell_type": "code",
   "execution_count": 12,
   "id": "dbf29dca-d44c-431d-9691-05ad13ce3145",
   "metadata": {},
   "outputs": [
    {
     "name": "stdout",
     "output_type": "stream",
     "text": [
      "1 [인포그래픽] 결제를 넘어 일상의 모든 순간까지, ‘삼성월렛’ 10년의 기록 2025/08/11\n",
      "2 삼성월렛 출시 10주년, 결제를 넘어 일상 속 디지털 지갑으로 진화 2025/08/11\n",
      "3 삼성전자, 장 줄리앙 협업 갤럭시 폴더블 체험존 방문객 10만명 돌파…1030세대 사로잡다 2025/08/10\n",
      "4 삼성전자, 미국 정부 주최 'AI 사이버 챌린지(AIxCC)'에서 우승, 글로벌 보안 기술 리더십 입증 2025/08/09\n",
      "5 예방적 건강 관리를 위한 새 기준... 혁신적인 갤럭시 워치 센서 기술 2025/08/07\n",
      "6 삼성전자, 게임스컴 2025 참가… 통합 게이밍 경험 제공 2025/08/06\n"
     ]
    }
   ],
   "source": [
    "from selenium import webdriver\n",
    "from selenium.webdriver.chrome.service import Service\n",
    "from selenium.webdriver.common.by import By\n",
    "from selenium.webdriver.chrome.options import Options\n",
    "from webdriver_manager.chrome import ChromeDriverManager\n",
    "import time\n",
    "\n",
    "service = Service(ChromeDriverManager().install())\n",
    "options = Options()\n",
    "\n",
    "options.add_argument(\"window-size=1920x1080\")\n",
    "options.add_argument(\"--start-maximized\")\n",
    "options.add_argument(\"--disable-gpu\")\n",
    "options.add_argument(\"--user-agent=Mozilla/5.0 (Macintosh; Intel Mac OS X 10_15_7) AppleWebKit/537.36 (KHTML, like Gecko) Chrome/138.0.0.0 Safari/537.36\")\n",
    "options.add_argument(\"lang=ko_KR\")\n",
    "\n",
    "driver = webdriver.Chrome(service=service, options=options)\n",
    "\n",
    "driver.get(\"https://news.samsung.com/kr/\")\n",
    "\n",
    "time.sleep (2)\n",
    "\n",
    "elements = driver.find_elements(By.CSS_SELECTOR, \"ul#recent_list_box > li\")\n",
    "\n",
    "for idx, el in enumerate(elements,start = 1) :\n",
    "    title = el.find_element(By.CSS_SELECTOR, \"span.title > span.ellipsis\")\n",
    "    date = el.find_element(By.CSS_SELECTOR, \"div.desc span.date\")\n",
    "    \n",
    "    print(idx, title.text, date.text)\n",
    "\n",
    "driver.quit()"
   ]
  },
  {
   "cell_type": "markdown",
   "id": "66f1eef0-3218-42f9-ac82-e99a7c1c5885",
   "metadata": {},
   "source": [
    "7. 롯데시네마에서 현재 상영작 제목을 수집하세요."
   ]
  },
  {
   "cell_type": "code",
   "execution_count": 29,
   "id": "636c5fc6-2ad4-490f-a109-b613368436a2",
   "metadata": {},
   "outputs": [
    {
     "name": "stdout",
     "output_type": "stream",
     "text": [
      "1.좀비딸\n",
      "2.F1 더 무비\n",
      "3.킹 오브 킹스\n",
      "4.발레리나\n",
      "5.[보석특가]죠스\n",
      "6.스머프\n",
      "7.배드 가이즈 2\n",
      "8.전지적 독자 시점\n",
      "9.명탐정 코난: 척안의 잔상\n",
      "10.야당: 익스텐디드 컷\n",
      "11.고고다이노 극장판: 게코도마뱀의 꿈\n",
      "12.극장판 도라에몽: 진구의 그림이야기\n",
      "13.추적\n",
      "14.판타스틱 4: 새로운 출발\n",
      "15.베베핀 극장판: 사라진 베베핀과 핑크퐁 대모험\n",
      "16.노이즈\n",
      "17.여름이 지나가면\n",
      "18.시네마 천국\n",
      "19.탑건: 매버릭\n",
      "20.[보석특가]셔터 아일랜드\n",
      "21.수연의 선율\n",
      "22.영화 코바야시네 메이드래곤 외로움쟁이 용\n",
      "23.쥬라기 월드: 새로운 시작\n",
      "24.라라랜드\n",
      "25.여름정원\n",
      "26.이사\n",
      "27.퇴마록\n",
      "28.괴기열차\n",
      "29.무명\n",
      "30.발코니의 여자들\n",
      "31.비밀의 화원\n",
      "32.소주전쟁\n",
      "33.스즈메의 문단속\n",
      "34.신명\n",
      "35.씨그널: 바다의 마지막 신호\n",
      "36.알사탕\n",
      "37.어네스트와 셀레스틴: 멜로디 소동\n",
      "38.우리 둘 사이에\n",
      "39.우리들의 교복시절\n",
      "40.일과 날\n",
      "41.잔챙이\n",
      "42.틴 솔저\n"
     ]
    }
   ],
   "source": [
    "from selenium import webdriver\n",
    "from selenium.webdriver.chrome.service import Service\n",
    "from selenium.webdriver.common.by import By\n",
    "from selenium.webdriver.chrome.options import Options\n",
    "from webdriver_manager.chrome import ChromeDriverManager\n",
    "import time\n",
    "\n",
    "service = Service(ChromeDriverManager().install())\n",
    "options = Options()\n",
    "\n",
    "options.add_argument(\"window-size=1920x1080\")\n",
    "options.add_argument(\"--start-maximized\")\n",
    "options.add_argument(\"--disable-gpu\")\n",
    "options.add_argument(\"--user-agent=Mozilla/5.0 (Macintosh; Intel Mac OS X 10_15_7) AppleWebKit/537.36 (KHTML, like Gecko) Chrome/138.0.0.0 Safari/537.36\")\n",
    "options.add_argument(\"lang=ko_KR\")\n",
    "\n",
    "driver = webdriver.Chrome(service=service, options=options)\n",
    "\n",
    "driver.get(\"https://www.lottecinema.co.kr/NLCHS/Movie/List?flag=1\")\n",
    "\n",
    "time.sleep (2)\n",
    "\n",
    "elements = driver.find_elements(By.CSS_SELECTOR, \"strong.tit_info\")\n",
    "\n",
    "for idx, element in enumerate(elements,start = 1) :\n",
    "    print(f\"{idx}.{element.text}\")"
   ]
  },
  {
   "cell_type": "markdown",
   "id": "5fb5d9db-e5f6-4460-a125-88fa4ed72fe7",
   "metadata": {},
   "source": [
    "8. 노컷뉴스 연예면 주요 기사 제목을 5개 수집하세요"
   ]
  },
  {
   "cell_type": "code",
   "execution_count": 30,
   "id": "1f9c8d3c-c274-48b8-a052-c4e198c1e24d",
   "metadata": {},
   "outputs": [
    {
     "name": "stdout",
     "output_type": "stream",
     "text": [
      "1.올해 빛낼 시리즈 먼저 만난다 …부국제 올해의 온 스크린은?\n",
      "2.정윤호도 포기했던 갯벌 싸움…류승룡 '파인' 레슨 또 있었다\n",
      "3.이병헌이 연 문, 수현이 닫는다…부국제 폐막식 사회자 선정\n",
      "4.세븐틴 네 번째 유닛 에스쿱스X민규, 9월 앨범 발매 준비 중\n",
      "5.\"웬즈데이 만나면? 서로 고집 세서…\" 제나 오르테가 웃음[현장EN:]\n"
     ]
    }
   ],
   "source": [
    "from selenium import webdriver\n",
    "from selenium.webdriver.chrome.service import Service\n",
    "from selenium.webdriver.common.by import By\n",
    "from selenium.webdriver.chrome.options import Options\n",
    "from webdriver_manager.chrome import ChromeDriverManager\n",
    "import time\n",
    "\n",
    "service = Service(ChromeDriverManager().install())\n",
    "options = Options()\n",
    "\n",
    "options.add_argument(\"window-size=1920x1080\")\n",
    "options.add_argument(\"--start-maximized\")\n",
    "options.add_argument(\"--disable-gpu\")\n",
    "options.add_argument(\"--user-agent=Mozilla/5.0 (Macintosh; Intel Mac OS X 10_15_7) AppleWebKit/537.36 (KHTML, like Gecko) Chrome/138.0.0.0 Safari/537.36\")\n",
    "options.add_argument(\"lang=ko_KR\")\n",
    "\n",
    "driver = webdriver.Chrome(service=service, options=options)\n",
    "\n",
    "driver.get(\"https://www.nocutnews.co.kr/news/entertainment\")\n",
    "\n",
    "time.sleep (2)\n",
    "\n",
    "elements = driver.find_elements(By.CSS_SELECTOR, \"strong.clamp2\")\n",
    "\n",
    "for idx, element in enumerate(elements[:5], start = 1) :\n",
    "    print(f\"{idx}.{element.text}\")"
   ]
  },
  {
   "cell_type": "markdown",
   "id": "c4e23f98-66e7-43ba-a2c7-41e1689ad28d",
   "metadata": {},
   "source": [
    "9. 아프리카TV 인기 방송 제목을 수집하세요."
   ]
  },
  {
   "cell_type": "code",
   "execution_count": 36,
   "id": "4ed7adee-c0df-4d4c-8b7a-882d808c7fd9",
   "metadata": {},
   "outputs": [
    {
     "name": "stdout",
     "output_type": "stream",
     "text": [
      "1.[T1 vs BFX] 2025 LCK CL ROUND 4\n",
      "2.[LPL NIP vs UP] 도인비 매직 아직 안끝났다... #LPLCostream\n",
      "3.[정선 287화] 뉴시그&퐁당데이 신입인턴1명 있습니다! 하랑짱X왕츄X경아X해아X유민X젠이X소유X보미X만다X태리츄X빅코X수이X잎슬X섭이\n",
      "4.[뉴캣슬]스타 도재욱 토스반 디코회의\n",
      "5.[GD컴퍼니] 마지막화 히든룰! 기여도펌핑&룰렛데이 기뉴다x뿌잉x홍연x정설x율리x베베x시월x히메x지민x서하x규리x가을x델진x가왕\n",
      "6.[수니그룹] 뮤직 지면 북한산이다!\n",
      "7.[아카이브] 단코한끼몽 롤 X 더벤티 드롭스\n",
      "8.장지수 친구하실분 [무수]\n",
      "9.여르미 왓쪈~ [아카이브]\n",
      "10.공포게임 명작 사일런트힐2 엔딩까지\n",
      "11.여르미 왓쪈~ [아카이브]\n",
      "12.360도 카메라 성공해서 코난 보기\n",
      "13.딴쥬랑 코난 [눈동자 속에 암살자] 같이보기\n",
      "14.[호라이즌] 코난 같이보기 코알못 주의 / 유입 와주면 잘 해줄게요🩷\n",
      "15.[애니보기] 명탐정 코난 세기말의 마술사 (안본👀)\n",
      "16.월요병퇴마사\n",
      "17.강숙이vs샾숙이 뭐가 맞지.. 메이플랜드\n",
      "18.일본에사는대만인)오늘은 마트에 파는 연어초밥ㅎㅎ 이번주 날씨가 안 좋을 것 같아요ㅠㅠ\n",
      "19.서든_(오늘은 서든몬함..손치료중(스팀겜 팬시참💗양은총/자연언니💕퀵뷰7개💜맞방\n",
      "20.하이 나 배진녀 핑코\n",
      "21.제갈금자의 한 수 토크쇼 \"금수쇼\" - 폐급들의 전쟁편\n",
      "22.윤비의 힙합감별소 - ep.3\n",
      "23.인방수업 2교시 - 유저를 모으는 법!\n",
      "24.사운드체크 - 6월 하이라이트\n",
      "25.윤비의 힙합감별소 - ep.2\n",
      "26.[코렛트] 단코한끼몽 롤X더벤티 드롭스\n",
      "27.[LPL NIP vs UP] 도인비 매직 아직 안끝났다... #LPLCostream\n",
      "28.오랜만에 요네?!?!? (7시 오함마 ppt 대기중\n",
      "29.c1 1492p 롤 터져서 성훈+밤바 vs 병현+열혈형님 윷놀이\n",
      "30.[아카이브]간만에 그 녀석들과 롤합니다. 더벤티X롤 드롭스 이벤트!(w.단코한끼)\n",
      "31.♥2000~2025년 발라드 댄스♥인기노래♥최신♥추억음악♥히트곡♥라디오♥\n",
      "32.음악방송 멜론노래 24시간 듣기좋은 발라드명곡차트 가수히트곡인기가요 음방최신가요팝송힙합댄스곡뮤직라디오퀵뷰섹시소통신입잠방\n",
      "33.❤️24시간음악힐링❤️855음방❤️당신보다 더 소중한 사람은없습니다❤️\n",
      "34.8.11 베스트 스트리머 12일차 [신입]❤️라디오방❤️\n",
      "35.EDM 오늘만 음방 reset 250811 0127.\n",
      "36.안뇽하ㅓ세요\n",
      "37.좋은 점심 💓\n",
      "38.영상풍선 보기 : 잔잔 힐링 고양낚시\n",
      "39.소통하는대별이\n",
      "40.[순혈/뉴걸] 킬룰렛 오픈! 추가33/330 감소34/340 카서스 노래대회/ 베스신청했어요!\n"
     ]
    }
   ],
   "source": [
    "from selenium import webdriver\n",
    "from selenium.webdriver.chrome.service import Service\n",
    "from selenium.webdriver.common.by import By\n",
    "from selenium.webdriver.chrome.options import Options\n",
    "from webdriver_manager.chrome import ChromeDriverManager\n",
    "import time\n",
    "\n",
    "service = Service(ChromeDriverManager().install())\n",
    "options = Options()\n",
    "\n",
    "options.add_argument(\"window-size=1920x1080\")\n",
    "options.add_argument(\"--start-maximized\")\n",
    "options.add_argument(\"--disable-gpu\")\n",
    "options.add_argument(\"--user-agent=Mozilla/5.0 (Macintosh; Intel Mac OS X 10_15_7) AppleWebKit/537.36 (KHTML, like Gecko) Chrome/138.0.0.0 Safari/537.36\")\n",
    "options.add_argument(\"lang=ko_KR\")\n",
    "\n",
    "driver = webdriver.Chrome(service=service, options=options)\n",
    "\n",
    "url = \"https://www.sooplive.co.kr/\"\n",
    "driver.get(url)\n",
    "\n",
    "time.sleep (2)\n",
    "\n",
    "elements = driver.find_elements(By.CSS_SELECTOR, \"h3.title > a\")\n",
    "\n",
    "idx = 1\n",
    "for element in elements :\n",
    "    text = element.text.strip()\n",
    "    if text :\n",
    "        print(f\"{idx}.{text}\")\n",
    "        idx +=1\n"
   ]
  },
  {
   "cell_type": "markdown",
   "id": "6caf5965-1501-4d40-835a-c2cba1df77f7",
   "metadata": {},
   "source": [
    "10. 마이리얼트립에서 인기 도시별 여행 상품 제목을 수집하세요."
   ]
  },
  {
   "cell_type": "code",
   "execution_count": 43,
   "id": "0656a25f-ddd0-4f60-b002-698198272378",
   "metadata": {},
   "outputs": [
    {
     "name": "stdout",
     "output_type": "stream",
     "text": [
      "1.[산큐패스] 규슈 지역의 무제한 승하차 버스 티켓 (후쿠오카 근교)\n",
      "2.[🎁모찌증정&입장료포함] 매일출발 후쿠오카버스투어 다자이후 유후인 벳푸 투어 (라쿠투어)\n",
      "3.후쿠오카 마린월드 우미노나카미치 수족관 입장권\n",
      "4.[즉시확정] JR 북큐슈 레일패스\n",
      "5.[즉시확정] JR 북큐슈 레일패스\n",
      "6.JR 큐슈 모바일 패스（후쿠오카 와이드）\n",
      "7.산요신칸센 고쿠라-하카타 QR티켓 (자유석)\n",
      "8.후쿠오카 그린패스 (시내버스 1일 자유승차권)\n",
      "9.[🎁모찌증정&입장료포함] 매일출발 후쿠오카버스투어 다자이후 유후인 벳푸 투어 (라쿠투어)\n",
      "10.[인디고트래블] 후쿠오카 유후인 버스투어 #제휴혜택까지\n",
      "11.[여행 한 그릇] 사진 촬영 혜택, 후쿠오카,다자이후,유후인,유후다케,벳푸 버스 투어\n",
      "12.얼리유후인 후쿠오카 유후인 일일 버스투어 1명부터 대형버스 출발 직원가이드[하루하루투어]\n",
      "13.[💓히타오픈💓] \"히타+유후인+유후다케+벳푸\" 후쿠오카 버스투어 일일투어 (라쿠투어)\n",
      "14.[매일확정, 🎁소금푸딩] 이토시마 후쿠오카 일일 버스투어(이토시마, 가라츠, 이마리)\n",
      "15.[라이카 사진 촬영 포함] 후쿠오카, 유후인, 유후다케, 벳푸 가마도 지옥 버스 투어\n",
      "16.[1명부터출발확정] 후쿠오카 이토시마 반나절 버스투어 1명부터 대형버스 한국인가이드\n",
      "17.[[프라이빗 차량 으로 떠나는 벳푸 아프리칸 사파리! \"아이들도 엄마 아빠도 편하게-\"]]\n",
      "18.<후쿠오카/시모노세키> VIP만을 위한 근교 단독투어 [여행자보증보험가입업체]-현지지불없음\n",
      "19.유후인/ 히타 /벳푸 /다자이후/아프리칸사파리 【맞춤형가족, 1일 후쿠오카 출발,프라이빗】\n",
      "20.[키즈 프라이빗 투어] 후쿠오카로 가는 아프리칸 사파리! 하카타 출발, 벳푸 원데이트립\n",
      "21.하우스텐보스 입장권 1DAY 패스포트\n",
      "22.하우스텐보스 서머 나이트 불꽃놀이 디저트 뷔페 크루즈\n",
      "23.하우스텐보스 1일 프리패스와 송영버스를 한번에! / B-0155\n",
      "24.[즉시 확정] 산리오 하모니랜드 입장권(후쿠오카)\n",
      "25.기타큐슈&시모노세키시 조이 패스 (3시설)\n",
      "26.후쿠오카 마린월드 우미노나카미치 수족관 입장권\n",
      "27.후쿠오카 타워 전망대 입장권\n",
      "28.팀랩 포레스트 후쿠오카 입장권\n"
     ]
    }
   ],
   "source": [
    "from selenium import webdriver\n",
    "from selenium.webdriver.chrome.service import Service\n",
    "from selenium.webdriver.common.by import By\n",
    "from selenium.webdriver.chrome.options import Options\n",
    "from webdriver_manager.chrome import ChromeDriverManager\n",
    "import time\n",
    "\n",
    "service = Service(ChromeDriverManager().install())\n",
    "options = Options()\n",
    "\n",
    "options.add_argument(\"window-size=1920x1080\")\n",
    "options.add_argument(\"--start-maximized\")\n",
    "options.add_argument(\"--disable-gpu\")\n",
    "options.add_argument(\"--user-agent=Mozilla/5.0 (Macintosh; Intel Mac OS X 10_15_7) AppleWebKit/537.36 (KHTML, like Gecko) Chrome/138.0.0.0 Safari/537.36\")\n",
    "options.add_argument(\"lang=ko_KR\")\n",
    "\n",
    "driver = webdriver.Chrome(service=service, options=options)\n",
    "\n",
    "url = \"https://www.myrealtrip.com/promotions/Fukuokabest\"\n",
    "driver.get(url)\n",
    "\n",
    "time.sleep (2)\n",
    "\n",
    "elements = driver.find_elements(By.CSS_SELECTOR, \"span.css-1gdohtq\")\n",
    "for idx, element in enumerate(elements, start = 1) :\n",
    "    print(f\"{idx}.{element.text}\")\n",
    "\n",
    "driver.quit()"
   ]
  }
 ],
 "metadata": {
  "kernelspec": {
   "display_name": "Python [conda env:anaconda3]",
   "language": "python",
   "name": "conda-env-anaconda3-py"
  },
  "language_info": {
   "codemirror_mode": {
    "name": "ipython",
    "version": 3
   },
   "file_extension": ".py",
   "mimetype": "text/x-python",
   "name": "python",
   "nbconvert_exporter": "python",
   "pygments_lexer": "ipython3",
   "version": "3.13.5"
  }
 },
 "nbformat": 4,
 "nbformat_minor": 5
}
