{
 "cells": [
  {
   "cell_type": "markdown",
   "id": "767c633f-8495-45f0-92d2-4e15b6b127e5",
   "metadata": {},
   "source": [
    "11. 대한민국 국회 홈페이지에서 최근 입법안 제목 10개를 수집하세요."
   ]
  },
  {
   "cell_type": "code",
   "execution_count": 14,
   "id": "32ac8956-f8e6-4485-908b-d5c4e8bd79f0",
   "metadata": {},
   "outputs": [
    {
     "name": "stdout",
     "output_type": "stream",
     "text": [
      "1.방송법 일부개정법률안(대안)\n",
      "2.의사일정 변경동의의 건(문진석의원 등 167인)\n",
      "3.공항시설법 일부개정법률안(대안)\n",
      "4.보건의료기본법 일부개정법률안(대안)\n",
      "5.건설산업기본법 일부개정법률안(대안)\n",
      "6.빈집 및 소규모주택 정비에 관한 특례법 일부개정법률안(대...\n"
     ]
    }
   ],
   "source": [
    "from selenium import webdriver\n",
    "from selenium.webdriver.chrome.service import Service\n",
    "from selenium.webdriver.chrome.options import Options\n",
    "from selenium.webdriver.common.by import By\n",
    "from webdriver_manager.chrome import ChromeDriverManager\n",
    "import time\n",
    "\n",
    "service = Service(ChromeDriverManager().install())\n",
    "options = Options()\n",
    "options.add_argument(\"--headless\")\n",
    "options.add_argument(\"--window-size=1920x1080\")\n",
    "options.add_argument(\"--start-maximized\")\n",
    "options.add_argument(\"--user-agent=Mozilla/5.0 (Macintosh; Intel Mac OS X 10_15_7) AppleWebKit/537.36 (KHTML, like Gecko) Chrome/138.0.0.0 Safari/537.36\")\n",
    "\n",
    "\n",
    "driver = webdriver.Chrome(service=service, options=options)\n",
    "\n",
    "url = \"https://likms.assembly.go.kr/bill/main.do\"\n",
    "driver.get(url)\n",
    "\n",
    "time.sleep(10)\n",
    "\n",
    "titles = driver.find_elements (By.CSS_SELECTOR, \"div.contClistIn p.tit a\")\n",
    "\n",
    "for i, title in enumerate(titles[:10], 1):\n",
    "    print(f\"{i}.{title.text.strip()}\")\n",
    "\n",
    "driver.quit()"
   ]
  },
  {
   "cell_type": "markdown",
   "id": "371d381a-af90-4002-80d4-b6217d25ec51",
   "metadata": {},
   "source": [
    "12. KBS 뉴스 홈페이지에서 주요 뉴스 타이틀을 수집하세요"
   ]
  },
  {
   "cell_type": "code",
   "execution_count": 19,
   "id": "22719619-f313-41d8-b36b-3984c04d8005",
   "metadata": {
    "scrolled": true
   },
   "outputs": [
    {
     "name": "stdout",
     "output_type": "stream",
     "text": [
      "1.[속보] 이 대통령 “반복적 산재 입찰 자격 영구 박탈·\n",
      "신고 시 포상금 지급”\n",
      "2.김건희 서울남부구치소 대기 …‘집사’ 귀국 전 인터뷰\n",
      "3.[단독] “나는 제2최순실 아니다” …‘김건희 집사’ 김예성 단독 인터뷰\n",
      "4.이 대통령, 트럼프 초청 방미…\n",
      "25일 한미 정상회담\n",
      "5.대통령실 “주식 양도세 상황 지켜보겠다…입장 변화 없어”\n",
      "6.‘감전 사고’ 포스코이앤씨 압수수색…“안전 조치 확인”\n",
      "7.입점업체 ‘선결제 쿠폰’ 안 돌려준 야놀자·여기어때에 공정위 제재\n",
      "8.추경호, 계엄 직후 홍철호와 통화…특검, 국힘 의원 텔레그램방 삭제 정황 파악\n",
      "9.해병특검, 내일 조태용 전 실장 3차 소환…“비화폰 통화기록 확보”\n",
      "10.“2년 더 했으면 나라 꼴…” 이해찬 고문의 일갈\n",
      "11.일본·미국 돈 들어갔는데 K팝?…케데헌 ‘골든’의 국적은?\n",
      "12.20년 전 홍콩서 산 가품이라더니…특검 “서희건설,\n",
      "자수서 제출”\n",
      "13.민주당, 대법관 ‘14명→30명 증원’ 가닥…“추석 전 마무리”\n",
      "14.‘돌아온 조국’ 앞에 놓인 3가지 변수…정국 돌풍될까?\n",
      "15.[단독] 한국 앞바다로 온 영국 항모전단…‘4각 연대’로 중국 압박 동참?\n",
      "16.이화여대가 가장 비쌌다, 그 다음은?…서울 대학가 월세 현황\n",
      "17.‘서울의 봄’ 김오랑 중령, 전사 46년만에 국가배상 판결\n",
      "18.호텔 탓? 주인 탓? 해외 일정 중 사망한 반려견 논쟁\n",
      "19.부모에게 50만 원 보내도 증여세?…국세청 “사실무근”\n",
      "20.코로나19 입원환자 5주 연속 증가…향후 2주 증가세 이어질듯\n",
      "21.[🔴현장] 이재명 대통령 부부, 또 럼 베트남 당 서기장 부부와 친교 행사/2025년 8월 12일(화)/KBS\n",
      "22.[🔴LIVE] '집사게이트' 핵심인물 김예성 귀국 즉시 체포…이 시각 인천공항/2025년 8월 12일(화)/KBS\n",
      "23.젤렌스키 “푸틴, 휴전 아닌 새로운 공격 준비 중”\n",
      "24.한국전력 2분기 영업익 2조1천359억원…전년보다 70.8%↑\n",
      "25.푸틴 측근 러시아 하원의장, 광복절 축하차 14∼15일 방북\n",
      "26.정부·통신 3사, AI 투자 협력 선언…“AI 유망 기업에 2,400억 투자”\n",
      "27.헝가리, ‘우크라이나 지지’ EU 성명 동참 거부\n",
      "28.이마트 2분기 영업이익 216억 원…흑자 전환\n",
      "29.[단독] “나는 제2최순실 아니다”…‘김건희 집사’ 김예성 단독 인터뷰\n",
      "30.유럽 가성비 여행지 ‘이곳’, 지금은 ‘물가 폭탄 구역’\n",
      "31.‘아무것도 아닌 사람’ 무슨 뜻? 법원 출석하며 ‘침묵’\n",
      "32.“봉이 빙선달?” 얼음만 1만 2천원 ‘평양빙수’ 논란\n",
      "33.김건희 여사 구속심사 4시간여 만에 종료…서울남부구치소 이동\n",
      "34.“여성 사우나가 밖에서 훤히”…호텔 측 공식 사과\n",
      "35.[크랩] 관세도 관세인데, 원자재값 폭등하면 우린 어떡함?\n",
      "36.[크랩] NC 다이노스, 결국 연고지 옮기나?\n",
      "37.[크랩] “전주광역시 이번엔 가능?” 전주vs완주 싸움 5분 정리\n",
      "38.[크랩] “양양 가면 손절?”…양양 이미지 안 좋아진 진짜 이유\n",
      "39.부산 사상~하단선 공사장 주변에서 땅 꺼짐…15번 째\n",
      "40.‘국정과제’ 내일 발표…경남 ‘우주항공 허브 육성’ 등 포함\n",
      "41.2차 공공기관 이전 논의 본격화…대구시, 유치전 시동\n",
      "42.광주 남구 양과동 SRF서 기준치 초과 악취…“운영 중단해야”\n",
      "43.전북 정읍 신태인역 인근에서 열차에 치인 남성 숨져\n",
      "44.코로나19 환자 수 2배 늘어…여름철 건강 지키려면?\n",
      "45.“수학을 좀 더 쉽게”…충북형 학습맵 구축\n",
      "46.공기업 중대재해처벌법 1호…석탄공사 전 사장 등\n",
      "1심 무죄\n",
      "47.제주도의회, 여론조사 강행 추진…혼란 심화?\n"
     ]
    }
   ],
   "source": [
    "from selenium import webdriver\n",
    "from selenium.webdriver.chrome.service import Service\n",
    "from selenium.webdriver.chrome.options import Options\n",
    "from selenium.webdriver.common.by import By\n",
    "from webdriver_manager.chrome import ChromeDriverManager\n",
    "import time\n",
    "\n",
    "service = Service(ChromeDriverManager().install())\n",
    "options = Options()\n",
    "options.add_argument(\"--headless\")\n",
    "options.add_argument(\"--window-size=1920x1080\")\n",
    "options.add_argument(\"--start-maximized\")\n",
    "options.add_argument(\"--user-agent=Mozilla/5.0 (Macintosh; Intel Mac OS X 10_15_7) AppleWebKit/537.36 (KHTML, like Gecko) Chrome/138.0.0.0 Safari/537.36\")\n",
    "\n",
    "\n",
    "driver = webdriver.Chrome(service=service, options=options)\n",
    "\n",
    "url = \"https://news.kbs.co.kr/news/pc/main/main.html\"\n",
    "driver.get(url)\n",
    "\n",
    "time.sleep(3)\n",
    "\n",
    "titles = driver.find_elements(By.CSS_SELECTOR, \"div.txt-wrapper p.title\")\n",
    "clean_titles = [t.text.strip() for t in titles if t.text.strip() !=\"\"]\n",
    "\n",
    "for i, title in enumerate(clean_titles, 1) : \n",
    "    print(f\"{i}.{title}\")\n",
    "\n",
    "driver.quit()"
   ]
  },
  {
   "cell_type": "markdown",
   "id": "239c2d07-d221-4481-b32b-76a1d393eb1f",
   "metadata": {},
   "source": [
    "13. 네이버 지식백과에서 '콘텐츠 마케팅' 항목의 본문 요약을 추출하세요."
   ]
  },
  {
   "cell_type": "code",
   "execution_count": null,
   "id": "cd98601d-ee42-4990-b7cf-054ec68aca8b",
   "metadata": {},
   "outputs": [],
   "source": [
    "import reauests\n",
    "from bs4 import BeautfulSoup\n",
    "\n",
    "url = https://terms.naver.com/entry.naver?docId=2275742&cid=42266&categoryId=51204\n",
    "\n",
    "query = \"콘텐츠 마케팅\"\n",
    "url = f\"https://www.jobkorea.co.kr/Search/?stext={query}\"\n",
    "\n",
    "headers = {\n",
    "    user-Agent:\"Mozilla/5.0 (Macintosh; Intel Mac OS X 10_15_7) AppleWebKit/537.36 (KHTML, like Gecko) Chrome/138.0.0.0 Safari/537.36\"\n",
    "}\n",
    "\n",
    "res = reauests.get(url, heders = headers)\n",
    "soup = BeautfulSoup(res.text, \"html.parser\")\n",
    "\n"
   ]
  }
 ],
 "metadata": {
  "kernelspec": {
   "display_name": "Python [conda env:anaconda3]",
   "language": "python",
   "name": "conda-env-anaconda3-py"
  },
  "language_info": {
   "codemirror_mode": {
    "name": "ipython",
    "version": 3
   },
   "file_extension": ".py",
   "mimetype": "text/x-python",
   "name": "python",
   "nbconvert_exporter": "python",
   "pygments_lexer": "ipython3",
   "version": "3.13.5"
  }
 },
 "nbformat": 4,
 "nbformat_minor": 5
}
