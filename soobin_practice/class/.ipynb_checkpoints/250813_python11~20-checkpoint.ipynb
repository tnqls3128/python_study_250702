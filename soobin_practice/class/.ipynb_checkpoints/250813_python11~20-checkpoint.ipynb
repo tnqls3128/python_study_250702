{
 "cells": [
  {
   "cell_type": "markdown",
   "id": "767c633f-8495-45f0-92d2-4e15b6b127e5",
   "metadata": {},
   "source": [
    "11. 대한민국 국회 홈페이지에서 최근 입법안 제목 10개를 수집하세요."
   ]
  },
  {
   "cell_type": "code",
   "execution_count": 14,
   "id": "32ac8956-f8e6-4485-908b-d5c4e8bd79f0",
   "metadata": {},
   "outputs": [
    {
     "name": "stdout",
     "output_type": "stream",
     "text": [
      "1.방송법 일부개정법률안(대안)\n",
      "2.의사일정 변경동의의 건(문진석의원 등 167인)\n",
      "3.공항시설법 일부개정법률안(대안)\n",
      "4.보건의료기본법 일부개정법률안(대안)\n",
      "5.건설산업기본법 일부개정법률안(대안)\n",
      "6.빈집 및 소규모주택 정비에 관한 특례법 일부개정법률안(대...\n"
     ]
    }
   ],
   "source": [
    "from selenium import webdriver\n",
    "from selenium.webdriver.chrome.service import Service\n",
    "from selenium.webdriver.chrome.options import Options\n",
    "from selenium.webdriver.common.by import By\n",
    "from webdriver_manager.chrome import ChromeDriverManager\n",
    "import time\n",
    "\n",
    "service = Service(ChromeDriverManager().install())\n",
    "options = Options()\n",
    "options.add_argument(\"--headless\")\n",
    "options.add_argument(\"--window-size=1920x1080\")\n",
    "options.add_argument(\"--start-maximized\")\n",
    "options.add_argument(\"--user-agent=Mozilla/5.0 (Macintosh; Intel Mac OS X 10_15_7) AppleWebKit/537.36 (KHTML, like Gecko) Chrome/138.0.0.0 Safari/537.36\")\n",
    "\n",
    "\n",
    "driver = webdriver.Chrome(service=service, options=options)\n",
    "\n",
    "url = \"https://likms.assembly.go.kr/bill/main.do\"\n",
    "driver.get(url)\n",
    "\n",
    "time.sleep(10)\n",
    "\n",
    "titles = driver.find_elements (By.CSS_SELECTOR, \"div.contClistIn p.tit a\")\n",
    "\n",
    "for i, title in enumerate(titles[:10], 1):\n",
    "    print(f\"{i}.{title.text.strip()}\")\n",
    "\n",
    "driver.quit()"
   ]
  },
  {
   "cell_type": "markdown",
   "id": "371d381a-af90-4002-80d4-b6217d25ec51",
   "metadata": {},
   "source": [
    "12. KBS 뉴스 홈페이지에서 주요 뉴스 타이틀을 수집하세요"
   ]
  },
  {
   "cell_type": "code",
   "execution_count": 19,
   "id": "22719619-f313-41d8-b36b-3984c04d8005",
   "metadata": {
    "scrolled": true
   },
   "outputs": [
    {
     "name": "stdout",
     "output_type": "stream",
     "text": [
      "1.[속보] 이 대통령 “반복적 산재 입찰 자격 영구 박탈·\n",
      "신고 시 포상금 지급”\n",
      "2.김건희 서울남부구치소 대기 …‘집사’ 귀국 전 인터뷰\n",
      "3.[단독] “나는 제2최순실 아니다” …‘김건희 집사’ 김예성 단독 인터뷰\n",
      "4.이 대통령, 트럼프 초청 방미…\n",
      "25일 한미 정상회담\n",
      "5.대통령실 “주식 양도세 상황 지켜보겠다…입장 변화 없어”\n",
      "6.‘감전 사고’ 포스코이앤씨 압수수색…“안전 조치 확인”\n",
      "7.입점업체 ‘선결제 쿠폰’ 안 돌려준 야놀자·여기어때에 공정위 제재\n",
      "8.추경호, 계엄 직후 홍철호와 통화…특검, 국힘 의원 텔레그램방 삭제 정황 파악\n",
      "9.해병특검, 내일 조태용 전 실장 3차 소환…“비화폰 통화기록 확보”\n",
      "10.“2년 더 했으면 나라 꼴…” 이해찬 고문의 일갈\n",
      "11.일본·미국 돈 들어갔는데 K팝?…케데헌 ‘골든’의 국적은?\n",
      "12.20년 전 홍콩서 산 가품이라더니…특검 “서희건설,\n",
      "자수서 제출”\n",
      "13.민주당, 대법관 ‘14명→30명 증원’ 가닥…“추석 전 마무리”\n",
      "14.‘돌아온 조국’ 앞에 놓인 3가지 변수…정국 돌풍될까?\n",
      "15.[단독] 한국 앞바다로 온 영국 항모전단…‘4각 연대’로 중국 압박 동참?\n",
      "16.이화여대가 가장 비쌌다, 그 다음은?…서울 대학가 월세 현황\n",
      "17.‘서울의 봄’ 김오랑 중령, 전사 46년만에 국가배상 판결\n",
      "18.호텔 탓? 주인 탓? 해외 일정 중 사망한 반려견 논쟁\n",
      "19.부모에게 50만 원 보내도 증여세?…국세청 “사실무근”\n",
      "20.코로나19 입원환자 5주 연속 증가…향후 2주 증가세 이어질듯\n",
      "21.[🔴현장] 이재명 대통령 부부, 또 럼 베트남 당 서기장 부부와 친교 행사/2025년 8월 12일(화)/KBS\n",
      "22.[🔴LIVE] '집사게이트' 핵심인물 김예성 귀국 즉시 체포…이 시각 인천공항/2025년 8월 12일(화)/KBS\n",
      "23.젤렌스키 “푸틴, 휴전 아닌 새로운 공격 준비 중”\n",
      "24.한국전력 2분기 영업익 2조1천359억원…전년보다 70.8%↑\n",
      "25.푸틴 측근 러시아 하원의장, 광복절 축하차 14∼15일 방북\n",
      "26.정부·통신 3사, AI 투자 협력 선언…“AI 유망 기업에 2,400억 투자”\n",
      "27.헝가리, ‘우크라이나 지지’ EU 성명 동참 거부\n",
      "28.이마트 2분기 영업이익 216억 원…흑자 전환\n",
      "29.[단독] “나는 제2최순실 아니다”…‘김건희 집사’ 김예성 단독 인터뷰\n",
      "30.유럽 가성비 여행지 ‘이곳’, 지금은 ‘물가 폭탄 구역’\n",
      "31.‘아무것도 아닌 사람’ 무슨 뜻? 법원 출석하며 ‘침묵’\n",
      "32.“봉이 빙선달?” 얼음만 1만 2천원 ‘평양빙수’ 논란\n",
      "33.김건희 여사 구속심사 4시간여 만에 종료…서울남부구치소 이동\n",
      "34.“여성 사우나가 밖에서 훤히”…호텔 측 공식 사과\n",
      "35.[크랩] 관세도 관세인데, 원자재값 폭등하면 우린 어떡함?\n",
      "36.[크랩] NC 다이노스, 결국 연고지 옮기나?\n",
      "37.[크랩] “전주광역시 이번엔 가능?” 전주vs완주 싸움 5분 정리\n",
      "38.[크랩] “양양 가면 손절?”…양양 이미지 안 좋아진 진짜 이유\n",
      "39.부산 사상~하단선 공사장 주변에서 땅 꺼짐…15번 째\n",
      "40.‘국정과제’ 내일 발표…경남 ‘우주항공 허브 육성’ 등 포함\n",
      "41.2차 공공기관 이전 논의 본격화…대구시, 유치전 시동\n",
      "42.광주 남구 양과동 SRF서 기준치 초과 악취…“운영 중단해야”\n",
      "43.전북 정읍 신태인역 인근에서 열차에 치인 남성 숨져\n",
      "44.코로나19 환자 수 2배 늘어…여름철 건강 지키려면?\n",
      "45.“수학을 좀 더 쉽게”…충북형 학습맵 구축\n",
      "46.공기업 중대재해처벌법 1호…석탄공사 전 사장 등\n",
      "1심 무죄\n",
      "47.제주도의회, 여론조사 강행 추진…혼란 심화?\n"
     ]
    }
   ],
   "source": [
    "from selenium import webdriver\n",
    "from selenium.webdriver.chrome.service import Service\n",
    "from selenium.webdriver.chrome.options import Options\n",
    "from selenium.webdriver.common.by import By\n",
    "from webdriver_manager.chrome import ChromeDriverManager\n",
    "import time\n",
    "\n",
    "service = Service(ChromeDriverManager().install())\n",
    "options = Options()\n",
    "options.add_argument(\"--headless\")\n",
    "options.add_argument(\"--window-size=1920x1080\")\n",
    "options.add_argument(\"--start-maximized\")\n",
    "options.add_argument(\"--user-agent=Mozilla/5.0 (Macintosh; Intel Mac OS X 10_15_7) AppleWebKit/537.36 (KHTML, like Gecko) Chrome/138.0.0.0 Safari/537.36\")\n",
    "\n",
    "\n",
    "driver = webdriver.Chrome(service=service, options=options)\n",
    "\n",
    "url = \"https://news.kbs.co.kr/news/pc/main/main.html\"\n",
    "driver.get(url)\n",
    "\n",
    "time.sleep(3)\n",
    "\n",
    "titles = driver.find_elements(By.CSS_SELECTOR, \"div.txt-wrapper p.title\")\n",
    "clean_titles = [t.text.strip() for t in titles if t.text.strip() !=\"\"]\n",
    "\n",
    "for i, title in enumerate(clean_titles, 1) : \n",
    "    print(f\"{i}.{title}\")\n",
    "\n",
    "driver.quit()"
   ]
  },
  {
   "cell_type": "markdown",
   "id": "239c2d07-d221-4481-b32b-76a1d393eb1f",
   "metadata": {},
   "source": [
    "13. 네이버 지식백과에서 '콘텐츠 마케팅' 항목의 본문 요약을 추출하세요."
   ]
  },
  {
   "cell_type": "code",
   "execution_count": 15,
   "id": "cd98601d-ee42-4990-b7cf-054ec68aca8b",
   "metadata": {},
   "outputs": [
    {
     "name": "stdout",
     "output_type": "stream",
     "text": [
      "콘텐츠산업은 21세기 창조경제를 견인할 핵심 성장 동력으로 각광받고 있고, 디지털 미디어의 다원화로 산업이 성장하고 있지만, 동시에 콘텐츠 사업자간 경쟁은 더욱 치열해지고 있다. 콘텐츠 기업은 사업 분야와 역량에 따라 제작, 유통, 단말 등 강점을 갖는 사업 영역이 있다. 성장과 경쟁의 압박 속에서 이익의 창출이 어려워질수록 각 산업의 핵심가치에 기반한 전략이 빛을 발하게 되는데, 콘텐츠산업의 중심에는 소비자, 즉 고객이 존재한다. 고객과 직접 대면하며, 고객과의 관계 속에서 미래성장의 가능성을 발견하는 콘텐츠사업자들의 핵심적인 10대 전략을 분석하고, 콘텐츠산업의 미래성장 가능성을 진단한다.콘텐츠산업은 21세기 창조경제를 견인할 핵심 성장 동력으로 각광받고 있고, 디지털 미디어의 다원화로 산업이 성장하고 있지만, 동시에 콘텐츠 사업자간 경쟁은 더욱 치열해지고 있다. 콘텐츠 기업은 사업 분야와 역량에 따라 제작, 유통, 단말 등 강점을 갖는 사업 영역이 있다. 성장과 경쟁의 압박 속에서 이익의 창출이 어려워질수록 각 산업의 핵심가치에 기반한 전략이 빛을 발하게 되는데, 콘텐츠산업의 중심에는 소비자, 즉 고객이 존재한다. 고객과 직접 대면하며, 고객과의 관계 속에서 미래성장의 가능성을 발견하는 콘텐츠사업자들의 핵심적인 10대 전략을 분석하고, 콘텐츠산업의 미래성장 가능성을 진단한다.\n"
     ]
    }
   ],
   "source": [
    "import requests\n",
    "from bs4 import BeautifulSoup\n",
    "\n",
    "url = \"https://terms.naver.com/entry.naver?docId=2275742&cid=42266&categoryId=51204\"\n",
    "\n",
    "headers = {\n",
    "    \"User-Agent\" : \"Mozilla/5.0 (Macintosh; Intel Mac OS X 10_15_7) AppleWebKit/537.36 (KHTML, like Gecko) Chrome/138.0.0.0 Safari/537.36\"\n",
    "}\n",
    "\n",
    "res = requests.get(url, headers = headers)\n",
    "soup = BeautifulSoup(res.text, \"html.parser\")\n",
    "\n",
    "texts = soup.select(\"div#size_ct p.txt\")\n",
    "\n",
    "for text in texts :\n",
    "    print(text.text.strip())"
   ]
  },
  {
   "cell_type": "markdown",
   "id": "ad3d9bdd-a9c4-4279-bbcc-c6f7e830f304",
   "metadata": {},
   "source": [
    "14. 한국관광공사 '추천 여행지' 페이지에서 지역별 여행지명을 수집하세요."
   ]
  },
  {
   "cell_type": "code",
   "execution_count": 14,
   "id": "13119cab-0b51-49d1-8102-6efe2d1a9b71",
   "metadata": {},
   "outputs": [
    {
     "name": "stdout",
     "output_type": "stream",
     "text": [
      "1.안전에서 역사까지 익산의 오감 여행코스\n",
      "2.안전과 힐링이 함께하는 제천여행코스\n",
      "3.안전과 여유, 감동을  함께 누리는 담양여행코스\n",
      "4.안전, 예술, 바다, 명소까지 올인원 여수관광코스\n",
      "5.제주올레길\n",
      "6.가족끼리 대부도 나들이\n",
      "7.누구나 가기 좋은 익산 나들이 코스\n",
      "8.낮에 보아도 밤에 보아도 아름다운 남원 1박2일 코스\n",
      "9.서해랑길 (고창, 군산 구간)\n",
      "10.달(月)달(月)한 남원여행\n"
     ]
    }
   ],
   "source": [
    "from selenium import webdriver\n",
    "from bs4 import BeautifulSoup\n",
    "import time\n",
    "\n",
    "driver = webdriver.Chrome()\n",
    "\n",
    "url = \"https://korean.visitkorea.or.kr/list/travelcourse.do?service=cs\"\n",
    "driver.get(url)\n",
    "\n",
    "time.sleep(3)\n",
    "\n",
    "soup = BeautifulSoup(driver.page_source, \"html.parser\")\n",
    "\n",
    "elements = soup.select(\"div.tit a\")\n",
    "for i, element in enumerate(elements, start = 1) :\n",
    "    print(f\"{i}.{element.text.strip()}\")\n",
    "\n",
    "driver.quit()"
   ]
  },
  {
   "cell_type": "markdown",
   "id": "f54f998b-c519-474a-b26b-cad7c22dc420",
   "metadata": {},
   "source": [
    "15. 브런치 홈페이지에서 인기 글 제목을 수집하세요."
   ]
  },
  {
   "cell_type": "code",
   "execution_count": 17,
   "id": "aa5c4a45-42e8-453c-bb32-646447667f34",
   "metadata": {},
   "outputs": [
    {
     "name": "stdout",
     "output_type": "stream",
     "text": [
      "1-# 11. 지혜에 관하여\n",
      "2-〈끝없는 꿈 속에서 깨어나는  법〉\n",
      "3-장작을 패며\n",
      "4-그곳에선, 나를 사람 취급해 줬다.\n",
      "5-초연결 시대의 비극\n",
      "6-인연은 선택일까, 운명일까\n",
      "7-프롤로그\n",
      "8-지나간 시절은 다시 돌아오지 않는다\n",
      "9-#28. 힘을 빼야 보이는 것들\n",
      "10-꿈꾸는 자는 아름답다.\n",
      "11-<창작동화> 수선화이야기\n",
      "12-\"못하는 게 아니라, 안 하는 것이다\"\n",
      "13-글쓰기 코어 트레이닝\n",
      "14-어울리지 않는 사진\n",
      "15-학벌이 주는 의미\n",
      "16-하늘을 잘 안 보고 살아서요\n",
      "17-천 개의 말, 하나의 진실\n",
      "18-행복을 붙잡고,  슬픔을 놓아주는 시간\n",
      "19-빨래하는 풍경 속의 엄마를 꺼낸다.\n",
      "20-불을 다루듯, 말을 품듯.\n"
     ]
    }
   ],
   "source": [
    "from selenium import webdriver\n",
    "from bs4 import BeautifulSoup\n",
    "import time\n",
    "\n",
    "driver = webdriver.Chrome()\n",
    "\n",
    "url = \"https://brunch.co.kr/serial/list#wed#LIKE_COUNT\"\n",
    "driver.get(url)\n",
    "\n",
    "time.sleep(3)\n",
    "\n",
    "soup = BeautifulSoup(driver.page_source, \"html.parser\")\n",
    "\n",
    "elements = soup.select(\"span.group_tit strong.tit_info\")\n",
    "\n",
    "for i, element in enumerate(elements, 1) :\n",
    "    print(f\"{i}-{element.text.strip()}\")"
   ]
  },
  {
   "cell_type": "markdown",
   "id": "1e848f82-e667-469e-9bab-a0f034c80fbe",
   "metadata": {},
   "source": [
    "16. 교보문고 경제 분야 주간 베스트셀러 도서 제목 수집하세요."
   ]
  },
  {
   "cell_type": "code",
   "execution_count": 21,
   "id": "a4869d80-2140-4698-8e09-40b2cca78f6e",
   "metadata": {},
   "outputs": [
    {
     "name": "stdout",
     "output_type": "stream",
     "text": [
      "1. 박곰희 연금 부자 수업\n",
      "2. 기술공화국 선언\n",
      "3.워런 버핏 삶의 원칙\n",
      "4.새로운 질서\n",
      "5. 실패를 성공으로 바꾸는 주식투자의 기술(불장에디션)\n",
      "6.비트코인 슈퍼 사이클 2026\n",
      "7. 글로벌 주식 투자 빅 시프트\n",
      "8.미치도록 보고 싶었던 돈의 얼굴\n",
      "9.이웃집 백만장자(리미티드 에디션)\n",
      "10.초보자를 단숨에 고수로 만드는 주식투자 핵심 수업\n",
      "11.돈의 심리학(30만 부 기념 스페셜 에디션)\n",
      "12.제로 투 원(10주년 기념판)\n",
      "13.킹 달러\n",
      "14.단 3개의 미국 ETF로 은퇴하라\n",
      "15.심리투자 불변의 법칙\n",
      "16.인생을 바꾸는 최고의 ETF\n",
      "17.자본주의\n",
      "18.돈의 속성(400쇄 리커버에디션)\n",
      "19.워런 버핏 웨이\n",
      "20. 워런 버핏과 찰리 멍거\n"
     ]
    }
   ],
   "source": [
    "from selenium import webdriver\n",
    "from bs4 import BeautifulSoup\n",
    "import time\n",
    "\n",
    "driver = webdriver.Chrome()\n",
    "\n",
    "url = \"https://product.kyobobook.co.kr/category/KOR/13#?page=1&type=best&per=20\"\n",
    "driver.get(url)\n",
    "\n",
    "time.sleep(3)\n",
    "\n",
    "soup = BeautifulSoup(driver.page_source, \"html.parser\")\n",
    "\n",
    "elements = soup.select(\"span.prod_name\")\n",
    "\n",
    "for i,element in enumerate(elements, 1) :\n",
    "    print(f\"{i}.{element.text.strip().replace('예약판매', \"\")}\")"
   ]
  },
  {
   "cell_type": "markdown",
   "id": "24f20288-42f4-4d9e-9fc6-a67898c88f8b",
   "metadata": {},
   "source": [
    "17. 멜론 차트 1~10위 노래 제목과 가수를 수집하세요."
   ]
  },
  {
   "cell_type": "code",
   "execution_count": 24,
   "id": "d7a84345-96af-4d77-9dd1-d1693803721e",
   "metadata": {},
   "outputs": [
    {
     "name": "stdout",
     "output_type": "stream",
     "text": [
      "1위 -> Golden\n",
      "2위 -> Soda Pop\n",
      "3위 -> 뛰어(JUMP)\n",
      "4위 -> FAMOUS\n",
      "5위 -> Drowning\n",
      "6위 -> Dirty Work\n",
      "7위 -> 시작의 아이\n",
      "8위 -> 너에게 닿기를\n",
      "9위 -> Your Idol\n",
      "10위 -> WICKED\n"
     ]
    }
   ],
   "source": [
    "from selenium import webdriver\n",
    "from bs4 import BeautifulSoup\n",
    "import time\n",
    "\n",
    "driver = webdriver.Chrome()\n",
    "\n",
    "url = \"https://www.melon.com/chart/index.htm\"\n",
    "driver.get(url)\n",
    "\n",
    "time.sleep(3)\n",
    "\n",
    "soup = BeautifulSoup(driver.page_source, \"html.parser\")\n",
    "\n",
    "elements = soup.select(\"div.ellipsis.rank01\")\n",
    "for i, element in enumerate(elements[:10], 1) :\n",
    "    print(f\"{i}위 -> {element.text.strip()}\")\n"
   ]
  },
  {
   "cell_type": "markdown",
   "id": "e1cd3bfb-40b5-42aa-94f3-b711173456f4",
   "metadata": {},
   "source": [
    "18. 구글 Scholar에서 'SEO Marketing' 논문 제목을 5개 수집하세요."
   ]
  },
  {
   "cell_type": "code",
   "execution_count": 28,
   "id": "cb3bc27a-a1b9-4fc0-96ec-4c6340513036",
   "metadata": {},
   "outputs": [
    {
     "name": "stdout",
     "output_type": "stream",
     "text": [
      "1.Inbound marketing and SEO: Insights from the Moz Blog\n",
      "2.The role of search engine optimization in search marketing\n",
      "3.Application marketing strategy search engine optimization (SEO)\n",
      "4.Optimize: How to attract and engage more customers by integrating SEO, social media, and content marketing\n",
      "5.¿ Marketing online?¿ SEO?¿ SEM? Conceptos básicos\n"
     ]
    }
   ],
   "source": [
    "from selenium import webdriver\n",
    "from bs4 import BeautifulSoup\n",
    "import time\n",
    "\n",
    "driver = webdriver.Chrome()\n",
    "\n",
    "url = \"https://scholar.google.com/scholar?hl=ko&as_sdt=0%2C5&q=SEO+Marketing&btnG=\"\n",
    "\n",
    "driver.get(url)\n",
    "\n",
    "time.sleep(2)\n",
    "\n",
    "soup = BeautifulSoup(driver.page_source, \"html.parser\")\n",
    "\n",
    "elements = soup.select(\"h3.gs_rt a\")\n",
    "for i, element in enumerate(elements[:5], 1) :\n",
    "    print(f\"{i}.{element.text.strip()}\")"
   ]
  },
  {
   "cell_type": "markdown",
   "id": "7360ac56-3876-46d5-b7b9-008b083e0d96",
   "metadata": {},
   "source": [
    "19. TIOBE Index 사이트에서 상위 10개 프로그래밍 언어 이름을 수집하세요."
   ]
  },
  {
   "cell_type": "code",
   "execution_count": 34,
   "id": "06654515-f040-403f-9f2a-9997606d50c4",
   "metadata": {},
   "outputs": [
    {
     "name": "stdout",
     "output_type": "stream",
     "text": [
      "\n",
      "\n",
      "\n",
      "\n",
      "\n",
      "\n",
      "\n",
      "\n",
      "\n",
      "\n",
      "\n",
      "\n",
      "\n",
      "\n",
      "\n",
      "\n",
      "\n",
      "\n",
      "\n",
      "\n"
     ]
    }
   ],
   "source": [
    "from selenium import webdriver\n",
    "from selenium.webdriver.chrome.service import Service\n",
    "from selenium.webdriver.common.by import By\n",
    "from webdriver_manager.chrome import ChromeDriverManager\n",
    "import time\n",
    "\n",
    "service = Service(ChromeDriverManager().install())\n",
    "driver = webdriver.Chrome(service = service)\n",
    "\n",
    "url = \"https://www.tiobe.com/tiobe-index/\"\n",
    "driver.get(url)\n",
    "\n",
    "time.sleep(5)\n",
    "\n",
    "texts = driver.find_elements(By.CSS_SELECTOR, \"table#top20 td.td-top20\")\n",
    "\n",
    "for text in texts :\n",
    "    print(text.text.strip())\n",
    "\n",
    "driver.quit()"
   ]
  },
  {
   "cell_type": "markdown",
   "id": "a3a29123-5694-43f7-a4a1-ae7db8b6a5a1",
   "metadata": {},
   "source": [
    "20. 데이터마켓(data.go.kr)에서 '소비' 관련 공공데이터 제목을 10개 수집하세요."
   ]
  },
  {
   "cell_type": "code",
   "execution_count": 39,
   "id": "8929eb88-e50e-4989-87ae-f4d781136333",
   "metadata": {},
   "outputs": [
    {
     "name": "stdout",
     "output_type": "stream",
     "text": [
      "1.코로나 19에 따른 카드소비동향(결제건수)\n"
     ]
    }
   ],
   "source": [
    "from selenium import webdriver\n",
    "from selenium.webdriver.chrome.service import Service\n",
    "from selenium.webdriver.chrome.options import Options\n",
    "from selenium.webdriver.common.by import By\n",
    "from selenium.webdriver.common.keys import Keys\n",
    "from webdriver_manager.chrome import ChromeDriverManager\n",
    "import time\n",
    "\n",
    "service = Service(ChromeDriverManager().install())\n",
    "options = Options()\n",
    "\n",
    "options.add_argument('--disable-gpu')\n",
    "options.add_argument('--disable-dev-shm-usage')\n",
    "options.add_argument('--window-size=1920x1080')\n",
    "options.add_argument('--start-maximized')\n",
    "options.add_argument('--user-agent=Mozilla/5.0 (Windows NT 10.0; Win64; x64) AppleWebKit/537.36 (KHTML, like Gecko) Chrome/138.0.0.0 Safari/537.36')\n",
    "options.add_argument('--lang=ko_KR')\n",
    "\n",
    "driver = webdriver.Chrome(service = service, options=options)\n",
    "\n",
    "url = \"https://www.findatamall.or.kr/market/dataProdList?menuNo=28\"\n",
    "driver.get(url)\n",
    "time.sleep(3)\n",
    "\n",
    "button = driver.find_element(By.CSS_SELECTOR, \"a.moreList\")\n",
    "button.click()\n",
    "time.sleep(2)\n",
    "\n",
    "keywords = driver.find_elements(By.CSS_SELECTOR, \"div.item a.subject\")\n",
    "\n",
    "count = 0\n",
    "\n",
    "for keyword in keywords :\n",
    "    text = keyword.text.strip()\n",
    "    if \"소비\" in text :\n",
    "        count += 1\n",
    "        print(f\"{count}.{text}\")\n",
    "    if count == 10 :\n",
    "        break\n"
   ]
  },
  {
   "cell_type": "code",
   "execution_count": 40,
   "id": "714b9c46-6426-4b39-81ff-8a34abd38043",
   "metadata": {},
   "outputs": [
    {
     "name": "stdout",
     "output_type": "stream",
     "text": [
      "(아파트) 주택특성/지역특성/시세정보 및 신뢰등급/회수율\n",
      "시군구별 업종별 가맹점 데이터(2020년 1월, 전남 여수시)\n",
      "시군구별 업종별 가맹점 데이터(2020년 1월, 인천 계양구)\n",
      "코로나 19에 따른 카드소비동향(결제건수)\n",
      "시군구별 업종별 가맹점 데이터(2020년 10월, 서울 종로구)\n",
      "시군구별 업종별 가맹점 데이터(2020년 10월, 부산 영도구)\n",
      "시군구별 업종별 가맹점 데이터(2020년 10월, 경기 오산시)\n",
      "시군구별 업종별 가맹점 데이터(2020년 4월, 인천 동구)\n",
      "시군구별 업종별 가맹점 데이터(2020년 1월, 경북 상주시)\n",
      "시군구별 업종별 가맹점 데이터(2020년 4월, 충남 계룡시)\n"
     ]
    }
   ],
   "source": [
    "from selenium import webdriver\n",
    "from selenium.webdriver.chrome.service import Service\n",
    "from selenium.webdriver.chrome.options import Options\n",
    "from selenium.webdriver.common.by import By\n",
    "from selenium.webdriver.common.keys import Keys\n",
    "from webdriver_manager.chrome import ChromeDriverManager\n",
    "import time\n",
    "\n",
    "service = Service(ChromeDriverManager().install())\n",
    "options = Options()\n",
    "\n",
    "options.add_argument('--disable-gpu')\n",
    "options.add_argument('--disable-dev-shm-usage')\n",
    "options.add_argument('--window-size=1920x1080')\n",
    "options.add_argument('--start-maximized')\n",
    "options.add_argument('--user-agent=Mozilla/5.0 (Windows NT 10.0; Win64; x64) AppleWebKit/537.36 (KHTML, like Gecko) Chrome/138.0.0.0 Safari/537.36')\n",
    "options.add_argument('--lang=ko_KR')\n",
    "\n",
    "driver = webdriver.Chrome(service = service, options=options)\n",
    "\n",
    "url = \"https://www.findatamall.or.kr/market/dataProdList?menuNo=28\"\n",
    "driver.get(url)\n",
    "time.sleep(3)\n",
    "\n",
    "keywords = driver.find_elements(By.CSS_SELECTOR, \"div.item a.subject\")\n",
    "\n",
    "for keyword in keywords[:10] :\n",
    "    print(keyword.text.strip())"
   ]
  }
 ],
 "metadata": {
  "kernelspec": {
   "display_name": "Python [conda env:anaconda3]",
   "language": "python",
   "name": "conda-env-anaconda3-py"
  },
  "language_info": {
   "codemirror_mode": {
    "name": "ipython",
    "version": 3
   },
   "file_extension": ".py",
   "mimetype": "text/x-python",
   "name": "python",
   "nbconvert_exporter": "python",
   "pygments_lexer": "ipython3",
   "version": "3.13.5"
  }
 },
 "nbformat": 4,
 "nbformat_minor": 5
}
