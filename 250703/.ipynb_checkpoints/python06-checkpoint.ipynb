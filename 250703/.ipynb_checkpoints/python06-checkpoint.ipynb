{
 "cells": [
  {
   "cell_type": "markdown",
   "id": "f119de3d-e220-4f76-becd-23610a7230ea",
   "metadata": {},
   "source": [
    "#### 함수(function)\n",
    "\n",
    "- 함수는 선언 & 호출 개념\n",
    "- 인자값 혹은 인수 개념\n",
    "- 함수를 선언하는 단계에서 매개변수를 지정한다라고 부르고, 실제로 함수를 호출하는 단계에서는 이미 지정해놓은 매개변수의 공간에 입력할 값을 인자값 혹은 인수라고 부름\n",
    "- 매개변수를 지정했다면 반드시 인자값이 필요하다\n",
    "- 매개변수와 인자값의 개수는 반드시 일치해야한다\n",
    "```\n",
    "(선언) def 함수이름(인자값 = 인수) :\n",
    "            실행문\n",
    "            return 반환하고자 하는 값 입력\n",
    "```"
   ]
  },
  {
   "cell_type": "code",
   "execution_count": 6,
   "id": "92be4e95-3ab8-4ec6-b09f-2894ca426848",
   "metadata": {},
   "outputs": [],
   "source": [
    "def func1() : \n",
    "    print(\"Hellow\")\n",
    "    print(\"Hellow\")\n",
    "    print(\"Hellow\")\n",
    "    print(\"Hellow\")"
   ]
  },
  {
   "cell_type": "code",
   "execution_count": 7,
   "id": "7271d40d-ed54-4aba-bca2-cc54bd87c876",
   "metadata": {},
   "outputs": [
    {
     "name": "stdout",
     "output_type": "stream",
     "text": [
      "Hellow\n",
      "Hellow\n",
      "Hellow\n",
      "Hellow\n"
     ]
    }
   ],
   "source": [
    "func1()"
   ]
  },
  {
   "cell_type": "code",
   "execution_count": 23,
   "id": "85a40a5b-229d-4e9b-b3d9-a177ed65a91f",
   "metadata": {},
   "outputs": [],
   "source": [
    "def func2(parameter01, parameter02) :\n",
    "   # print(f\"Hellow, {parameter01} {parameter02}\")\n",
    "    return f\"Hello, {parameter01} {parameter02}\""
   ]
  },
  {
   "cell_type": "code",
   "execution_count": 24,
   "id": "eb487f35-5d4d-40d0-b046-76b3e9e8ea6d",
   "metadata": {},
   "outputs": [
    {
     "data": {
      "text/plain": [
       "'Hello, Python World'"
      ]
     },
     "execution_count": 24,
     "metadata": {},
     "output_type": "execute_result"
    }
   ],
   "source": [
    "result = func2(\"Python\", \"World\")\n",
    "result # 종결 + 값을 반환 / 가장 마지막 / 함수 종결"
   ]
  },
  {
   "cell_type": "code",
   "execution_count": 27,
   "id": "bc902b89-3bcf-4837-812a-a71bdfc95080",
   "metadata": {},
   "outputs": [],
   "source": [
    "def sum(a, b) :\n",
    "    c = 1  #지역변수 = local\n",
    "    result02 = a + b\n",
    "    return(result02)\n",
    "a = 1  #전역변수 = global"
   ]
  },
  {
   "cell_type": "code",
   "execution_count": 26,
   "id": "f1a159e2-95c9-4480-8f32-e5551053df12",
   "metadata": {},
   "outputs": [
    {
     "data": {
      "text/plain": [
       "3"
      ]
     },
     "execution_count": 26,
     "metadata": {},
     "output_type": "execute_result"
    }
   ],
   "source": [
    "sum(1, 2)"
   ]
  },
  {
   "cell_type": "code",
   "execution_count": 28,
   "id": "2111ae14-222d-4423-bea7-777f565c2094",
   "metadata": {},
   "outputs": [
    {
     "data": {
      "text/plain": [
       "1"
      ]
     },
     "execution_count": 28,
     "metadata": {},
     "output_type": "execute_result"
    }
   ],
   "source": [
    "a"
   ]
  },
  {
   "cell_type": "code",
   "execution_count": 32,
   "id": "6b6e4717-4de4-4e75-b321-36184067594b",
   "metadata": {},
   "outputs": [
    {
     "name": "stdout",
     "output_type": "stream",
     "text": [
      "1\n",
      "2\n",
      "3\n"
     ]
    }
   ],
   "source": [
    "for item in [1, 2, 3] : \n",
    "    print(item) # item = 블록변수 = block"
   ]
  },
  {
   "cell_type": "code",
   "execution_count": 36,
   "id": "d1ccf225-0564-440e-a22e-e3bf074821e8",
   "metadata": {},
   "outputs": [],
   "source": [
    "def func7(a) :\n",
    "    b = a + 1\n",
    "    return a,b"
   ]
  },
  {
   "cell_type": "code",
   "execution_count": 37,
   "id": "7bd43231-2a73-46d0-be8e-db09c32fccf0",
   "metadata": {},
   "outputs": [
    {
     "name": "stdout",
     "output_type": "stream",
     "text": [
      "(4, 5)\n",
      "<class 'tuple'>\n"
     ]
    }
   ],
   "source": [
    "result07 = func7(4)\n",
    "print(result07)\n",
    "print(type(result07))"
   ]
  },
  {
   "cell_type": "code",
   "execution_count": 40,
   "id": "5ff397d9-3010-47ec-bea3-a9a30e5109f3",
   "metadata": {},
   "outputs": [
    {
     "name": "stdout",
     "output_type": "stream",
     "text": [
      "<class 'str'>\n",
      "<class 'int'>\n",
      "<class 'bool'>\n",
      "<class 'list'>\n"
     ]
    }
   ],
   "source": [
    "print(type(\"str\"))\n",
    "print(type(1))\n",
    "print(type(True))\n",
    "print(type([1, 2, 3]))"
   ]
  },
  {
   "cell_type": "code",
   "execution_count": 44,
   "id": "a38ea3bc-8062-482e-9eaf-80cfa8963ee3",
   "metadata": {},
   "outputs": [],
   "source": [
    "def id_check(id) : \n",
    "    if id == \"admin\" :\n",
    "        print(\"invaild id : admin\")\n",
    "        return\n",
    "    print(\"valid id : \", id)"
   ]
  },
  {
   "cell_type": "code",
   "execution_count": 45,
   "id": "39a0e23c-dce7-4711-9252-38fef1200c44",
   "metadata": {},
   "outputs": [
    {
     "name": "stdout",
     "output_type": "stream",
     "text": [
      "valid id :  admin01\n"
     ]
    }
   ],
   "source": [
    "id_check(\"admin01\")"
   ]
  }
 ],
 "metadata": {
  "kernelspec": {
   "display_name": "Python [conda env:anaconda3]",
   "language": "python",
   "name": "conda-env-anaconda3-py"
  },
  "language_info": {
   "codemirror_mode": {
    "name": "ipython",
    "version": 3
   },
   "file_extension": ".py",
   "mimetype": "text/x-python",
   "name": "python",
   "nbconvert_exporter": "python",
   "pygments_lexer": "ipython3",
   "version": "3.13.5"
  }
 },
 "nbformat": 4,
 "nbformat_minor": 5
}
