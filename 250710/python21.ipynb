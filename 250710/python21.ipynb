{
 "cells": [
  {
   "cell_type": "markdown",
   "id": "afdf858b-8c03-4cb1-b8ad-6f13b5b88941",
   "metadata": {},
   "source": [
    "#### 원하는 데이터 크롤링\n",
    "- 해당 데이터가 문서화 되어야 데이터 활용\n",
    "- urllib -> 파이썬 내장 라이브러리 (설치 할 필요X)\n",
    "- openpyxl 라이브러리\n",
    "- pip install openpyxl\n",
    "\n",
    "- (기존 -> 주피터 노트북으로 데이터 찾아서(*for문) 즉석에서 값을 보고 끝)\n",
    "1. 데이터 찾기\n",
    "2. 찾아온 데이터 데이터 양식에 넣고\n",
    "3. 엑셀에다가 전달"
   ]
  },
  {
   "cell_type": "code",
   "execution_count": 2,
   "id": "f1bf3445-716d-484a-8308-4a9336d99f76",
   "metadata": {},
   "outputs": [
    {
     "name": "stdout",
     "output_type": "stream",
     "text": [
      "Defaulting to user installation because normal site-packages is not writeable\n",
      "Requirement already satisfied: openpyxl in c:\\programdata\\anaconda3\\lib\\site-packages (3.1.5)\n",
      "Requirement already satisfied: et-xmlfile in c:\\programdata\\anaconda3\\lib\\site-packages (from openpyxl) (1.1.0)\n",
      "Note: you may need to restart the kernel to use updated packages.\n"
     ]
    }
   ],
   "source": [
    "pip install openpyxl"
   ]
  },
  {
   "cell_type": "code",
   "execution_count": null,
   "id": "1797743d-91ff-45ba-8a80-c15f0245fd47",
   "metadata": {},
   "outputs": [],
   "source": [
    "# openpyxl 라이브러리 찾아오기\n",
    "import openpyxl\n",
    "\n",
    "# Workbook() 프로토타입 객체 실행시켜서 하나의 엑셀파일을 생성하겠다는 의미\n",
    "excel_file = openpyxl.Workbook()\n",
    "\n",
    "#엑셀파일 내부에는 기본적으로 Sheet가 1개 존재 => 해당 시트를 선택(*active)\n",
    "excel_sheet = excel_file.active\n",
    "\n",
    "# 선택한 엑실시트 내부에 데이터 추가 및 삽입하기\n",
    "excel_sheet.append([\"data1\", \"data2\", \"data3\"])\n",
    "\n",
    "# 엑셀파일 저장하기\n",
    "excel_file.save(tmp.xlsx)\n",
    "\n",
    "# 엑셀파일 종료하기\n",
    "excel_file.close()"
   ]
  },
  {
   "cell_type": "code",
   "execution_count": 25,
   "id": "5ccc6d39-40f2-4988-be71-17a2e739d205",
   "metadata": {},
   "outputs": [],
   "source": [
    "# 1. 데이터 크롤링 파트\n",
    "\n",
    "import requests\n",
    "from bs4 import BeautifulSoup\n",
    "\n",
    "url = \"https://davelee-fun.github.io/page2/\"\n",
    "product_lists = list()    #전역변수 : 모든 페이지 상품 데이터를 여기에 누적 저장\n",
    "\n",
    "for page_num in range(10) :    # 0~9까지 총 10페이지 크롤링 반복\n",
    "    if page_num == 0 :\n",
    "        res = requests.get(url)    # 첫 페이지는 기본 URL 호출\n",
    "    else :\n",
    "        res = requests.get(f\"{url}page{page_num+1}\")    # 2페이지 부터 URL에 page번호 (0이 아닌 1부터 값이 나와서)\n",
    "    soup = BeautifulSoup(res.content, \"html.parser\")    # 파싱 준비\n",
    "    datas = soup.select(\"div.card\")    # 한 페이지 내 모든 상품 카드 선택\n",
    "\n",
    "    for data in datas : \n",
    "        product_name = data.select_one(\"div.card-body > h4.card-text\")    # 지역변수 : 각 상품 카드 내 제목 선택\n",
    "        product_data = data.select_one(\"div.wrapfooter span.post-date\")    # 각 상품 카드 내 등록일 정보 선택 / 띄어쓰기(후손의미)\n",
    "        product_info = [product_name.get_text().strip(), product_data.get_text().strip()]\n",
    "        product_lists.append(product_info)    # 전역변수 product_lists에 지역변수 product_info추가\n"
   ]
  },
  {
   "cell_type": "code",
   "execution_count": 29,
   "id": "9c2b9400-9807-4c7d-9686-4bcd0cc90db6",
   "metadata": {},
   "outputs": [],
   "source": [
    "# 2. 엑셀 시트 저장용 함수 생성 파트\n",
    "\n",
    "import openpyxl    # 엑셀 작업을 위한 외부 라이브러리\n",
    "\n",
    "def write_excel_template(filename, sheetname, listdata) :    # 엑셀 파일을 생성해서 리스트 데이터를 저장하는 함수 정의\n",
    "    excel_file = openpyxl.Workbook()    # 새 엑셀 워크북 생성 (기본적으로 1개의 시트 포함)\n",
    "    excel_sheet = excel_file.active    # 기본 활성화된 시트 선택\n",
    "    excel_sheet.column_dimensions[\"A\"].width = 100     # 첫번째 열(A열) 너비 100 설정\n",
    "  \n",
    "    if sheetname != \"\" :    # 시트명 비어있지 않은 경우 시트 이름 변경\n",
    "        excel_sheet.title = sheetname   \n",
    "\n",
    "    for item in listdata :    # 리스트 데이터를 한 줄 씩 반복해서 엑셀에 한 행씩 추가\n",
    "        excel_sheet.append(item)    # 각 item은 [상품명, 등록일] 같은 형태 리스트\n",
    "        \n",
    "    excel_file.save(filename)    # 지정한 파일명으로 엑셀 파일 저장\n",
    "    excel_file.close()    # 엑셀파일닫기   "
   ]
  },
  {
   "cell_type": "code",
   "execution_count": 30,
   "id": "570b34b1-231e-411d-9d73-49514c1d1918",
   "metadata": {},
   "outputs": [],
   "source": [
    "# 3. 엑셀 시트 저장용 함수 호출 파트\n",
    "\n",
    "# 크롤링 결과로 수집한 product_lists데이러 -> 상품정보라는 시트명으로 tep.xlsx 엑셀 파일에 저장\n",
    "write_excel_template(\"tep.xlsx\", \"상품정보\", product_lists)"
   ]
  }
 ],
 "metadata": {
  "kernelspec": {
   "display_name": "Python [conda env:anaconda3]",
   "language": "python",
   "name": "conda-env-anaconda3-py"
  },
  "language_info": {
   "codemirror_mode": {
    "name": "ipython",
    "version": 3
   },
   "file_extension": ".py",
   "mimetype": "text/x-python",
   "name": "python",
   "nbconvert_exporter": "python",
   "pygments_lexer": "ipython3",
   "version": "3.13.5"
  }
 },
 "nbformat": 4,
 "nbformat_minor": 5
}
