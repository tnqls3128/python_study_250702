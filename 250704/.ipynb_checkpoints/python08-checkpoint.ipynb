{
 "cells": [
  {
   "cell_type": "markdown",
   "id": "421ff7ab-b0a1-4c3f-8b65-598c48e4765e",
   "metadata": {},
   "source": [
    "#### 파이썬 자료구조\n",
    "- list -> 하나의 그룹 안에 순번을 매겨서 값을 저장해놓은 형태 (값을 수정, 삭제 등 변경 허용)\n",
    "- tuple -> 하나의 그룹 안에 순번을 매겨서 값을 저장해놓은 형태 (값을 수정, 삭제 등 변경 허용X)\n",
    "- dictionary = 사전 (*단어 : 뜻, 형태, 예시 등등 세부정보) -> Key(*단어) & Value(*해당 단어에 대한 의미 -> 속성(*property)\n",
    "- CRUD -> 웹사이트 구현정도 // 프로그램 난이도(상중하) // 고급언어인지, 저급언어인지 등을 구분 -> (Creat, Read, Update, Delete -> 고급언어로 난이도 상단계 포지션 (4가지가 다 되면)\n",
    "- 프로그래밍언어는 절대 정답 X -> 예제 문제 해결 다름\n",
    "- 문자열 -> 숫자 -> 문법해결\n",
    "- 문자열 -> 문법해결\n",
    "- 개발영역 -> 결과가 도출된다면 모두 답 -> 어떤 답이 효과적 || 효율이 있는가\n",
    "- 만들고자 하는 프로그램이 지향하는 것이 무엇인지 -> 안정성 // 속도 // 메모리 ?\n",
    "- 시간 -> 빠른 시간 내 코드를 처리할 수 있는지 -> 시간복잡도 라는 개념\n",
    "- 어떤 코드가 실행되는데 있어서 얼만큼 빨리 처리하냐 -> 빅오메가 // 빅세타 // 빅오 개념 -> 컴퓨터의 성능차이\n",
    "- 빅오 시간 체크 -> 가장 많은 시간을 차지하는 것 하나를 체크 -> 반복문"
   ]
  },
  {
   "cell_type": "code",
   "execution_count": 2,
   "id": "7d6cb271-be4f-4ea4-a18b-d9a4262b812a",
   "metadata": {},
   "outputs": [
    {
     "data": {
      "text/plain": [
       "{'name': 'soobin'}"
      ]
     },
     "execution_count": 2,
     "metadata": {},
     "output_type": "execute_result"
    }
   ],
   "source": [
    "dict1 = {\"name\": \"soobin\"}  #{\"key\" : \"valie\"}\n",
    "dict1"
   ]
  },
  {
   "cell_type": "code",
   "execution_count": 3,
   "id": "7a8c6f2f-3e22-4503-aa9e-bcec90995ec8",
   "metadata": {},
   "outputs": [
    {
     "data": {
      "text/plain": [
       "{'korean': 95, 'math': 100, 'science': 80}"
      ]
     },
     "execution_count": 3,
     "metadata": {},
     "output_type": "execute_result"
    }
   ],
   "source": [
    "dict2 = {\"korean\" : 95, \"math\":100, \"science\":80}\n",
    "dict2"
   ]
  },
  {
   "cell_type": "code",
   "execution_count": 5,
   "id": "16272beb-a410-4667-981f-9192bd4aac00",
   "metadata": {},
   "outputs": [
    {
     "name": "stdout",
     "output_type": "stream",
     "text": [
      "<class 'dict'>\n"
     ]
    }
   ],
   "source": [
    "# list1 = [] or [1, 2] or list()\n",
    "# tupl1 = () or (1,2) or tuple()\n",
    "\n",
    "dict1 = {}  #() -> set자료구조 일수도 있음, 딕셔너리 생성할 때 사용\n",
    "dict2 = dict()\n",
    "\n",
    "print(type(dict2))"
   ]
  },
  {
   "cell_type": "code",
   "execution_count": 6,
   "id": "b0ecfa0a-f5e0-4872-bbda-c95195ed9c02",
   "metadata": {},
   "outputs": [],
   "source": [
    "data_dict = {\"한국\" : \"KR\", \"일본\" : \"JP\" , \"중국\" : \"CN\"}"
   ]
  },
  {
   "cell_type": "code",
   "execution_count": 7,
   "id": "c951cb9e-d1d4-41f0-9a2a-f87e8a12f62e",
   "metadata": {},
   "outputs": [
    {
     "data": {
      "text/plain": [
       "'KR'"
      ]
     },
     "execution_count": 7,
     "metadata": {},
     "output_type": "execute_result"
    }
   ],
   "source": [
    "data_dict[\"한국\"]"
   ]
  },
  {
   "cell_type": "code",
   "execution_count": 11,
   "id": "92d6e264-711a-44ed-a513-a8939290a022",
   "metadata": {},
   "outputs": [],
   "source": [
    "data_dict[\"미국\"] = \"US\" #값을 추가할 수 있음"
   ]
  },
  {
   "cell_type": "code",
   "execution_count": 10,
   "id": "b504fb54-c0c7-44f5-acd3-5b556a19e595",
   "metadata": {},
   "outputs": [
    {
     "data": {
      "text/plain": [
       "{'한국': 'KR', '일본': 'JP', '중국': 'CN', '미국': 'US'}"
      ]
     },
     "execution_count": 10,
     "metadata": {},
     "output_type": "execute_result"
    }
   ],
   "source": [
    "data_dict"
   ]
  },
  {
   "cell_type": "code",
   "execution_count": 12,
   "id": "9c6d6da5-a40e-4e28-9166-f00a0e11560a",
   "metadata": {},
   "outputs": [],
   "source": [
    "del data_dict[\"일본\"]   # del : 예약어, 명령어"
   ]
  },
  {
   "cell_type": "code",
   "execution_count": 13,
   "id": "230ad9dd-d703-47a9-8282-8041a32cfd6a",
   "metadata": {},
   "outputs": [
    {
     "data": {
      "text/plain": [
       "{'한국': 'KR', '중국': 'CN', '미국': 'US'}"
      ]
     },
     "execution_count": 13,
     "metadata": {},
     "output_type": "execute_result"
    }
   ],
   "source": [
    "data_dict"
   ]
  },
  {
   "cell_type": "code",
   "execution_count": 15,
   "id": "5989ea27-9d1c-4563-9795-555dbe5f5679",
   "metadata": {},
   "outputs": [],
   "source": [
    "data_dict [\"미국\"] = \"USA\""
   ]
  },
  {
   "cell_type": "code",
   "execution_count": 16,
   "id": "aa7e0403-547a-4a62-acdf-95ce5b7c4af3",
   "metadata": {},
   "outputs": [
    {
     "data": {
      "text/plain": [
       "{'한국': 'KR', '중국': 'CN', '미국': 'USA'}"
      ]
     },
     "execution_count": 16,
     "metadata": {},
     "output_type": "execute_result"
    }
   ],
   "source": [
    "data_dict"
   ]
  },
  {
   "cell_type": "code",
   "execution_count": 24,
   "id": "6b52e910-98e5-4d97-bd37-2915c1784f14",
   "metadata": {},
   "outputs": [
    {
     "name": "stdout",
     "output_type": "stream",
     "text": [
      "dict_keys(['한국', '중국', '미국'])\n",
      "<class 'dict_keys'>\n",
      "dict_values(['KR', 'CN', 'USA'])\n",
      "dict_items([('한국', 'KR'), ('중국', 'CN'), ('미국', 'USA')])\n"
     ]
    }
   ],
   "source": [
    "keys = data_dict.keys() # 리스트로 반환 (list로 다 통일)\n",
    "print(keys)\n",
    "print(type(keys))\n",
    "\n",
    "values = data_dict.values()\n",
    "print(values)\n",
    "\n",
    "items = data_dict.items() #tuple방식으로 \n",
    "print(items)"
   ]
  },
  {
   "cell_type": "code",
   "execution_count": 25,
   "id": "1f31e8c7-1217-41df-b6e9-352c27f06947",
   "metadata": {},
   "outputs": [
    {
     "name": "stdout",
     "output_type": "stream",
     "text": [
      "한국\n",
      "중국\n",
      "미국\n"
     ]
    }
   ],
   "source": [
    "for key in keys :\n",
    "    print(key)"
   ]
  },
  {
   "cell_type": "code",
   "execution_count": 26,
   "id": "7497eb5d-2c6c-4f4f-b8c7-21b5f9611a4e",
   "metadata": {},
   "outputs": [
    {
     "name": "stdout",
     "output_type": "stream",
     "text": [
      "('한국', 'KR')\n",
      "('중국', 'CN')\n",
      "('미국', 'USA')\n"
     ]
    }
   ],
   "source": [
    "for item in items : \n",
    "    print(item)  # 출력 시 소괄호 : tuple"
   ]
  },
  {
   "cell_type": "markdown",
   "id": "8a7717c2-16cb-4fc9-a93b-7273cbdc8fc7",
   "metadata": {},
   "source": [
    "#### 리스트"
   ]
  },
  {
   "cell_type": "markdown",
   "id": "cf3b4fdd-5c94-443f-8f3a-60ec4fe4f512",
   "metadata": {},
   "source": [
    "- HTML 문서상에 제목이 여러개가 있는 경우"
   ]
  },
  {
   "cell_type": "code",
   "execution_count": 30,
   "id": "ae71dc95-1e00-493b-885c-a0570f148908",
   "metadata": {},
   "outputs": [
    {
     "name": "stdout",
     "output_type": "stream",
     "text": [
      "뉴스A\n",
      "뉴스B\n",
      "뉴스C\n",
      "뉴스D\n"
     ]
    }
   ],
   "source": [
    "titles = [\"뉴스A\", \"뉴스B\", \"뉴스C\", \"뉴스D\"]  #list\n",
    "for title in titles :\n",
    "   print(title) "
   ]
  },
  {
   "cell_type": "markdown",
   "id": "8ed36004-9a13-4c96-a12e-f6c07b21fc6c",
   "metadata": {},
   "source": [
    "#### 딕셔너리"
   ]
  },
  {
   "cell_type": "code",
   "execution_count": 36,
   "id": "1f3ba955-522e-4782-b48e-00ff30e77f0d",
   "metadata": {},
   "outputs": [],
   "source": [
    "article01 = {\n",
    "    \"title\":\"뉴스A\", \n",
    "    \"link\":\"https://www.naver.com\"\n",
    "    }  # 길때 개행 해줌\n",
    "article02 = {\n",
    "    \"title\":\"뉴스B\", \n",
    "    \"link\":\"https://www.naver.com\"\n",
    "}\n",
    "articlelist = [article01, article02]"
   ]
  }
 ],
 "metadata": {
  "kernelspec": {
   "display_name": "Python [conda env:anaconda3]",
   "language": "python",
   "name": "conda-env-anaconda3-py"
  },
  "language_info": {
   "codemirror_mode": {
    "name": "ipython",
    "version": 3
   },
   "file_extension": ".py",
   "mimetype": "text/x-python",
   "name": "python",
   "nbconvert_exporter": "python",
   "pygments_lexer": "ipython3",
   "version": "3.13.5"
  }
 },
 "nbformat": 4,
 "nbformat_minor": 5
}
