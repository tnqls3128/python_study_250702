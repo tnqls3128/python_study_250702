{
 "cells": [
  {
   "cell_type": "markdown",
   "id": "8e343571-7b48-41e5-99dd-b32de3d1683e",
   "metadata": {},
   "source": [
    "#### 자료구조 : set (집합)\n",
    "- 서로 다른 그룹 간 연산 작업을 보다 쉽게 하기 위한 목적으로 탄생된 자료구조\n",
    "- set() / list() / tuple() / dict()\n",
    "- 리스트 (* 각각의 세부값에 인덱스값을 부여, 이터러블한 객체 -> 반복문)\n",
    "- 투플 (* 각각의 세부값에 인덱스값을 부여, 이터러블한 객체 -> 반복문)\n",
    "- 딕셔너리 (* 각각의 세부값에 인덱스 값을 부여X, 이터러블한 객체X, 반복문X)\n",
    "- set (* 인덱스 값을 부여X, 이터러블한 객체, 반복문) -> 유사배열\n",
    "- 크롤링 시, 찾아온 값이 거의 대부분 리스트 형태로 들어옴 -> 반복적으로 불필요하게 값을 찾아오는 경우 부지기수 -> 중복된 값을 하나로 정리하는 기능을 가장 많이 사용"
   ]
  },
  {
   "cell_type": "code",
   "execution_count": 1,
   "id": "234f7cf3-b904-4fef-bbfe-35ec98e5f00a",
   "metadata": {},
   "outputs": [
    {
     "data": {
      "text/plain": [
       "set"
      ]
     },
     "execution_count": 1,
     "metadata": {},
     "output_type": "execute_result"
    }
   ],
   "source": [
    "data_set01 = set()\n",
    "type(data_set01)"
   ]
  },
  {
   "cell_type": "code",
   "execution_count": 3,
   "id": "632a100c-49bc-4adb-8c2d-afeb77b42a3a",
   "metadata": {},
   "outputs": [
    {
     "data": {
      "text/plain": [
       "{'apple', 'del', 'lg', 'samsung'}"
      ]
     },
     "execution_count": 3,
     "metadata": {},
     "output_type": "execute_result"
    }
   ],
   "source": [
    "data_set02 = {\"apple\", \"del\", \"samsung\", \"lg\"}\n",
    "#dic은 세부적인 정보를 기록, set은 교집합, 차집합 그룹 간 데이터 차이를 보기 위함 \n",
    "data_set02"
   ]
  },
  {
   "cell_type": "code",
   "execution_count": 10,
   "id": "451700ab-f0e8-46b5-87a7-a23b8ed9c8fe",
   "metadata": {},
   "outputs": [
    {
     "data": {
      "text/plain": [
       "{'a', 'e', 'l', 'p'}"
      ]
     },
     "execution_count": 10,
     "metadata": {},
     "output_type": "execute_result"
    }
   ],
   "source": [
    "data_set03 = set(\"apple\") #단일값이므로 인정\n",
    "data_set03"
   ]
  },
  {
   "cell_type": "code",
   "execution_count": 12,
   "id": "24ac3ffa-7f4c-4596-a498-5a2fbcc10e23",
   "metadata": {},
   "outputs": [
    {
     "data": {
      "text/plain": [
       "{'jyp', 'sm'}"
      ]
     },
     "execution_count": 12,
     "metadata": {},
     "output_type": "execute_result"
    }
   ],
   "source": [
    "# data_set04 = set(\"sm\", \"jyp\") -> X\n",
    "{\"sm\", \"jyp\"}"
   ]
  },
  {
   "cell_type": "code",
   "execution_count": 13,
   "id": "a9963378-0681-4fd6-bbd6-4c2ecccdb2a0",
   "metadata": {},
   "outputs": [
    {
     "name": "stdout",
     "output_type": "stream",
     "text": [
      "lg\n",
      "apple\n",
      "samsung\n",
      "del\n"
     ]
    }
   ],
   "source": [
    "for data in data_set02 :\n",
    "    print(data)"
   ]
  },
  {
   "cell_type": "code",
   "execution_count": 16,
   "id": "3a246c86-fee1-43eb-9b20-cc61a8645be3",
   "metadata": {},
   "outputs": [
    {
     "name": "stdout",
     "output_type": "stream",
     "text": [
      "False\n",
      "True\n"
     ]
    }
   ],
   "source": [
    "# data_set02[0] -> X\n",
    "\n",
    "print(\"motorola\" in data_set02)\n",
    "print(\"apple\" in data_set02)"
   ]
  },
  {
   "cell_type": "code",
   "execution_count": 18,
   "id": "b6a70f7f-0781-4f23-84a7-e99a052cd018",
   "metadata": {},
   "outputs": [],
   "source": [
    "data04 = {\"피카츄\", \"라이츄\", \"꼬부기\"}"
   ]
  },
  {
   "cell_type": "code",
   "execution_count": 20,
   "id": "98e121eb-99cb-41c2-8d2b-eae306ca6679",
   "metadata": {},
   "outputs": [],
   "source": [
    "data05 = {\"잠만보\", \"파이리\", \"피카츄\"}"
   ]
  },
  {
   "cell_type": "code",
   "execution_count": 22,
   "id": "7b93ba27-3dbc-42af-91ba-d4fdaa0e02af",
   "metadata": {},
   "outputs": [
    {
     "data": {
      "text/plain": [
       "{'피카츄'}"
      ]
     },
     "execution_count": 22,
     "metadata": {},
     "output_type": "execute_result"
    }
   ],
   "source": [
    "data04 & data05 #교집합"
   ]
  },
  {
   "cell_type": "code",
   "execution_count": 25,
   "id": "62d4a481-4b0a-45b0-b3d7-5d33a98e6887",
   "metadata": {},
   "outputs": [
    {
     "data": {
      "text/plain": [
       "{'꼬부기', '라이츄', '잠만보', '파이리', '피카츄'}"
      ]
     },
     "execution_count": 25,
     "metadata": {},
     "output_type": "execute_result"
    }
   ],
   "source": [
    "data04 | data05 #합집합 (데이터 중복값 제거)"
   ]
  },
  {
   "cell_type": "code",
   "execution_count": 27,
   "id": "ae7392a3-3921-4149-8f5f-4acb11666223",
   "metadata": {},
   "outputs": [
    {
     "data": {
      "text/plain": [
       "{'꼬부기', '라이츄'}"
      ]
     },
     "execution_count": 27,
     "metadata": {},
     "output_type": "execute_result"
    }
   ],
   "source": [
    "data04 - data05 #차집합 (위치, 순서 중요 / 앞에것 기준)"
   ]
  },
  {
   "cell_type": "code",
   "execution_count": 29,
   "id": "5093acc6-a678-435f-93e4-bc2bf15399b6",
   "metadata": {},
   "outputs": [
    {
     "data": {
      "text/plain": [
       "{'꼬부기', '라이츄', '잠만보', '파이리'}"
      ]
     },
     "execution_count": 29,
     "metadata": {},
     "output_type": "execute_result"
    }
   ],
   "source": [
    "data04 ^ data05 #교집합 제외 나머지"
   ]
  }
 ],
 "metadata": {
  "kernelspec": {
   "display_name": "Python [conda env:anaconda3]",
   "language": "python",
   "name": "conda-env-anaconda3-py"
  },
  "language_info": {
   "codemirror_mode": {
    "name": "ipython",
    "version": 3
   },
   "file_extension": ".py",
   "mimetype": "text/x-python",
   "name": "python",
   "nbconvert_exporter": "python",
   "pygments_lexer": "ipython3",
   "version": "3.13.5"
  }
 },
 "nbformat": 4,
 "nbformat_minor": 5
}
