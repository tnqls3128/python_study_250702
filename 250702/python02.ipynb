{
 "cells": [
  {
   "cell_type": "markdown",
   "id": "a7a7055a-8842-4c45-b93b-71d2a1b88cdd",
   "metadata": {},
   "source": [
    "#### 파이썬 입,출력 예시\n",
    "\n",
    "- 사용자로부터 두 개의 숫자를 입력받은 후 해당 두 개의 숫자를 더한 값을 출력하는 프로그램을 작성해보세요."
   ]
  },
  {
   "cell_type": "code",
   "execution_count": 33,
   "id": "1ee6c70d-1a4e-4f5b-a0f7-ee81e8c41ab2",
   "metadata": {},
   "outputs": [
    {
     "name": "stdin",
     "output_type": "stream",
     "text": [
      "첫번째 숫자를 입력하세요:  10\n",
      "두번째 숫자를 입력하세요:  2\n"
     ]
    },
    {
     "name": "stdout",
     "output_type": "stream",
     "text": [
      "두 개의 숫자를 더한 값은 12\n",
      "합계: 12\n"
     ]
    }
   ],
   "source": [
    "num1 = input(\"첫번째 숫자를 입력하세요: \")\n",
    "num2 = input(\"두번째 숫자를 입력하세요: \")\n",
    "\n",
    "num1 = int(num1)\n",
    "num2 = int(num2)\n",
    "\n",
    "print(\"두 개의 숫자를 더한 값은\", num1+num2)\n",
    "print(f\"합계: {num1+num2}\")"
   ]
  },
  {
   "cell_type": "code",
   "execution_count": 15,
   "id": "90c9b2ff-4716-4c93-b2b6-ba2629073ca2",
   "metadata": {},
   "outputs": [
    {
     "name": "stdin",
     "output_type": "stream",
     "text": [
      " 1\n",
      " 2\n"
     ]
    },
    {
     "name": "stdout",
     "output_type": "stream",
     "text": [
      " 합계 : 3\n"
     ]
    }
   ],
   "source": [
    "num1 = int(input())\n",
    "num2 = int(input())\n",
    "\n",
    "print(\" 합계 :\", num1+num2)"
   ]
  },
  {
   "cell_type": "markdown",
   "id": "e1df128f-8936-4c8a-8713-ef85f2ad693b",
   "metadata": {},
   "source": [
    "- 사용자로부터 두 개의 숫자를 입력받은 후 곱한 값, 나눈 값, 나눈 몫, 나머지 값을 각각 출력하는 프로그램을 작성해보세요."
   ]
  },
  {
   "cell_type": "code",
   "execution_count": 1,
   "id": "d3064130-8bde-49cc-9a92-cdcd72dc18e9",
   "metadata": {},
   "outputs": [
    {
     "name": "stdin",
     "output_type": "stream",
     "text": [
      "첫번째 숫자를 입력하세요:  10\n",
      "두번째 숫자를 입력하세요:  3\n"
     ]
    },
    {
     "name": "stdout",
     "output_type": "stream",
     "text": [
      "곱한 값:  30\n",
      "나눈 값: 10 / 3 = 3.3333333333333335\n",
      "몫: 10 // 3 =3\n",
      "나머지 값: 10 % 3 = 1\n"
     ]
    }
   ],
   "source": [
    "num1 = int(input(\"첫번째 숫자를 입력하세요: \"))\n",
    "num2 = int(input(\"두번째 숫자를 입력하세요: \"))\n",
    "\n",
    "print(\"곱한 값: \", num1 * num2)\n",
    "print(f\"나눈 값: {num1} / {num2} = {num1 / num2}\")\n",
    "print(f\"몫: {num1} // {num2} ={ num1//num2}\")\n",
    "print(f\"나머지 값: {num1} % {num2} = {num1 % num2}\")"
   ]
  },
  {
   "cell_type": "markdown",
   "id": "20b0e2d9-6bef-48d5-be4d-de7c1133fc19",
   "metadata": {},
   "source": [
    "### 데이터 자료구조 리스트 (list)\n",
    "- 파이썬의 리스트 : 다른 프로그래밍 언어에서 주로 배열(array) 이라는 이름으로 많이 불림\n",
    "- 프로그래밍 언어 -> 인간의 작업보다 효율적, 패턴을 가지고 있는 반복적인 작업을 매우 빠르게 잘함\n",
    "- 어떤 연산처리 작업을 반복해서 할 수 있는 형태의 자료구조여야만 위의 작업을 할 수 있음\n",
    "- 이터러블 = iterable = 반복적인, 하나씩 꺼내 쓸 수 있는 데이터\n",
    "- 문자열 역시 이터러블한 속성을 가지고 있음\n",
    "- 리스트 자료구조는 내부에 입력된 값에 고유한 개별적인 인덱스(index)값을 부여"
   ]
  },
  {
   "cell_type": "markdown",
   "id": "fd564684-f4a4-4231-89dd-f5834e96cca6",
   "metadata": {},
   "source": [
    "- 리스트는 각각 고유한 인덱스값을 가지고 있음 (0부터 시작함)\n",
    "- 리스트에서 특정 인덱스값을 찾아오고자 할 때 -> 변수명[인덱스값] & 만약 오른쪽부터 값을 찾아오고 싶다면 -1 음수값부터 시작\n",
    "- 문자열과 동일하게 슬라이싱 기능 있음 -> 변수명 [시작인데스 : 종료인덱스 +1]\n",
    "> 용어함수\n",
    "- attend() : 리스트 자료구조에서 왼쪽부터 신규로 값을 추가할 수 있도록 해주는 함수 -> *한번에 여러개 함수 추가 X\n",
    "- extend() : 리스트 자료구조에서 왼쪽부터 신규로 값을 추가하는데 있어서 복수의 값을 한 번에 추가할 수 있음\n",
    "- insert() : 리스트 자료구조 안에 값을 추가할 수 있는 함수 -> 첫번째 인덱스는 추가하고자 하는 위치, 두번째 인덱스는 추가하고자 하는 값을 의미\n",
    "- remove() : 함수의 인자값을 리스트 자료구조의 왼쪽부터 서칭하다가 발견 시, 삭제해주는 함수\n",
    "- del : del 변수명[인덱스값] -> 해당 인덱스값을 삭제해주는 함수\n",
    "- sort() : 리스트 안에 있는 값을 오름차순으로 정렬할 때 사용하는 함수\n",
    "- reverse() : 리스트 안에 있는 값을 내림차순으로 정렬할 때 사용하는 함수\n",
    "- split() : 문자열의 자료형태를 인자값을 기준으로 나눠서 리스트 자료형태를 변환시켜주는 함수"
   ]
  },
  {
   "cell_type": "markdown",
   "id": "ab4e254f-48b7-49cf-820a-d8b879e0a7bb",
   "metadata": {},
   "source": [
    "#### 리스트 자료구조 생성하는 방법\n",
    "1. 변수 선언과 함께 직접 대괄호 입력 후 내부에 요소들을 입력하는 방법\n",
    "2. 아무런 값도 존재하지 않는 빈 리스트를 만든 후 값을 하나씩 채워가는 방법\n",
    "3. 파이썬 내 클래스 문법을 통해서 이미 생성된 리스트 프로토타입을 활용해서 인스턴스 객체를 생성하는 방법"
   ]
  },
  {
   "cell_type": "code",
   "execution_count": 30,
   "id": "a7b8727b-ee9b-4a0e-9f95-300ffd4ce813",
   "metadata": {},
   "outputs": [
    {
     "name": "stdout",
     "output_type": "stream",
     "text": [
      "오마이뉴스\n",
      "한국일보\n",
      "시사인\n",
      "KBSNEWS\n",
      "스포츠조선\n"
     ]
    }
   ],
   "source": [
    "mydata = [\"hellow\", 1, 2, \"world\"] # list, 이터러블(반복적인), 자료구조\n",
    "news = [\"오마이뉴스\", \"한국일보\", \"시사인\", \"KBSNEWS\", \"스포츠조선\"]\n",
    "\n",
    "for media in news : #반복문 -> iterable한 자료여야함 \n",
    "    print(media)"
   ]
  },
  {
   "cell_type": "code",
   "execution_count": 97,
   "id": "e77b27e0-a6f2-459c-9df8-ce18cf24319d",
   "metadata": {},
   "outputs": [
    {
     "name": "stdout",
     "output_type": "stream",
     "text": [
      "서울시\n",
      "인천시\n",
      "경기도\n",
      "['서울시', '인천시', '경기도']\n",
      "<class 'list'>\n"
     ]
    }
   ],
   "source": [
    "location = [\"서울시\", \"인천시\", \"경기도\"] #고유한 index값\n",
    "\n",
    "print(location[0])\n",
    "print(location[1])\n",
    "print(location[2])\n",
    "print(location)\n",
    "print(type(location))"
   ]
  },
  {
   "cell_type": "code",
   "execution_count": 98,
   "id": "55ec9515-7ffa-472b-822c-8f6519dd90a8",
   "metadata": {},
   "outputs": [
    {
     "data": {
      "text/plain": [
       "['서울시', '인천시', '경기도', '부산시']"
      ]
     },
     "execution_count": 98,
     "metadata": {},
     "output_type": "execute_result"
    }
   ],
   "source": [
    "location.append(\"부산시\") #값을 추가 ex.부록\n",
    "\n",
    "# print(location)\n",
    "location # print안 넣어도 행 마지막에 넣어도 출력"
   ]
  },
  {
   "cell_type": "code",
   "execution_count": 99,
   "id": "4db1d063-7dfb-4e69-a633-b78896e46cb9",
   "metadata": {},
   "outputs": [],
   "source": [
    "location.append(\"완도군\")  #값을 하나씩밖에 못넣음"
   ]
  },
  {
   "cell_type": "code",
   "execution_count": 100,
   "id": "d5432396-d17d-4d59-8ffc-746673e09a0f",
   "metadata": {},
   "outputs": [
    {
     "data": {
      "text/plain": [
       "['서울시', '인천시', '경기도', '부산시', '완도군']"
      ]
     },
     "execution_count": 100,
     "metadata": {},
     "output_type": "execute_result"
    }
   ],
   "source": [
    "location"
   ]
  },
  {
   "cell_type": "code",
   "execution_count": 102,
   "id": "648cd9c9-22dd-4bf1-aba7-129fa5dfb193",
   "metadata": {},
   "outputs": [
    {
     "data": {
      "text/plain": [
       "'부산시'"
      ]
     },
     "execution_count": 102,
     "metadata": {},
     "output_type": "execute_result"
    }
   ],
   "source": [
    "location[-2]"
   ]
  },
  {
   "cell_type": "code",
   "execution_count": 103,
   "id": "6ed95d3e-182d-4dc4-ba61-1557653bed88",
   "metadata": {},
   "outputs": [
    {
     "data": {
      "text/plain": [
       "['인천시', '경기도']"
      ]
     },
     "execution_count": 103,
     "metadata": {},
     "output_type": "execute_result"
    }
   ],
   "source": [
    "location[1:3]"
   ]
  },
  {
   "cell_type": "code",
   "execution_count": 104,
   "id": "52a00a4f-4851-43aa-a54c-be193f75aba6",
   "metadata": {},
   "outputs": [],
   "source": [
    "location.remove(\"경기도\")"
   ]
  },
  {
   "cell_type": "code",
   "execution_count": 105,
   "id": "528953f9-2d75-446b-92ea-9ceb2360f521",
   "metadata": {},
   "outputs": [
    {
     "data": {
      "text/plain": [
       "['서울시', '인천시', '부산시', '완도군']"
      ]
     },
     "execution_count": 105,
     "metadata": {},
     "output_type": "execute_result"
    }
   ],
   "source": [
    "location"
   ]
  },
  {
   "cell_type": "code",
   "execution_count": 106,
   "id": "077118e1-30af-4742-bb12-8121412e04b4",
   "metadata": {},
   "outputs": [],
   "source": [
    "location.extend([\"천안시\", \"대구시\"])"
   ]
  },
  {
   "cell_type": "code",
   "execution_count": 107,
   "id": "415f8931-f19b-431f-8d9b-bb9ef874168e",
   "metadata": {},
   "outputs": [
    {
     "data": {
      "text/plain": [
       "['서울시', '인천시', '부산시', '완도군', '천안시', '대구시']"
      ]
     },
     "execution_count": 107,
     "metadata": {},
     "output_type": "execute_result"
    }
   ],
   "source": [
    "location"
   ]
  },
  {
   "cell_type": "code",
   "execution_count": 108,
   "id": "077f2c3b-d4da-41cb-bde2-5796a9aa5b91",
   "metadata": {},
   "outputs": [],
   "source": [
    "location.insert(0,\"제주도\")"
   ]
  },
  {
   "cell_type": "code",
   "execution_count": 109,
   "id": "dc4ade38-b7d1-43ef-a89b-26eadf02a817",
   "metadata": {},
   "outputs": [
    {
     "data": {
      "text/plain": [
       "['제주도', '서울시', '인천시', '부산시', '완도군', '천안시', '대구시']"
      ]
     },
     "execution_count": 109,
     "metadata": {},
     "output_type": "execute_result"
    }
   ],
   "source": [
    "location"
   ]
  },
  {
   "cell_type": "code",
   "execution_count": 130,
   "id": "ad1d292f-5e43-4f38-9f57-9101871ea7d5",
   "metadata": {},
   "outputs": [
    {
     "data": {
      "text/plain": [
       "list"
      ]
     },
     "execution_count": 130,
     "metadata": {},
     "output_type": "execute_result"
    }
   ],
   "source": [
    "location01 = [] #리스트의 자료 형태\n",
    "\n",
    "type(location01)"
   ]
  },
  {
   "cell_type": "code",
   "execution_count": 131,
   "id": "95a1538b-2801-4bd6-9472-3a73e24f2e1e",
   "metadata": {},
   "outputs": [],
   "source": [
    "location01.append(\"강원도\")"
   ]
  },
  {
   "cell_type": "code",
   "execution_count": 132,
   "id": "a70024c1-eef3-4343-82d9-63a8c7c7cec2",
   "metadata": {},
   "outputs": [
    {
     "data": {
      "text/plain": [
       "['강원도']"
      ]
     },
     "execution_count": 132,
     "metadata": {},
     "output_type": "execute_result"
    }
   ],
   "source": [
    "location01"
   ]
  },
  {
   "cell_type": "code",
   "execution_count": 135,
   "id": "b74801c4-3d78-44dd-9609-64480da0bc2e",
   "metadata": {},
   "outputs": [
    {
     "name": "stdout",
     "output_type": "stream",
     "text": [
      "<class 'list'>\n"
     ]
    }
   ],
   "source": [
    "location02 = list()\n",
    "\n",
    "print(type(location02))"
   ]
  },
  {
   "cell_type": "code",
   "execution_count": 139,
   "id": "d1a1595f-4140-4c1a-8303-2aa6365d945d",
   "metadata": {},
   "outputs": [
    {
     "name": "stdout",
     "output_type": "stream",
     "text": [
      "[2, 1, 4, 3]\n",
      "[1, 2, 3, 4]\n",
      "[4, 3, 2, 1]\n"
     ]
    }
   ],
   "source": [
    "numbers = [2, 1, 4, 3]\n",
    "print(numbers)\n",
    "\n",
    "#오름차순으로 정렬 -> sort 함수\n",
    "numbers.sort()\n",
    "print(numbers)\n",
    "\n",
    "#역순으로 정렬 -> reverse\n",
    "numbers.reverse()\n",
    "print(numbers)"
   ]
  },
  {
   "cell_type": "code",
   "execution_count": 145,
   "id": "d50d6282-2624-4b74-afbd-aa696a4f9475",
   "metadata": {},
   "outputs": [
    {
     "data": {
      "text/plain": [
       "'python'"
      ]
     },
     "execution_count": 145,
     "metadata": {},
     "output_type": "execute_result"
    }
   ],
   "source": [
    "#가장 많이 사용하는 함수 (쪼개기)\n",
    "pythonBasic = \"python is easy\"\n",
    "pylist = pythonBasic.split()\n",
    "pylist[0]"
   ]
  },
  {
   "cell_type": "code",
   "execution_count": null,
   "id": "0deeea81-78dc-421f-a8d7-12cb7e1fed5a",
   "metadata": {},
   "outputs": [],
   "source": []
  }
 ],
 "metadata": {
  "kernelspec": {
   "display_name": "Python [conda env:anaconda3]",
   "language": "python",
   "name": "conda-env-anaconda3-py"
  },
  "language_info": {
   "codemirror_mode": {
    "name": "ipython",
    "version": 3
   },
   "file_extension": ".py",
   "mimetype": "text/x-python",
   "name": "python",
   "nbconvert_exporter": "python",
   "pygments_lexer": "ipython3",
   "version": "3.13.5"
  }
 },
 "nbformat": 4,
 "nbformat_minor": 5
}
