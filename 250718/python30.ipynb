{
 "cells": [
  {
   "cell_type": "code",
   "execution_count": 3,
   "id": "6c353872-17ac-4a65-8ff6-90a2d6033819",
   "metadata": {},
   "outputs": [
    {
     "name": "stdout",
     "output_type": "stream",
     "text": [
      "KT, MS 투인원 랩톱 '서피스 프로9 5G' 단독 출시\n",
      "NIO, 차량가격 인하 및 배터리스왑 옵션으로 분리\n",
      "삼성전자, 게이밍 모니터 ‘오디세이 OLED G9’ 출시\n",
      "'애플, M3 15인치 맥북에어 개발…내년 출시'\n",
      "ChatGPT의 독일 교회 설교에 300명이 참석\n",
      "엑스박스 시리즈 S 1TB 모델 발표, 349달러\n",
      "애플,아이폰을 반려동물 추적 카메라로 바꾸고 싶어해\n",
      "애플, 개발자가 Windows 게임을 Mac으로 이식하는 데 도움이 되는 도구 출시\n",
      "M2 울트라,벤치마크에서 M1 울트라에 비해 성능이 향상된 것으로 나타나\n",
      "애플 비전 프로 개발자 키트 애플리케이션 7월에 출시될 예정\n",
      "ChatGPT는 25개 농담만 할 수 있고, 새 농담을 생각해낼 수 없다는 연구 결과\n",
      "미국 비밀번호 공유 단속이 시작되자 넷플릭스 구독자 수 증가\n",
      "인텔, 개발자용 폰트 Intel One Mono 오픈 소스로 공개\n",
      "‘블루투스 실명제’ 도입한다는 중국\n",
      "빙 챗, 데스크탑 엣지 브라우저에서 음성으로 질문 지원 (한국어 아직 미지원)\n",
      "EV충전업체 3곳 테슬라충전규격 지원 발표\n",
      "Apple Vision Pro: 3800x3000 픽셀 및 90/96Hz의 마이크로 OLED – 패러다임 전환\n",
      "개인정보 문제로 10년 이상 업데이트 중단된 독일 구글 스트리트 뷰 복귀\n",
      "구글 비밀번호 관리자, 데스크탑용에 생체 인증 추가 예고\n",
      "데스크탑 GPU 판매량 10년만에 최저치 기록\n",
      "샘 올트먼 '한국에 오픈AI 사무소 열고 싶어…파트너십 지원'\n",
      "레딧 서드파티 앱 Apollo 등 여러 앱 서비스 종료 / 12일 레딧 상대로 단체 항의 예정\n",
      "삼성, 챗GPT 대항마 개발 나섰다\n",
      "GM, 포드에 이어 테슬라 충전규격 도입\n",
      "테슬라, 사이버트럭 연37만5천대분 부품 발주\n",
      "구글 바드, 프로그래밍 능력 향상 업데이트 공지\n",
      "Apple Developer 사이트 내 'tmoney' Payment networks Beta 추가\n",
      "워드프레스가 블로그 글을 대신 써 주는 AI 도구 발표\n",
      "[약후] 일본 첫 AI 그라비아 사진집, '검토가 부족했다'면서 7일 판매 종료\n",
      "ChatGPT iOS용 앱, 아이패드와 단축어 통합 지원 추가\n"
     ]
    }
   ],
   "source": [
    "import requests\n",
    "from bs4 import BeautifulSoup\n",
    "\n",
    "res = requests.get(\"https://davelee-fun.github.io/trial/board/news.html\")\n",
    "soup = BeautifulSoup(res.content, \"html.parser\")\n",
    "\n",
    "datas = soup.select(\"div.list_content > div.list_item\")\n",
    "\n",
    "for data in datas :\n",
    "    title = data.select_one(\"span.subject_fixed\")\n",
    "    if title != None :\n",
    "        print(title.get_text().strip())"
   ]
  },
  {
   "cell_type": "code",
   "execution_count": 5,
   "id": "19322900-b879-4c90-918c-e09b3575c5f8",
   "metadata": {},
   "outputs": [
    {
     "name": "stdout",
     "output_type": "stream",
     "text": [
      "1 KT, MS 투인원 랩톱 '서피스 프로9 5G' 단독 출시\n",
      "2 NIO, 차량가격 인하 및 배터리스왑 옵션으로 분리\n",
      "3 삼성전자, 게이밍 모니터 ‘오디세이 OLED G9’ 출시\n",
      "4 '애플, M3 15인치 맥북에어 개발…내년 출시'\n",
      "5 ChatGPT의 독일 교회 설교에 300명이 참석\n",
      "6 엑스박스 시리즈 S 1TB 모델 발표, 349달러\n",
      "7 애플,아이폰을 반려동물 추적 카메라로 바꾸고 싶어해\n",
      "8 애플, 개발자가 Windows 게임을 Mac으로 이식하는 데 도움이 되는 도구 출시\n",
      "9 M2 울트라,벤치마크에서 M1 울트라에 비해 성능이 향상된 것으로 나타나\n",
      "10 애플 비전 프로 개발자 키트 애플리케이션 7월에 출시될 예정\n",
      "11 ChatGPT는 25개 농담만 할 수 있고, 새 농담을 생각해낼 수 없다는 연구 결과\n",
      "12 미국 비밀번호 공유 단속이 시작되자 넷플릭스 구독자 수 증가\n",
      "13 인텔, 개발자용 폰트 Intel One Mono 오픈 소스로 공개\n",
      "14 ‘블루투스 실명제’ 도입한다는 중국\n",
      "15 빙 챗, 데스크탑 엣지 브라우저에서 음성으로 질문 지원 (한국어 아직 미지원)\n",
      "16 EV충전업체 3곳 테슬라충전규격 지원 발표\n",
      "17 Apple Vision Pro: 3800x3000 픽셀 및 90/96Hz의 마이크로 OLED – 패러다임 전환\n",
      "18 개인정보 문제로 10년 이상 업데이트 중단된 독일 구글 스트리트 뷰 복귀\n",
      "19 구글 비밀번호 관리자, 데스크탑용에 생체 인증 추가 예고\n",
      "20 데스크탑 GPU 판매량 10년만에 최저치 기록\n",
      "21 샘 올트먼 '한국에 오픈AI 사무소 열고 싶어…파트너십 지원'\n",
      "22 레딧 서드파티 앱 Apollo 등 여러 앱 서비스 종료 / 12일 레딧 상대로 단체 항의 예정\n",
      "23 삼성, 챗GPT 대항마 개발 나섰다\n",
      "24 GM, 포드에 이어 테슬라 충전규격 도입\n",
      "25 테슬라, 사이버트럭 연37만5천대분 부품 발주\n",
      "26 구글 바드, 프로그래밍 능력 향상 업데이트 공지\n",
      "27 Apple Developer 사이트 내 'tmoney' Payment networks Beta 추가\n",
      "28 워드프레스가 블로그 글을 대신 써 주는 AI 도구 발표\n",
      "29 [약후] 일본 첫 AI 그라비아 사진집, '검토가 부족했다'면서 7일 판매 종료\n",
      "30 ChatGPT iOS용 앱, 아이패드와 단축어 통합 지원 추가\n"
     ]
    }
   ],
   "source": [
    "import requests\n",
    "from bs4 import BeautifulSoup\n",
    "\n",
    "res = requests.get(\"https://davelee-fun.github.io/trial/board/news.html\")\n",
    "soup = BeautifulSoup(res.content, \"html.parser\")\n",
    "\n",
    "datas = soup.select(\"div.list_content > div.list_item\")\n",
    "index = 0\n",
    "\n",
    "for data in datas :\n",
    "    title = data.select_one(\"span.subject_fixed\")\n",
    "    if title != None :\n",
    "        index += 1\n",
    "        print(index, title.get_text().strip())"
   ]
  },
  {
   "cell_type": "code",
   "execution_count": 6,
   "id": "449a8dcc-65cc-4e0e-9e39-34b9c471fb68",
   "metadata": {},
   "outputs": [
    {
     "name": "stdout",
     "output_type": "stream",
     "text": [
      "1 KT, MS 투인원 랩톱 '서피스 프로9 5G' 단독 출시 1\n",
      "2 NIO, 차량가격 인하 및 배터리스왑 옵션으로 분리 2\n",
      "3 삼성전자, 게이밍 모니터 ‘오디세이 OLED G9’ 출시 6\n",
      "4 '애플, M3 15인치 맥북에어 개발…내년 출시' 7\n",
      "5 ChatGPT의 독일 교회 설교에 300명이 참석 8\n",
      "6 엑스박스 시리즈 S 1TB 모델 발표, 349달러 8\n",
      "7 애플,아이폰을 반려동물 추적 카메라로 바꾸고 싶어해 16\n",
      "8 애플, 개발자가 Windows 게임을 Mac으로 이식하는 데 도움이 되는 도구 출시 31\n",
      "9 M2 울트라,벤치마크에서 M1 울트라에 비해 성능이 향상된 것으로 나타나 18\n",
      "10 애플 비전 프로 개발자 키트 애플리케이션 7월에 출시될 예정 2\n",
      "11 ChatGPT는 25개 농담만 할 수 있고, 새 농담을 생각해낼 수 없다는 연구 결과 16\n",
      "12 미국 비밀번호 공유 단속이 시작되자 넷플릭스 구독자 수 증가 22\n",
      "13 인텔, 개발자용 폰트 Intel One Mono 오픈 소스로 공개 39\n",
      "14 ‘블루투스 실명제’ 도입한다는 중국 37\n",
      "15 빙 챗, 데스크탑 엣지 브라우저에서 음성으로 질문 지원 (한국어 아직 미지원) 9\n",
      "16 EV충전업체 3곳 테슬라충전규격 지원 발표 45\n",
      "17 Apple Vision Pro: 3800x3000 픽셀 및 90/96Hz의 마이크로 OLED – 패러다임 전환 69\n",
      "18 개인정보 문제로 10년 이상 업데이트 중단된 독일 구글 스트리트 뷰 복귀 7\n",
      "19 구글 비밀번호 관리자, 데스크탑용에 생체 인증 추가 예고 8\n",
      "20 데스크탑 GPU 판매량 10년만에 최저치 기록 52\n",
      "21 샘 올트먼 '한국에 오픈AI 사무소 열고 싶어…파트너십 지원' 7\n",
      "22 레딧 서드파티 앱 Apollo 등 여러 앱 서비스 종료 / 12일 레딧 상대로 단체 항의 예정 8\n",
      "23 삼성, 챗GPT 대항마 개발 나섰다 94\n",
      "24 GM, 포드에 이어 테슬라 충전규격 도입 46\n",
      "25 테슬라, 사이버트럭 연37만5천대분 부품 발주 9\n",
      "26 구글 바드, 프로그래밍 능력 향상 업데이트 공지 1\n",
      "27 Apple Developer 사이트 내 'tmoney' Payment networks Beta 추가 30\n",
      "28 워드프레스가 블로그 글을 대신 써 주는 AI 도구 발표 4\n",
      "29 [약후] 일본 첫 AI 그라비아 사진집, '검토가 부족했다'면서 7일 판매 종료 16\n",
      "30 ChatGPT iOS용 앱, 아이패드와 단축어 통합 지원 추가 4\n"
     ]
    }
   ],
   "source": [
    "import requests\n",
    "from bs4 import BeautifulSoup\n",
    "\n",
    "res = requests.get(\"https://davelee-fun.github.io/trial/board/news.html\")\n",
    "soup = BeautifulSoup(res.content, \"html.parser\")\n",
    "\n",
    "datas = soup.select(\"div.list_content > div.list_item\")\n",
    "index = 0\n",
    "\n",
    "for data in datas :\n",
    "    title = data.select_one(\"span.subject_fixed\")\n",
    "    replies = data.select_one(\"span.rSymph05\")\n",
    "    if title != None :\n",
    "        index += 1\n",
    "        print(index, title.get_text().strip(), replies.get_text())"
   ]
  },
  {
   "cell_type": "code",
   "execution_count": 7,
   "id": "a781e06d-4619-4c75-b841-74836a525ec0",
   "metadata": {},
   "outputs": [
    {
     "name": "stdout",
     "output_type": "stream",
     "text": [
      "1 KT, MS 투인원 랩톱 '서피스 프로9 5G' 단독 출시 1 https://davelee-fun.github.io/trial/board/news/18129892%EF%B9%96od=T31&po=0&category=0&groupCd=.html\n",
      "2 NIO, 차량가격 인하 및 배터리스왑 옵션으로 분리 2 https://davelee-fun.github.io/trial/board/news/18129728%EF%B9%96od=T31&po=0&category=0&groupCd=.html\n",
      "3 삼성전자, 게이밍 모니터 ‘오디세이 OLED G9’ 출시 6 https://davelee-fun.github.io/trial/board/news/18129714%EF%B9%96od=T31&po=0&category=0&groupCd=.html\n",
      "4 '애플, M3 15인치 맥북에어 개발…내년 출시' 7 https://davelee-fun.github.io/trial/board/news/18129670%EF%B9%96od=T31&po=0&category=0&groupCd=.html\n",
      "5 ChatGPT의 독일 교회 설교에 300명이 참석 8 https://davelee-fun.github.io/trial/board/news/18129570%EF%B9%96od=T31&po=0&category=0&groupCd=.html\n",
      "6 엑스박스 시리즈 S 1TB 모델 발표, 349달러 8 https://davelee-fun.github.io/trial/board/news/18129332%EF%B9%96od=T31&po=0&category=0&groupCd=.html\n",
      "7 애플,아이폰을 반려동물 추적 카메라로 바꾸고 싶어해 16 https://davelee-fun.github.io/trial/board/news/18129205%EF%B9%96od=T31&po=0&category=0&groupCd=.html\n",
      "8 애플, 개발자가 Windows 게임을 Mac으로 이식하는 데 도움이 되는 도구 출시 31 https://davelee-fun.github.io/trial/board/news/18129200%EF%B9%96od=T31&po=0&category=0&groupCd=.html\n",
      "9 M2 울트라,벤치마크에서 M1 울트라에 비해 성능이 향상된 것으로 나타나 18 https://davelee-fun.github.io/trial/board/news/18129193%EF%B9%96od=T31&po=0&category=0&groupCd=.html\n",
      "10 애플 비전 프로 개발자 키트 애플리케이션 7월에 출시될 예정 2 https://davelee-fun.github.io/trial/board/news/18129189%EF%B9%96od=T31&po=0&category=0&groupCd=.html\n",
      "11 ChatGPT는 25개 농담만 할 수 있고, 새 농담을 생각해낼 수 없다는 연구 결과 16 https://davelee-fun.github.io/trial/board/news/18128818%EF%B9%96od=T31&po=0&category=0&groupCd=.html\n",
      "12 미국 비밀번호 공유 단속이 시작되자 넷플릭스 구독자 수 증가 22 https://davelee-fun.github.io/trial/board/news/18128602%EF%B9%96od=T31&po=0&category=0&groupCd=.html\n",
      "13 인텔, 개발자용 폰트 Intel One Mono 오픈 소스로 공개 39 https://davelee-fun.github.io/trial/board/news/18128012%EF%B9%96od=T31&po=0&category=0&groupCd=.html\n",
      "14 ‘블루투스 실명제’ 도입한다는 중국 37 https://davelee-fun.github.io/trial/board/news/18127891%EF%B9%96od=T31&po=0&category=0&groupCd=.html\n",
      "15 빙 챗, 데스크탑 엣지 브라우저에서 음성으로 질문 지원 (한국어 아직 미지원) 9 https://davelee-fun.github.io/trial/board/news/18127399%EF%B9%96od=T31&po=0&category=0&groupCd=.html\n",
      "16 EV충전업체 3곳 테슬라충전규격 지원 발표 45 https://davelee-fun.github.io/trial/board/news/18126686%EF%B9%96od=T31&po=0&category=0&groupCd=.html\n",
      "17 Apple Vision Pro: 3800x3000 픽셀 및 90/96Hz의 마이크로 OLED – 패러다임 전환 69 https://davelee-fun.github.io/trial/board/news/18126504%EF%B9%96od=T31&po=0&category=0&groupCd=.html\n",
      "18 개인정보 문제로 10년 이상 업데이트 중단된 독일 구글 스트리트 뷰 복귀 7 https://davelee-fun.github.io/trial/board/news/18126183%EF%B9%96od=T31&po=0&category=0&groupCd=.html\n",
      "19 구글 비밀번호 관리자, 데스크탑용에 생체 인증 추가 예고 8 https://davelee-fun.github.io/trial/board/news/18125653%EF%B9%96od=T31&po=0&category=0&groupCd=.html\n",
      "20 데스크탑 GPU 판매량 10년만에 최저치 기록 52 https://davelee-fun.github.io/trial/board/news/18125230%EF%B9%96od=T31&po=0&category=0&groupCd=.html\n",
      "21 샘 올트먼 '한국에 오픈AI 사무소 열고 싶어…파트너십 지원' 7 https://davelee-fun.github.io/trial/board/news/18125069%EF%B9%96od=T31&po=0&category=0&groupCd=.html\n",
      "22 레딧 서드파티 앱 Apollo 등 여러 앱 서비스 종료 / 12일 레딧 상대로 단체 항의 예정 8 https://davelee-fun.github.io/trial/board/news/18125032%EF%B9%96od=T31&po=0&category=0&groupCd=.html\n",
      "23 삼성, 챗GPT 대항마 개발 나섰다 94 https://davelee-fun.github.io/trial/board/news/18124830%EF%B9%96od=T31&po=0&category=0&groupCd=.html\n",
      "24 GM, 포드에 이어 테슬라 충전규격 도입 46 https://davelee-fun.github.io/trial/board/news/18124539%EF%B9%96od=T31&po=0&category=0&groupCd=.html\n",
      "25 테슬라, 사이버트럭 연37만5천대분 부품 발주 9 https://davelee-fun.github.io/trial/board/news/18124536%EF%B9%96od=T31&po=0&category=0&groupCd=.html\n",
      "26 구글 바드, 프로그래밍 능력 향상 업데이트 공지 1 https://davelee-fun.github.io/trial/board/news/18124318%EF%B9%96od=T31&po=0&category=0&groupCd=.html\n",
      "27 Apple Developer 사이트 내 'tmoney' Payment networks Beta 추가 30 https://davelee-fun.github.io/trial/board/news/18124161%EF%B9%96od=T31&po=0&category=0&groupCd=.html\n",
      "28 워드프레스가 블로그 글을 대신 써 주는 AI 도구 발표 4 https://davelee-fun.github.io/trial/board/news/18123931%EF%B9%96od=T31&po=0&category=0&groupCd=.html\n",
      "29 [약후] 일본 첫 AI 그라비아 사진집, '검토가 부족했다'면서 7일 판매 종료 16 https://davelee-fun.github.io/trial/board/news/18123900%EF%B9%96od=T31&po=0&category=0&groupCd=.html\n",
      "30 ChatGPT iOS용 앱, 아이패드와 단축어 통합 지원 추가 4 https://davelee-fun.github.io/trial/board/news/18123819%EF%B9%96od=T31&po=0&category=0&groupCd=.html\n"
     ]
    }
   ],
   "source": [
    "import requests\n",
    "from bs4 import BeautifulSoup\n",
    "\n",
    "res = requests.get(\"https://davelee-fun.github.io/trial/board/news.html\")\n",
    "soup = BeautifulSoup(res.content, \"html.parser\")\n",
    "\n",
    "datas = soup.select(\"div.list_content > div.list_item\")\n",
    "index = 0\n",
    "\n",
    "for data in datas :\n",
    "    title = data.select_one(\"span.subject_fixed\")\n",
    "    replies = data.select_one(\"span.rSymph05\")\n",
    "    link = data.select_one(\"a.list_subject\")\n",
    "    if title != None :\n",
    "        index += 1\n",
    "        print(index, title.get_text().strip(), replies.get_text(), \"https://davelee-fun.github.io/trial/board/\"+link[\"href\"])"
   ]
  },
  {
   "cell_type": "code",
   "execution_count": 8,
   "id": "0ba1b20a-865b-4982-bb81-96c214594ee0",
   "metadata": {},
   "outputs": [],
   "source": [
    "# 5번부터"
   ]
  }
 ],
 "metadata": {
  "kernelspec": {
   "display_name": "Python [conda env:anaconda3]",
   "language": "python",
   "name": "conda-env-anaconda3-py"
  },
  "language_info": {
   "codemirror_mode": {
    "name": "ipython",
    "version": 3
   },
   "file_extension": ".py",
   "mimetype": "text/x-python",
   "name": "python",
   "nbconvert_exporter": "python",
   "pygments_lexer": "ipython3",
   "version": "3.13.5"
  }
 },
 "nbformat": 4,
 "nbformat_minor": 5
}
