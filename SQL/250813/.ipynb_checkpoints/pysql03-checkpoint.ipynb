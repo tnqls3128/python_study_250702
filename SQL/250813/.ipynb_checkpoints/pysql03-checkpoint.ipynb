{
 "cells": [
  {
   "cell_type": "code",
   "execution_count": 45,
   "id": "904867eb-f6fa-41f4-8eb5-44ed909fdcb6",
   "metadata": {},
   "outputs": [],
   "source": [
    "import pymysql\n",
    "\n",
    "db = pymysql.connect(\n",
    "    host=\"localhost\",\n",
    "    port=3306,\n",
    "    user=\"root\",\n",
    "    passwd=\"753951DnDn!!\",\n",
    "    db=\"ecommerce_v1\",\n",
    "    charset=\"utf8\"\n",
    ")\n",
    "\n",
    "cursor = db.cursor()\n",
    "\n",
    "create_sql = \"\"\"\n",
    "    CREATE TABLE IF NOT EXISTS product(\n",
    "        PRODUCT_CODE VARCHAR(20) NOT NULL,\n",
    "        TITLE VARCHAR(200) NOT NULL,\n",
    "        ORI_PRICE INT,\n",
    "        DISCOUNT_PRICE INT,\n",
    "        DISCOUNT_PERCENT INT,\n",
    "        DELIVERY VARCHAR(2)\n",
    "    );\n",
    "\"\"\"\n",
    "cursor.execute(create_sql)\n",
    "db.commit()\n",
    "\n",
    "for index in range(10):\n",
    "    product_code = str(215673150 + index + 1)\n",
    "    insert_sql = f\"\"\"\n",
    "        INSERT INTO product VALUES (\n",
    "            '{product_code}',\n",
    "            '스위트바니 여름신상 5900원 ~ 롱원피스 티셔츠/긴팔/반팔',\n",
    "            23000,\n",
    "            6900,\n",
    "            70,\n",
    "            'F'\n",
    "        )\n",
    "    \"\"\"\n",
    "    cursor.execute(insert_sql)\n",
    "\n",
    "db.commit()\n",
    "db.close()"
   ]
  },
  {
   "cell_type": "code",
   "execution_count": null,
   "id": "e91b32fa-eea6-40ed-86c8-4ce74a3f1330",
   "metadata": {},
   "outputs": [],
   "source": [
    "# fethall() : 해당 테이블 내 모든 데이터를 가져옵니다\n",
    "# fetchone() : 매칭되는 해당 값 중 첫번째 값을 가져옵니다\n",
    "# > 이미 앞에서 먼저 찾아온 값이 존재한다면 해당 값 이후부터 값을 찾아옵니다\n",
    "# fetchmany : 인자값으로 작성된 숫자만큼의 데이터를 가져옵니다"
   ]
  },
  {
   "cell_type": "code",
   "execution_count": null,
   "id": "23c9509b-beff-439a-aed5-97ff0b5eba2c",
   "metadata": {},
   "outputs": [],
   "source": []
  }
 ],
 "metadata": {
  "kernelspec": {
   "display_name": "Python [conda env:anaconda3]",
   "language": "python",
   "name": "conda-env-anaconda3-py"
  },
  "language_info": {
   "codemirror_mode": {
    "name": "ipython",
    "version": 3
   },
   "file_extension": ".py",
   "mimetype": "text/x-python",
   "name": "python",
   "nbconvert_exporter": "python",
   "pygments_lexer": "ipython3",
   "version": "3.13.5"
  }
 },
 "nbformat": 4,
 "nbformat_minor": 5
}
