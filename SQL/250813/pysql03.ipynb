{
 "cells": [
  {
   "cell_type": "code",
   "execution_count": 2,
   "id": "b5b48141-be2a-486a-ba04-0a1a45caa14a",
   "metadata": {},
   "outputs": [],
   "source": [
    "import pymysql\n",
    "\n",
    "db = pymysql.connect(\n",
    "    host = \"localhost\",\n",
    "    port = 3306,\n",
    "    user = \"root\",\n",
    "    passwd = \"753951DnDn!!\",\n",
    "    db = \"ecommerce_v1\",\n",
    "    charset = \"utf8\"\n",
    ")"
   ]
  },
  {
   "cell_type": "code",
   "execution_count": 4,
   "id": "b9b40f33-fe3b-4c08-8ed8-b209897c8e73",
   "metadata": {},
   "outputs": [],
   "source": [
    "eccomercev1 = db.cursor()"
   ]
  },
  {
   "cell_type": "code",
   "execution_count": 5,
   "id": "82481ae1-9694-4772-b1e9-a67e8bfb8fcc",
   "metadata": {},
   "outputs": [
    {
     "data": {
      "text/plain": [
       "<pymysql.cursors.Cursor at 0x1bc45b16f90>"
      ]
     },
     "execution_count": 5,
     "metadata": {},
     "output_type": "execute_result"
    }
   ],
   "source": [
    "eccomercev1"
   ]
  },
  {
   "cell_type": "code",
   "execution_count": 12,
   "id": "284b9a64-35ad-4dbe-b0f8-c4ece4a4e2cd",
   "metadata": {},
   "outputs": [],
   "source": [
    "sql = \"\"\"\n",
    "    CREATE TABLE product(\n",
    "        PRODUCT_CODE VARCHAR(20) NOT NULL,\n",
    "        TITLE VARCHAR(200) NOT NULL,\n",
    "        ORI_PRICE INT,\n",
    "        DISCOUNT_PRICE INT,\n",
    "        DISCOUNT_PERCENT INT,\n",
    "        DELIVERY VARCHAR (2)\n",
    "    );\n",
    "\"\"\""
   ]
  },
  {
   "cell_type": "code",
   "execution_count": 13,
   "id": "c8af5c4e-2c62-4cb2-9f75-f1b53ed97a1f",
   "metadata": {},
   "outputs": [
    {
     "data": {
      "text/plain": [
       "'\\n    CREATE TABLE product(\\n        PRODUCT_CODE VARCHAR(20) PRIMARY KEY NOT NULL,\\n        TITLE VARCHAR(200) NOT NULL,\\n        ORI_PRICE INT,\\n        DISCOUNT_PRICE INT,\\n        DISCOUNT_PERCENT INT,\\n        DELIVERY VARCHAR (2)\\n    );\\n'"
      ]
     },
     "execution_count": 13,
     "metadata": {},
     "output_type": "execute_result"
    }
   ],
   "source": [
    "sql"
   ]
  },
  {
   "cell_type": "code",
   "execution_count": 14,
   "id": "8b4e37db-ec9a-43a7-8b65-93369a39bd93",
   "metadata": {},
   "outputs": [
    {
     "data": {
      "text/plain": [
       "0"
      ]
     },
     "execution_count": 14,
     "metadata": {},
     "output_type": "execute_result"
    }
   ],
   "source": [
    "eccomercev1.execute(sql)"
   ]
  },
  {
   "cell_type": "code",
   "execution_count": 17,
   "id": "206e8735-ddf1-494d-821b-f55c5c7242f5",
   "metadata": {},
   "outputs": [],
   "source": [
    "db.commit()"
   ]
  },
  {
   "cell_type": "code",
   "execution_count": 18,
   "id": "e9bce8bc-d165-49eb-b0e0-5c88f369e071",
   "metadata": {},
   "outputs": [],
   "source": [
    "db.close()"
   ]
  },
  {
   "cell_type": "code",
   "execution_count": 19,
   "id": "e1241a6b-94a6-4eda-bcb8-be96728678be",
   "metadata": {},
   "outputs": [],
   "source": [
    "import pymysql\n",
    "\n",
    "db = pymysql.connect(\n",
    "    host = \"localhost\",\n",
    "    port = 3306,\n",
    "    user = \"root\",\n",
    "    passwd = \"753951DnDn!!\",\n",
    "    db = \"ecommerce_v1\",\n",
    "    charset = \"utf8\"\n",
    ")"
   ]
  },
  {
   "cell_type": "code",
   "execution_count": 20,
   "id": "7c8423a2-665e-4f98-b565-37f27fefb6e3",
   "metadata": {},
   "outputs": [],
   "source": [
    "cursor = db.cursor()"
   ]
  },
  {
   "cell_type": "code",
   "execution_count": 24,
   "id": "96564162-0e2d-4ebf-b8ac-41b93d6c6656",
   "metadata": {},
   "outputs": [
    {
     "name": "stdout",
     "output_type": "stream",
     "text": [
      "\n",
      "        INSERT INTO product VALUSE(\n",
      "            '215673141',\n",
      "            '스위트바니 여름신상 5900원 ~ 롱원피스 티셔츠/긴팔/반팔',\n",
      "            23000,\n",
      "            6900,\n",
      "            70,\n",
      "            'F'\n",
      "        )\n",
      "    \n",
      "\n",
      "        INSERT INTO product VALUSE(\n",
      "            '215673142',\n",
      "            '스위트바니 여름신상 5900원 ~ 롱원피스 티셔츠/긴팔/반팔',\n",
      "            23000,\n",
      "            6900,\n",
      "            70,\n",
      "            'F'\n",
      "        )\n",
      "    \n",
      "\n",
      "        INSERT INTO product VALUSE(\n",
      "            '215673143',\n",
      "            '스위트바니 여름신상 5900원 ~ 롱원피스 티셔츠/긴팔/반팔',\n",
      "            23000,\n",
      "            6900,\n",
      "            70,\n",
      "            'F'\n",
      "        )\n",
      "    \n",
      "\n",
      "        INSERT INTO product VALUSE(\n",
      "            '215673144',\n",
      "            '스위트바니 여름신상 5900원 ~ 롱원피스 티셔츠/긴팔/반팔',\n",
      "            23000,\n",
      "            6900,\n",
      "            70,\n",
      "            'F'\n",
      "        )\n",
      "    \n",
      "\n",
      "        INSERT INTO product VALUSE(\n",
      "            '215673145',\n",
      "            '스위트바니 여름신상 5900원 ~ 롱원피스 티셔츠/긴팔/반팔',\n",
      "            23000,\n",
      "            6900,\n",
      "            70,\n",
      "            'F'\n",
      "        )\n",
      "    \n",
      "\n",
      "        INSERT INTO product VALUSE(\n",
      "            '215673146',\n",
      "            '스위트바니 여름신상 5900원 ~ 롱원피스 티셔츠/긴팔/반팔',\n",
      "            23000,\n",
      "            6900,\n",
      "            70,\n",
      "            'F'\n",
      "        )\n",
      "    \n",
      "\n",
      "        INSERT INTO product VALUSE(\n",
      "            '215673147',\n",
      "            '스위트바니 여름신상 5900원 ~ 롱원피스 티셔츠/긴팔/반팔',\n",
      "            23000,\n",
      "            6900,\n",
      "            70,\n",
      "            'F'\n",
      "        )\n",
      "    \n",
      "\n",
      "        INSERT INTO product VALUSE(\n",
      "            '215673148',\n",
      "            '스위트바니 여름신상 5900원 ~ 롱원피스 티셔츠/긴팔/반팔',\n",
      "            23000,\n",
      "            6900,\n",
      "            70,\n",
      "            'F'\n",
      "        )\n",
      "    \n",
      "\n",
      "        INSERT INTO product VALUSE(\n",
      "            '215673149',\n",
      "            '스위트바니 여름신상 5900원 ~ 롱원피스 티셔츠/긴팔/반팔',\n",
      "            23000,\n",
      "            6900,\n",
      "            70,\n",
      "            'F'\n",
      "        )\n",
      "    \n",
      "\n",
      "        INSERT INTO product VALUSE(\n",
      "            '215673150',\n",
      "            '스위트바니 여름신상 5900원 ~ 롱원피스 티셔츠/긴팔/반팔',\n",
      "            23000,\n",
      "            6900,\n",
      "            70,\n",
      "            'F'\n",
      "        )\n",
      "    \n"
     ]
    }
   ],
   "source": [
    "for index in range(10) :\n",
    "    product_code = 215673140 + index + 1\n",
    "    SQL = f\"\"\"\n",
    "        INSERT INTO product VALUSE(\n",
    "            '{product_code}',\n",
    "            '스위트바니 여름신상 5900원 ~ 롱원피스 티셔츠/긴팔/반팔',\n",
    "            23000,\n",
    "            6900,\n",
    "            70,\n",
    "            'F'\n",
    "        )\n",
    "    \"\"\"\n",
    "    print(SQL)"
   ]
  },
  {
   "cell_type": "code",
   "execution_count": 22,
   "id": "c3e278cf-440b-4e21-b509-89f2da160c26",
   "metadata": {},
   "outputs": [],
   "source": [
    "db.commit()"
   ]
  },
  {
   "cell_type": "code",
   "execution_count": 23,
   "id": "e36e32c6-37f3-450c-ae84-e62f4ff630ff",
   "metadata": {},
   "outputs": [],
   "source": [
    "db.close()"
   ]
  }
 ],
 "metadata": {
  "kernelspec": {
   "display_name": "Python [conda env:anaconda3]",
   "language": "python",
   "name": "conda-env-anaconda3-py"
  },
  "language_info": {
   "codemirror_mode": {
    "name": "ipython",
    "version": 3
   },
   "file_extension": ".py",
   "mimetype": "text/x-python",
   "name": "python",
   "nbconvert_exporter": "python",
   "pygments_lexer": "ipython3",
   "version": "3.13.5"
  }
 },
 "nbformat": 4,
 "nbformat_minor": 5
}
