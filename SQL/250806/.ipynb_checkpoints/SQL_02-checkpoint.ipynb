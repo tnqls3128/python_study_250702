{
 "cells": [
  {
   "cell_type": "markdown",
   "id": "7d87b7f6-007d-4711-b687-85fb6db94a7f",
   "metadata": {},
   "source": [
    "### SELECT 문법\n",
    "- LIMIT : 가져올 수 있는 데이터 중 일부만 가져오고 싶을 때\n",
    "- COUNT (* 집계함수) : 데이터의 총 개수를 확인하고 싶을 때\n",
    "- DISTINCT : 특정 값을 가져올 때, 중복된 값을 출력하지 않고 싶을 때 -> 범주형 데이터\n",
    "- SUM : 해당 컬럼값의 합계 -> 수치형 데이터\n",
    "- AVG : 해당 컬럼값의 합계 -> 수치형 데이터\n",
    "- MAX : 해당 컬럼값의 최대값 -> 수치형 데이터\n",
    "- MIN : 해당 컬럼값의 최소값 -> 수치형 데이터\n",
    "- GROUP BY : 특정 컬럼값을 기반으로 그룹핑하기\n",
    "  - SELECT rating FROM film GROUP BY rating -> film이라는 테이블에서 rating값을 찾아오는데 해당 rating의 값을 그룹화해서 찾아와라!\n",
    "  - SELECT COUNT(*) FROM film GROUP BY rating -> 각 rating 값의 종류별로 몇개의 데이터가 있는지 확인\n",
    "  - SELECT COUNT(*) FROM film WHERE 조건문 GROUP BY rating -> 특정 조건에 맞는 데이터 중 rating값의 종류별로 몇 개의 데이터가 있는지 확인\n",
    "- ORDER BY : 특정 컬럼값을 기준으로 데이터를 정렬 (* 오름차순 = ASC, 내림차순 = DESC)\n",
    "  - 만약 DESC, ASC 중 그 어떤 값을 입력하지 않는다면, 기본 값은 ASC 정렬로 실행\n",
    "\n",
    "...\n",
    "SELECT 컬럼명\n",
    "FROM 테이블명\n",
    "WHERE 조건절\n",
    "GROUP BY 컬럼\n",
    "ORDER BY 컬럼\n",
    "LIMIT 출력갯수"
   ]
  },
  {
   "cell_type": "markdown",
   "id": "9457e0f9-5a28-4091-969e-2e36ef58ce8f",
   "metadata": {},
   "source": [
    "## DATA 대분류 리스트\n",
    "1) 수치형 데이터 : (1,2,1.1 등)\n",
    "2) 범주형 데이터 : (남/여, 미성년/성인 등) -> 중복값 제거해야하는 경우가 많음"
   ]
  },
  {
   "cell_type": "markdown",
   "id": "b09610f2-9f39-4497-8f59-bd8398236c9f",
   "metadata": {},
   "source": [
    "### SQL 중급 단계\n",
    "1) FOREIGN KEY (외래 키) <-> PRIMARY KEY (고유 키)\n",
    "2) HAVING\n",
    "    - HAVING절을 활용해서 조건 비교\n",
    "    - WHERE절을 활용해서도 조건 비교가 가능한데 왜 굳이 HAVING절이 필요할까?\n",
    "    - 특정 테이블 내 데이터를 그룹핑하는 GROUP BY절을 적용한 상태에서 집계함수가 표현된 조건식을 사용하려고 할 때 반드시 HAVING절을 사용해야함\n",
    "3) JOIN (*실제 실무에서도 굉장히 많이 사용되는 기능)\n",
    "   - 1개의 테이블에 너무 많은 방대한 데이터를 몰아넣는 경우는 없음\n",
    "   - 복수의 테이블을 관리하는 경우가 빈번 -> 각각의 테이블간 연결고리를 FOREIGN KEY를 만들어 놓고, 해당 테이블간 연결하는 경우가 숙명적으로 많을 수 밖에 없음 -> 그래서 JOIN 문법을 많이 사용함\n",
    "   - 서로 다른 테이블을 하나의 연결된 테이블로 활용하고자 할 때 사용\n",
    "   - INNER JOIN : 서로 다른 테이블간 매칭되는 데이터에 한해서 해당 데이터를 기준으로 연결 (*JOIN이라는 문법을 사용하면 default가 INNER JOIN이기 때문에 실무에서는 INNER수식어 생략 가능)\n",
    "   - 서로 다른 테이블을 하나로 연결하기 위해서는 어떤 테이블을 기준으로 연결할 것인가? -> ON 전치사  \n",
    "   - OUTER JOIN : 서로 매칭되지 않는 데이터도 모두 찾아옴 (*T상대적으로 많이 사용하지 않음)\n",
    "       - LEFH OUTER JOIN : 먼저 언급된 (*LEFT DATA = 부모 데이터) 를 기준으로 다른 테이블을 연결, 자식데이터에 부모데이터와 매칭되지 않은 데이터가 존재하더라도 해당 데이터를 누락시키지 않고 찾아옴\n",
    "       - RIGHT OUTER JOIN : 자식데이터를 기준으로 다른 테이블을 연결, 마찬가지로 매칭되지 않은 데이터들을 누락시키지 않고 모두 찾아옴\n",
    "4) SubQuery\n",
    "    - SQL문 안에 포함되어있는 SQL문 -> 중첩 SQL문"
   ]
  },
  {
   "cell_type": "markdown",
   "id": "1b870e08-e505-4751-9881-8c92fe2eabd7",
   "metadata": {},
   "source": [
    "#### 무신사 브랜드 사용할 것 같은 느낌으로 TABLE 생성 -> 마케터의 관점에서 어떻게 사용해보면 좋을까\n",
    "- 고객 테이블 (*고객 정보 가지고 있는 데이터 -> 나이, 성별, 주소, 이메일, 전화번호등)\n",
    "- 상품 테이블 (*상품 정보 가지고 있는 데이터 -> 재고, 메인카테고리, 서브카테고리, 상품가격, 할인가격, 할인률 등)\n",
    "- 주문 테이블 (*주문 정보 가지고 있는 데이터 -> 주문수량, 주문한 날짜, 외래 키 -> 고객 & 상품)\n",
    "  리뷰 테이블 (*리뷰 정보 가지고 있는 데이터 -> 평점, 리뷰내용, 리뷰작성 날짜, 외래키 -> 고객 & 상품)"
   ]
  },
  {
   "cell_type": "markdown",
   "id": "57ec724a-bfa3-4f21-812e-6f11da650e5a",
   "metadata": {},
   "source": [
    "## 데이터 분석 마케터\n",
    "- 자사 매출 증대를 목표 -> 마케팅\n",
    "- 회원들의 등급을 파악하고 해당 등급에 따른 차별화된 CRM 마케팅을 해야겠다는 생각\n",
    "- 회원등급별 인원수 -> 가장 많은 등급에 속해있는 사용자들을 분석해서 페르소나화 해야겠다\n",
    "- 결론 : 회원등급별 인원수 출력\n",
    "\n",
    "...\n",
    "- 자사몰에서 상품을 판매중 -> 꾸준하게 잘 판매되고 있는 상품과 그렇지 않은 상품을 구분\n",
    "- 잘 판매되고 있는 상품은 지속적으로 신규고객 및 충성고객 확보를 목표\n",
    "- 판매실적이 좋지 않은 상품은 단종 || 리뉴얼 재고 관리\n",
    "- 결론 : 상품별 평균 평점 출력\n",
    "- \n",
    "\n",
    "...\n",
    "- OKR, KRI, NSM\n",
    "- NSM 지표 의거해서 월별 주문건수가 00건 이하로 나오면 위기, 000건 이상이 나오면 긍정\n",
    "- 현재 시점을 기준으로 최근 1개월간 전체 주문건수 확인\n",
    "- 결론 : 최근 30일 이내 주문된 전체 총 건수 출력\n",
    "  "
   ]
  }
 ],
 "metadata": {
  "kernelspec": {
   "display_name": "Python [conda env:anaconda3]",
   "language": "python",
   "name": "conda-env-anaconda3-py"
  },
  "language_info": {
   "codemirror_mode": {
    "name": "ipython",
    "version": 3
   },
   "file_extension": ".py",
   "mimetype": "text/x-python",
   "name": "python",
   "nbconvert_exporter": "python",
   "pygments_lexer": "ipython3",
   "version": "3.13.5"
  }
 },
 "nbformat": 4,
 "nbformat_minor": 5
}
