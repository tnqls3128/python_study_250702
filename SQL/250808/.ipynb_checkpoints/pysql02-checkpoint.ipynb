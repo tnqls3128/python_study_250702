{
 "cells": [
  {
   "cell_type": "code",
   "execution_count": 1,
   "id": "405be021-a840-44e5-85c5-68833883fc9f",
   "metadata": {},
   "outputs": [
    {
     "name": "stdout",
     "output_type": "stream",
     "text": [
      "Defaulting to user installation because normal site-packages is not writeableNote: you may need to restart the kernel to use updated packages.\n",
      "\n",
      "Requirement already satisfied: pymysql in c:\\users\\user\\appdata\\roaming\\python\\python313\\site-packages (1.1.1)\n"
     ]
    }
   ],
   "source": [
    "pip install pymysql"
   ]
  },
  {
   "cell_type": "code",
   "execution_count": 2,
   "id": "bd83d0ff-d64a-45c6-91c7-3efee0cbc3ee",
   "metadata": {},
   "outputs": [],
   "source": [
    "import pymysql\n",
    "\n",
    "db = pymysql.connect(\n",
    "    host = \"localhost\",\n",
    "    port = 3306,\n",
    "    user = \"root\",\n",
    "    password = \"753951DnDn!!\",\n",
    "    db = \"ecommerce\",\n",
    "    charset = \"utf8\"\n",
    ")"
   ]
  },
  {
   "cell_type": "code",
   "execution_count": 3,
   "id": "5076d50d-93c0-4dda-a7f6-c262740b0cd6",
   "metadata": {},
   "outputs": [],
   "source": [
    "ecommerce = db.cursor()"
   ]
  },
  {
   "cell_type": "code",
   "execution_count": 4,
   "id": "e92b2ab1-6768-47b2-b145-af16eebd8d2d",
   "metadata": {},
   "outputs": [],
   "source": [
    "drop_sql = \"DROP TABLE IF EXISTS product;\"\n",
    "ecommerce.execute(drop_sql)\n",
    "db.commit()\n",
    "\n",
    "sql = \"\"\" \n",
    "    CREATE TABLE product (\n",
    "        PRODUCT_CODE VARCHAR(20) NOT NULL PRIMARY KEY,\n",
    "        TITLE VARCHAR(200) NOT NULL,\n",
    "        ORI_PRICE INT,\n",
    "        DISCOUNT_PRICE INT,\n",
    "        DISCOUNT_PERCENT INT,\n",
    "        DELIVERY VARCHAR(10)\n",
    "    );\n",
    "\"\"\"\n",
    "ecommerce.execute(sql)\n",
    "db.commit()"
   ]
  },
  {
   "cell_type": "code",
   "execution_count": 5,
   "id": "b85a88c6-0593-44f9-a16a-d3139dc17db9",
   "metadata": {},
   "outputs": [
    {
     "data": {
      "text/plain": [
       "' \\n    CREATE TABLE product (\\n        PRODUCT_CODE VARCHAR(20) NOT NULL PRIMARY KEY,\\n        TITLE VARCHAR(200) NOT NULL,\\n        ORI_PRICE INT,\\n        DISCOUNT_PRICE INT,\\n        DISCOUNT_PERCENT INT,\\n        DELIVERY VARCHAR(10)\\n    );\\n'"
      ]
     },
     "execution_count": 5,
     "metadata": {},
     "output_type": "execute_result"
    }
   ],
   "source": [
    "sql"
   ]
  },
  {
   "cell_type": "code",
   "execution_count": 6,
   "id": "259aee87-6a29-438e-9ae5-70d0a15f0cf3",
   "metadata": {},
   "outputs": [],
   "source": [
    "cursor = db.cursor()"
   ]
  },
  {
   "cell_type": "code",
   "execution_count": 7,
   "id": "04914539-3cf4-499b-b7fb-712dbe730db0",
   "metadata": {},
   "outputs": [
    {
     "name": "stdout",
     "output_type": "stream",
     "text": [
      "\n",
      "        INSERT INTO product VALUES(\n",
      "            '215673141',\n",
      "            '스위트바니 여름신상 5900원 ~ 롱원피스 티셔츠 / 긴팔 / 반팔',\n",
      "            23000,\n",
      "            6900,\n",
      "            70,\n",
      "            'T'\n",
      "        );\n",
      "    \n",
      "\n",
      "        INSERT INTO product VALUES(\n",
      "            '215673142',\n",
      "            '스위트바니 여름신상 5900원 ~ 롱원피스 티셔츠 / 긴팔 / 반팔',\n",
      "            23000,\n",
      "            6900,\n",
      "            70,\n",
      "            'T'\n",
      "        );\n",
      "    \n",
      "\n",
      "        INSERT INTO product VALUES(\n",
      "            '215673143',\n",
      "            '스위트바니 여름신상 5900원 ~ 롱원피스 티셔츠 / 긴팔 / 반팔',\n",
      "            23000,\n",
      "            6900,\n",
      "            70,\n",
      "            'T'\n",
      "        );\n",
      "    \n",
      "\n",
      "        INSERT INTO product VALUES(\n",
      "            '215673144',\n",
      "            '스위트바니 여름신상 5900원 ~ 롱원피스 티셔츠 / 긴팔 / 반팔',\n",
      "            23000,\n",
      "            6900,\n",
      "            70,\n",
      "            'T'\n",
      "        );\n",
      "    \n",
      "\n",
      "        INSERT INTO product VALUES(\n",
      "            '215673145',\n",
      "            '스위트바니 여름신상 5900원 ~ 롱원피스 티셔츠 / 긴팔 / 반팔',\n",
      "            23000,\n",
      "            6900,\n",
      "            70,\n",
      "            'T'\n",
      "        );\n",
      "    \n",
      "\n",
      "        INSERT INTO product VALUES(\n",
      "            '215673146',\n",
      "            '스위트바니 여름신상 5900원 ~ 롱원피스 티셔츠 / 긴팔 / 반팔',\n",
      "            23000,\n",
      "            6900,\n",
      "            70,\n",
      "            'T'\n",
      "        );\n",
      "    \n",
      "\n",
      "        INSERT INTO product VALUES(\n",
      "            '215673147',\n",
      "            '스위트바니 여름신상 5900원 ~ 롱원피스 티셔츠 / 긴팔 / 반팔',\n",
      "            23000,\n",
      "            6900,\n",
      "            70,\n",
      "            'T'\n",
      "        );\n",
      "    \n",
      "\n",
      "        INSERT INTO product VALUES(\n",
      "            '215673148',\n",
      "            '스위트바니 여름신상 5900원 ~ 롱원피스 티셔츠 / 긴팔 / 반팔',\n",
      "            23000,\n",
      "            6900,\n",
      "            70,\n",
      "            'T'\n",
      "        );\n",
      "    \n",
      "\n",
      "        INSERT INTO product VALUES(\n",
      "            '215673149',\n",
      "            '스위트바니 여름신상 5900원 ~ 롱원피스 티셔츠 / 긴팔 / 반팔',\n",
      "            23000,\n",
      "            6900,\n",
      "            70,\n",
      "            'T'\n",
      "        );\n",
      "    \n",
      "\n",
      "        INSERT INTO product VALUES(\n",
      "            '215673150',\n",
      "            '스위트바니 여름신상 5900원 ~ 롱원피스 티셔츠 / 긴팔 / 반팔',\n",
      "            23000,\n",
      "            6900,\n",
      "            70,\n",
      "            'T'\n",
      "        );\n",
      "    \n"
     ]
    }
   ],
   "source": [
    "for index in range(10) :\n",
    "    product_code = 215673140 + index + 1\n",
    "    sql = f\"\"\"\n",
    "        INSERT INTO product VALUES(\n",
    "            '{product_code}',\n",
    "            '스위트바니 여름신상 5900원 ~ 롱원피스 티셔츠 / 긴팔 / 반팔',\n",
    "            23000,\n",
    "            6900,\n",
    "            70,\n",
    "            'T'\n",
    "        );\n",
    "    \"\"\"\n",
    "    print(sql)\n",
    "    cursor.execute(sql)"
   ]
  },
  {
   "cell_type": "code",
   "execution_count": 9,
   "id": "dc133574-3ffc-462b-9885-0027aa35d9cc",
   "metadata": {},
   "outputs": [],
   "source": [
    "db.commit()"
   ]
  },
  {
   "cell_type": "code",
   "execution_count": 10,
   "id": "31a25f14-4c00-4b6e-b332-b4735e16ce81",
   "metadata": {},
   "outputs": [],
   "source": [
    "db.close()"
   ]
  }
 ],
 "metadata": {
  "kernelspec": {
   "display_name": "Python [conda env:anaconda3]",
   "language": "python",
   "name": "conda-env-anaconda3-py"
  },
  "language_info": {
   "codemirror_mode": {
    "name": "ipython",
    "version": 3
   },
   "file_extension": ".py",
   "mimetype": "text/x-python",
   "name": "python",
   "nbconvert_exporter": "python",
   "pygments_lexer": "ipython3",
   "version": "3.13.5"
  }
 },
 "nbformat": 4,
 "nbformat_minor": 5
}
