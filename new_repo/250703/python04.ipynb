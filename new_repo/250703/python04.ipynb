{
 "cells": [
  {
   "cell_type": "markdown",
   "id": "a7976a4a-ca96-41ff-9993-4f11ab960a70",
   "metadata": {},
   "source": [
    "- 사용자로부터 점수를 입력받은 후 등급을 출력하세요\n",
    "    - [A : 100 ~ 81 , B : 80 ~ 61 , C : 60 ~ 0]"
   ]
  },
  {
   "cell_type": "code",
   "execution_count": 10,
   "id": "1a8940f3-03ff-47a8-9a79-dc772d04e4a8",
   "metadata": {},
   "outputs": [
    {
     "name": "stdin",
     "output_type": "stream",
     "text": [
      "몇 점인가요? 60\n"
     ]
    },
    {
     "name": "stdout",
     "output_type": "stream",
     "text": [
      "C\n"
     ]
    }
   ],
   "source": [
    "user = int(input(\"몇 점인가요?\"))\n",
    "\n",
    "if user >= 81 and user <= 100 :\n",
    "    print(\"A\")\n",
    "elif user >= 61 and user <= 80 :\n",
    "    print(\"B\")\n",
    "elif user >= 0 and user <= 60 :\n",
    "    print(\"C\") \n",
    "else :\n",
    "    print(\"잘못된 점수입니다\")"
   ]
  },
  {
   "cell_type": "markdown",
   "id": "2b8f4221-b305-49d6-86c0-36ec0e4e9b79",
   "metadata": {},
   "source": [
    "- 사용자로부터 주민등록번호를 입력받아서 출생연도만 확인 후 출력해주세요\n",
    "    - 예) 981102 - 1234567 -> 98년생입니다"
   ]
  },
  {
   "cell_type": "code",
   "execution_count": 13,
   "id": "8849c3bd-651e-4cc6-8070-117b7301d036",
   "metadata": {},
   "outputs": [
    {
     "name": "stdin",
     "output_type": "stream",
     "text": [
      "주민등록번호를 입력하세요 98\n"
     ]
    },
    {
     "name": "stdout",
     "output_type": "stream",
     "text": [
      " 98년생\n"
     ]
    }
   ],
   "source": [
    "data = input(\"주민등록번호를 입력하세요\")\n",
    "age = data [0:2]\n",
    "\n",
    "print(f\" {age}년생\")"
   ]
  },
  {
   "cell_type": "code",
   "execution_count": 24,
   "id": "b10c1899-a205-4eab-a20a-98f4b7b67db5",
   "metadata": {},
   "outputs": [
    {
     "name": "stdin",
     "output_type": "stream",
     "text": [
      "주민등록번호를 입력하세요 981102-12345678\n"
     ]
    },
    {
     "name": "stdout",
     "output_type": "stream",
     "text": [
      "98 년생\n"
     ]
    }
   ],
   "source": [
    "data = input(\"주민등록번호를 입력하세요\") \n",
    "# age = data.split(\"-\") #구분\n",
    "\n",
    "print(f\"{data.split(\"-\")[0][0:2]} 년생\")"
   ]
  },
  {
   "cell_type": "markdown",
   "id": "3116ede7-aca5-4973-8955-fc436fab9be7",
   "metadata": {},
   "source": [
    "- 사용자로부터 주민등록번호를 입력받아 성별을 \"남성\" 또는 \"여성\"으로 출력해주세요\n",
    "    - 주민등록번호 뒷자리 첫번째 숫자가 \"1\" -> 남성, \"2\" -> 여성"
   ]
  },
  {
   "cell_type": "code",
   "execution_count": 31,
   "id": "f15a057c-5a95-43e3-a986-1947e066d281",
   "metadata": {},
   "outputs": [
    {
     "name": "stdin",
     "output_type": "stream",
     "text": [
      "주민등록번호를 입력하세요 981102-255555\n"
     ]
    },
    {
     "name": "stdout",
     "output_type": "stream",
     "text": [
      "여성\n"
     ]
    }
   ],
   "source": [
    "data = input(\"주민등록번호를 입력하세요\")\n",
    "\n",
    "gender = data.split(\"-\")[1][0]\n",
    "if gender == 1 :\n",
    "    print(\"남성\")\n",
    "else :\n",
    "    print(\"여성\")"
   ]
  },
  {
   "cell_type": "code",
   "execution_count": 25,
   "id": "230ed948-e073-4172-bfdd-17e2a644f742",
   "metadata": {},
   "outputs": [
    {
     "data": {
      "text/plain": [
       "'a man goes into the room'"
      ]
     },
     "execution_count": 25,
     "metadata": {},
     "output_type": "execute_result"
    }
   ],
   "source": [
    "mystr = \"a man goes into the room..\"\n",
    "\n",
    "result = mystr.strip(\".\")\n",
    "result"
   ]
  },
  {
   "cell_type": "code",
   "execution_count": 3,
   "id": "68f74112-7d84-4fa8-8d2f-4b375bd99f7a",
   "metadata": {},
   "outputs": [
    {
     "data": {
      "text/plain": [
       "'000770'"
      ]
     },
     "execution_count": 3,
     "metadata": {},
     "output_type": "execute_result"
    }
   ],
   "source": [
    "code = \"000770\\n\"\n",
    "code.strip()\n",
    "\n",
    "# strip() : 문자열 앞, 뒤 공백이라고 판단되는 문자열 모두 제거하는 메서드 함수(ex. tap, 줄바꿈)"
   ]
  },
  {
   "cell_type": "code",
   "execution_count": 37,
   "id": "587d1137-11d0-416b-86d9-d939163ee181",
   "metadata": {},
   "outputs": [
    {
     "name": "stdout",
     "output_type": "stream",
     "text": [
      "3\n"
     ]
    },
    {
     "data": {
      "text/plain": [
       "0"
      ]
     },
     "execution_count": 37,
     "metadata": {},
     "output_type": "execute_result"
    }
   ],
   "source": [
    "python_desc = \"Installing Python is generally easy, and nowadays many Linux and UNIX distributions include a recent Python. Even some Windows computers (notably those from HP) now come with Python al\"\n",
    "print(python_desc.count(\"Python\"))\n",
    "python_desc.count(\"python\")"
   ]
  },
  {
   "cell_type": "markdown",
   "id": "3efefdfd-7f3b-4e33-80b6-9be719123072",
   "metadata": {},
   "source": [
    "- 사용자로부터 note라는 문자열을 받았다고 가정하세요. 그리고 해당 문자열 안에 n이 들어가있는지 확인 후 n이 들어가있으면 숫자 0을 출력하고, 그렇지 않다면 -1을 출력하세요"
   ]
  },
  {
   "cell_type": "code",
   "execution_count": 4,
   "id": "38ecc123-118f-4367-827e-482c7f505e41",
   "metadata": {},
   "outputs": [
    {
     "name": "stdin",
     "output_type": "stream",
     "text": [
      " aaarrr\n"
     ]
    },
    {
     "data": {
      "text/plain": [
       "0"
      ]
     },
     "execution_count": 4,
     "metadata": {},
     "output_type": "execute_result"
    }
   ],
   "source": [
    "letters = input()\n",
    "\n",
    "var = letters.find(\"a\") \n",
    "\n",
    "var\n",
    "# if var == 0 :\n",
    "#    print(0)\n",
    "# else :\n",
    "#    print(-1)\n",
    "# 존재하지 않는 문자열 출력 시 -1 나옴\n",
    "# 일반적으로 프로그래밍언어는 true, false \n",
    "# 참인듯한 값, 거짓인듯한 값(truethy, falsy) -> 0, null, undefined -> falsy\n",
    "# 파이썬 -> 0 -> truethy, -1 -> falsy"
   ]
  },
  {
   "cell_type": "markdown",
   "id": "3bb7afb1-06a5-4390-9476-d146a7a5a434",
   "metadata": {},
   "source": [
    "- 사용자로부터 주민등록번호를 입력받은 후 사용자의 출생지가 어디인지 확인하고 출력해주세요\n",
    "    - 주민등록번호 중 뒤에 8자리 중에서 첫번째 숫자가 성별을 의미하고 두번째 숫자부터 세번째 숫자까지가 출생지를 의미하는 숫자 \"00 ~ 08:서울, 09 ~ 12:부산\""
   ]
  },
  {
   "cell_type": "code",
   "execution_count": 8,
   "id": "879ae2b0-dc92-476f-b85f-f531f6999939",
   "metadata": {},
   "outputs": [
    {
     "name": "stdin",
     "output_type": "stream",
     "text": [
      "주민번호를 입력하세요 981102-2124567\n"
     ]
    },
    {
     "name": "stdout",
     "output_type": "stream",
     "text": [
      "12\n"
     ]
    },
    {
     "ename": "TypeError",
     "evalue": "'>=' not supported between instances of 'str' and 'int'",
     "output_type": "error",
     "traceback": [
      "\u001b[1;31m---------------------------------------------------------------------------\u001b[0m",
      "\u001b[1;31mTypeError\u001b[0m                                 Traceback (most recent call last)",
      "Cell \u001b[1;32mIn[8], line 4\u001b[0m\n\u001b[0;32m      1\u001b[0m data \u001b[38;5;241m=\u001b[39m \u001b[38;5;28minput\u001b[39m(\u001b[38;5;124m\"\u001b[39m\u001b[38;5;124m주민번호를 입력하세요\u001b[39m\u001b[38;5;124m\"\u001b[39m)\n\u001b[0;32m      3\u001b[0m \u001b[38;5;28mprint\u001b[39m(data\u001b[38;5;241m.\u001b[39msplit(\u001b[38;5;124m\"\u001b[39m\u001b[38;5;124m-\u001b[39m\u001b[38;5;124m\"\u001b[39m)[\u001b[38;5;241m1\u001b[39m][\u001b[38;5;241m1\u001b[39m:\u001b[38;5;241m3\u001b[39m])\n\u001b[1;32m----> 4\u001b[0m \u001b[38;5;28;01mif\u001b[39;00m data \u001b[38;5;241m>\u001b[39m\u001b[38;5;241m=\u001b[39m \u001b[38;5;241m0\u001b[39m \u001b[38;5;129;01mor\u001b[39;00m data \u001b[38;5;241m<\u001b[39m\u001b[38;5;241m=\u001b[39m \u001b[38;5;241m8\u001b[39m : \n\u001b[0;32m      5\u001b[0m     \u001b[38;5;28mprint\u001b[39m (\u001b[38;5;124m\"\u001b[39m\u001b[38;5;124m서울\u001b[39m\u001b[38;5;124m\"\u001b[39m)\n\u001b[0;32m      6\u001b[0m \u001b[38;5;28;01melif\u001b[39;00m data \u001b[38;5;241m>\u001b[39m\u001b[38;5;241m=\u001b[39m \u001b[38;5;241m9\u001b[39m \u001b[38;5;129;01mor\u001b[39;00m data \u001b[38;5;241m<\u001b[39m\u001b[38;5;241m=\u001b[39m \u001b[38;5;241m12\u001b[39m :\n",
      "\u001b[1;31mTypeError\u001b[0m: '>=' not supported between instances of 'str' and 'int'"
     ]
    }
   ],
   "source": [
    "data = input(\"주민번호를 입력하세요\")\n",
    "\n",
    "print(data.split(\"-\")[1][1:3])\n",
    "if data >= 0 or data <= 8 : \n",
    "    print (\"서울\")\n",
    "elif data >= 9 or data <= 12 :\n",
    "    print (\"부산\")"
   ]
  },
  {
   "cell_type": "code",
   "execution_count": 2,
   "id": "40f35f2d-f2ef-41a9-ad17-dc1b853e7059",
   "metadata": {},
   "outputs": [
    {
     "name": "stdout",
     "output_type": "stream",
     "text": [
      "부산\n"
     ]
    }
   ],
   "source": [
    "data = \"981102-2124567\"\n",
    "\n",
    "location = int(data.split(\"-\")[1][1:3])\n",
    "\n",
    "if location >= 0 and location <= 8 :\n",
    "    print (\"서울\")\n",
    "elif location >= 9 and location <= 12 :\n",
    "    print (\"부산\")"
   ]
  }
 ],
 "metadata": {
  "kernelspec": {
   "display_name": "Python [conda env:anaconda3]",
   "language": "python",
   "name": "conda-env-anaconda3-py"
  },
  "language_info": {
   "codemirror_mode": {
    "name": "ipython",
    "version": 3
   },
   "file_extension": ".py",
   "mimetype": "text/x-python",
   "name": "python",
   "nbconvert_exporter": "python",
   "pygments_lexer": "ipython3",
   "version": "3.13.5"
  }
 },
 "nbformat": 4,
 "nbformat_minor": 5
}
