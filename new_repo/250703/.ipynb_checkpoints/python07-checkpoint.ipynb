{
 "cells": [
  {
   "cell_type": "markdown",
   "id": "3a087464-e1d1-47a5-bfd7-57615f65f6f1",
   "metadata": {},
   "source": [
    "#### 자료구조 형태 \n",
    "- 숫자, 문자, 불리언\n",
    "- 리스트 (list)\n",
    "- 튜플 (Tuple)\n",
    "  - 리스트와 달리 튜플은 소괄호 형태를 띄고 있음\n",
    "  - 튜플은 최초 생성 후 값을 삭제, 추가할 수 없음\n",
    "  - 단, 튜플 간 병합가능 혹은 튜플 자체의 복제 등은 가능함\n",
    "  - 튜플은 리스트처럼 이터러블한 객체 속성을 가지고 있음 -> 반복문들을 사용할 수 있음 + 튜플 내부 아이템들은 각각 저마다의 고유한 인덱스값을 가지고 있다는 의미이기도 \n",
    "  - 함수의 반환값으로 찾아온 값을 활용해서 일반 변수 안에 값을 넣을 때, 구조분해할당의 형식으로 값을 전달할 수 있음\n",
    "  - 튜플을 수정, 편집, 삭제를 하고 싶다면 -> 리스트로 바꾸기 -> list(튜플자료형) -> 리스트가 됨"
   ]
  },
  {
   "cell_type": "code",
   "execution_count": 2,
   "id": "1d74771b-156a-4503-a593-eab37d5ed084",
   "metadata": {},
   "outputs": [
    {
     "name": "stdout",
     "output_type": "stream",
     "text": [
      "<class 'list'>\n",
      "<class 'tuple'>\n"
     ]
    }
   ],
   "source": [
    "listItems = []\n",
    "tupleItems = (1, 2, 3)\n",
    "\n",
    "print(type(listItems))\n",
    "print(type(tupleItems))"
   ]
  },
  {
   "cell_type": "code",
   "execution_count": 3,
   "id": "c2c32cb8-764a-4873-98cf-8bdf6e446ca8",
   "metadata": {},
   "outputs": [
    {
     "name": "stdout",
     "output_type": "stream",
     "text": [
      "1\n",
      "2\n",
      "3\n"
     ]
    }
   ],
   "source": [
    "for item in tupleItems :\n",
    "    print(item)"
   ]
  },
  {
   "cell_type": "code",
   "execution_count": 8,
   "id": "b6c1b913-3bc1-45d2-85f3-6a263883c407",
   "metadata": {},
   "outputs": [
    {
     "name": "stdout",
     "output_type": "stream",
     "text": [
      "(1, 2, 3, 4)\n",
      "(1, 2, 1, 2, 1, 2)\n"
     ]
    }
   ],
   "source": [
    "# del tupleItems[1]\n",
    "# tupleItems.append(4)\n",
    "# tupleItems[4] = 4\n",
    "\n",
    "tuple01 = (1, 2)\n",
    "tuple02 = (3, 4)\n",
    "\n",
    "print(tuple01 + tuple02) # tuple끼린 가능\n",
    "print(tuple01 *3)"
   ]
  },
  {
   "cell_type": "code",
   "execution_count": 9,
   "id": "a9d5c18f-152b-47f1-83f9-386b9da30d99",
   "metadata": {},
   "outputs": [],
   "source": [
    "x = 1\n",
    "y = 2"
   ]
  },
  {
   "cell_type": "code",
   "execution_count": 10,
   "id": "cd7ff62d-7c9a-40fd-83ba-da4b96dd8afd",
   "metadata": {},
   "outputs": [],
   "source": [
    "# temp = x\n",
    "# x = y\n",
    "# y = temp"
   ]
  },
  {
   "cell_type": "code",
   "execution_count": 16,
   "id": "116a12f9-144c-476a-b907-076bc53d5ad8",
   "metadata": {},
   "outputs": [],
   "source": [
    "(x, y) = (y, x)"
   ]
  },
  {
   "cell_type": "code",
   "execution_count": 17,
   "id": "6c41e102-d3ce-429f-b011-793e157ceb82",
   "metadata": {},
   "outputs": [
    {
     "data": {
      "text/plain": [
       "2"
      ]
     },
     "execution_count": 17,
     "metadata": {},
     "output_type": "execute_result"
    }
   ],
   "source": [
    "x"
   ]
  },
  {
   "cell_type": "code",
   "execution_count": 20,
   "id": "fd1be9bd-079e-4842-9fb4-a7120d0556ef",
   "metadata": {},
   "outputs": [],
   "source": [
    "def quot_and_rem(x, y) :\n",
    "    quot = x // y\n",
    "    rem = x % y\n",
    "    return quot, rem"
   ]
  },
  {
   "cell_type": "code",
   "execution_count": 24,
   "id": "6c9a20f3-3548-45b4-9ff6-a757238e7756",
   "metadata": {},
   "outputs": [],
   "source": [
    "# result = quot_and_rem(10, 3)\n",
    "# type(result)"
   ]
  },
  {
   "cell_type": "code",
   "execution_count": 27,
   "id": "ef4adfdd-24ab-4d0f-8050-55f28c7b826f",
   "metadata": {},
   "outputs": [],
   "source": [
    "(quot01, rem01) = quot_and_rem(10, 3)"
   ]
  },
  {
   "cell_type": "code",
   "execution_count": 28,
   "id": "82f9de55-049c-4aee-803e-255ce5191833",
   "metadata": {},
   "outputs": [
    {
     "data": {
      "text/plain": [
       "int"
      ]
     },
     "execution_count": 28,
     "metadata": {},
     "output_type": "execute_result"
    }
   ],
   "source": [
    "type(quot01)"
   ]
  },
  {
   "cell_type": "code",
   "execution_count": 29,
   "id": "c1edab05-0feb-4eb6-8cb0-c449f35beaeb",
   "metadata": {},
   "outputs": [
    {
     "data": {
      "text/plain": [
       "1"
      ]
     },
     "execution_count": 29,
     "metadata": {},
     "output_type": "execute_result"
    }
   ],
   "source": [
    "rem01"
   ]
  },
  {
   "cell_type": "code",
   "execution_count": 30,
   "id": "a91c84b8-e0ab-4fe0-bd68-c171059d6967",
   "metadata": {},
   "outputs": [
    {
     "data": {
      "text/plain": [
       "tuple"
      ]
     },
     "execution_count": 30,
     "metadata": {},
     "output_type": "execute_result"
    }
   ],
   "source": [
    "data1 = (1, 2, 3)\n",
    "type(data1)"
   ]
  },
  {
   "cell_type": "code",
   "execution_count": 31,
   "id": "1dd7325b-0592-4cf2-8fee-8214e4f4a9f7",
   "metadata": {},
   "outputs": [
    {
     "data": {
      "text/plain": [
       "[1, 2, 3]"
      ]
     },
     "execution_count": 31,
     "metadata": {},
     "output_type": "execute_result"
    }
   ],
   "source": [
    "list(data1)"
   ]
  }
 ],
 "metadata": {
  "kernelspec": {
   "display_name": "Python [conda env:anaconda3]",
   "language": "python",
   "name": "conda-env-anaconda3-py"
  },
  "language_info": {
   "codemirror_mode": {
    "name": "ipython",
    "version": 3
   },
   "file_extension": ".py",
   "mimetype": "text/x-python",
   "name": "python",
   "nbconvert_exporter": "python",
   "pygments_lexer": "ipython3",
   "version": "3.13.5"
  }
 },
 "nbformat": 4,
 "nbformat_minor": 5
}
