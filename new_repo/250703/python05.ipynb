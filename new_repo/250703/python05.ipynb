{
 "cells": [
  {
   "cell_type": "markdown",
   "id": "fef272f6-e84b-40fc-a09b-499fa82b8dee",
   "metadata": {},
   "source": [
    "#### 반복문\n",
    "```\n",
    "for in (리스트 || 문자열 -> 이터러블한 객체 속성을 가지고 있는 자료구조) :\n",
    "    실행문\n",
    "- ~을 반복해서 \n",
    "while 조건 :\n",
    "    실행문\n",
    "- ~하는 동안에 (* 조건이 참인 동안에 계속 반복 실행)\n",
    " ```"
   ]
  },
  {
   "cell_type": "code",
   "execution_count": 11,
   "id": "07909045-0d9b-4324-9fc5-06b86d27978f",
   "metadata": {},
   "outputs": [
    {
     "name": "stdout",
     "output_type": "stream",
     "text": [
      "python\n",
      "TS\n",
      "Node\n"
     ]
    }
   ],
   "source": [
    "lan = [\"python\", \"TS\", \"Node\"]\n",
    "\n",
    "#for item in [\"python\", \"TS\", \"Node\"] :\n",
    "#    print(item) \n",
    "\n",
    "for item in lan :\n",
    "    print(item) \n",
    "\n",
    "# 반복해서 순차적으로 출력\n",
    "# for = ~을 반복해서\n",
    "#  lan안에 있는 리스트를 하나씩 item이란 이름으로 받아서 출력해라"
   ]
  },
  {
   "cell_type": "code",
   "execution_count": 12,
   "id": "c5bd4508-3cb2-4e5f-a51a-e1b9752eb4d0",
   "metadata": {},
   "outputs": [
    {
     "name": "stdout",
     "output_type": "stream",
     "text": [
      "1\n",
      "2\n",
      "3\n",
      "4\n",
      "5\n",
      "6\n",
      "7\n",
      "8\n",
      "9\n",
      "10\n"
     ]
    }
   ],
   "source": [
    "for num in [1, 2, 3, 4, 5, 6, 7, 8, 9, 10] :\n",
    "    print(num)"
   ]
  },
  {
   "cell_type": "code",
   "execution_count": 20,
   "id": "6484d0c4-bdc1-4ddb-b0e5-d179da831ada",
   "metadata": {},
   "outputs": [
    {
     "name": "stdin",
     "output_type": "stream",
     "text": [
      "최애 음식은? 1\n",
      "최애 음식은? 2\n"
     ]
    }
   ],
   "source": [
    "for _ in range(1, 3) :   # 10번의 획수\n",
    "    input(\"최애 음식은?\")"
   ]
  },
  {
   "cell_type": "code",
   "execution_count": 28,
   "id": "bceab5d8-b5d7-4924-988b-1418a89c5337",
   "metadata": {},
   "outputs": [
    {
     "name": "stdout",
     "output_type": "stream",
     "text": [
      "list1\n",
      "list2\n",
      "list3\n",
      "list1\n",
      "list2\n",
      "list3\n"
     ]
    }
   ],
   "source": [
    "data_list = [\"list1\", \"list2\", \"list3\"]\n",
    "\n",
    "print(data_list[0])\n",
    "print(data_list[1])\n",
    "print(data_list[2])\n",
    "\n",
    "for index in data_list :\n",
    "    print(index)"
   ]
  },
  {
   "cell_type": "code",
   "execution_count": 36,
   "id": "b85facd5-2b11-4ac2-a329-ded585ee46b4",
   "metadata": {},
   "outputs": [
    {
     "name": "stdout",
     "output_type": "stream",
     "text": [
      "55\n"
     ]
    }
   ],
   "source": [
    "sum = 0  # 전역변수\n",
    "\n",
    "for index in range(1, 11) :\n",
    "    # sum = sum + index\n",
    "    # 복합대입연산자\n",
    "    sum+=index\n",
    "\n",
    "print(sum)"
   ]
  },
  {
   "cell_type": "code",
   "execution_count": 2,
   "id": "d25b510b-1d16-4a55-be02-5fc6f46e87b0",
   "metadata": {},
   "outputs": [
    {
     "name": "stdin",
     "output_type": "stream",
     "text": [
      "what is your name? soobin\n"
     ]
    },
    {
     "name": "stdout",
     "output_type": "stream",
     "text": [
      "Hi~soobin 'where is foo?'\n"
     ]
    },
    {
     "name": "stdin",
     "output_type": "stream",
     "text": [
      "what is your name? foo\n"
     ]
    },
    {
     "name": "stdout",
     "output_type": "stream",
     "text": [
      "Hi~foo 'where is foo?'\n"
     ]
    }
   ],
   "source": [
    "name = \"\"\n",
    "\n",
    "while name != \"foo\" : \n",
    "    name = input(\"what is your name?\")\n",
    "    print(f\"Hi~{name} 'where is foo?'\")"
   ]
  },
  {
   "cell_type": "markdown",
   "id": "c02ca3f5-42cd-45cb-a972-9071f73b01b4",
   "metadata": {},
   "source": [
    "- 1 ~ 10까지 숫자에 대해 모두 더한 값을 출력하는 프로그램을 for 문을 활용해서 작성해주세요"
   ]
  },
  {
   "cell_type": "code",
   "execution_count": 11,
   "id": "e7c02e11-fe68-424f-a401-85267016f5dd",
   "metadata": {},
   "outputs": [
    {
     "name": "stdout",
     "output_type": "stream",
     "text": [
      "55\n"
     ]
    }
   ],
   "source": [
    "sum = 0\n",
    "\n",
    "for num in range(1, 11) :\n",
    "    sum += num\n",
    "\n",
    "print(sum)"
   ]
  },
  {
   "cell_type": "markdown",
   "id": "057fbd14-b17f-4002-a786-65d8663b0f46",
   "metadata": {},
   "source": [
    "- 사용자로부터 2 ~ 9 사이의 숫자를 입력받은 후 해당 숫자에 해단 구구단을 출력해주세요"
   ]
  },
  {
   "cell_type": "code",
   "execution_count": 22,
   "id": "f8f30e6c-c55a-4d33-bc96-161b0925b138",
   "metadata": {},
   "outputs": [
    {
     "name": "stdin",
     "output_type": "stream",
     "text": [
      "구구단을 위한 숫자를 입력해주세요 7\n"
     ]
    },
    {
     "name": "stdout",
     "output_type": "stream",
     "text": [
      "7 X 1 = 7\n",
      "7 X 2 = 14\n",
      "7 X 3 = 21\n",
      "7 X 4 = 28\n",
      "7 X 5 = 35\n",
      "7 X 6 = 42\n",
      "7 X 7 = 49\n",
      "7 X 8 = 56\n",
      "7 X 9 = 63\n"
     ]
    }
   ],
   "source": [
    "# 1. 사용자에게 값을 받는다.\n",
    "# 2. 사용자에게 받은 값을 변수에 넣고 해당 변수의 값을 가지고 반복적으로 1 ~ 9 까지 곱해준다\n",
    "# 3. 1 ~ 9 까지 반복으로 곱해주기 위해서 반복문을 사용한다\n",
    "# 4. 반복문을 사용하기 위해사 range(1, 10) 함수 및 인자값을 사용한다.\n",
    "\n",
    "data = int(input(\"구구단을 위한 숫자를 입력해주세요\"))\n",
    "\n",
    "if data >= 2 and data <= 9 :\n",
    "    for digit in range(1, 10) :  # 들여쓰기 중요\n",
    "        print(f\"{data} X {digit} = {data * digit}\")\n",
    "else :\n",
    "    print(\"2~9사이의 숫자만 입력해주세요\")"
   ]
  },
  {
   "cell_type": "markdown",
   "id": "98d11bcc-6354-4853-b049-354d6e7bfdde",
   "metadata": {},
   "source": [
    "- name = \"[Dave], [David], [Andy], [Juliet]\n",
    "- 위 name변수 안에 담긴 값을 다음처럼 화면에 출력해주세요\n",
    "Dave\n",
    "David\n",
    "Andy\n",
    "Juliet"
   ]
  },
  {
   "cell_type": "code",
   "execution_count": 34,
   "id": "8dcd3cd5-8091-4661-8ddd-48a6f4bd314e",
   "metadata": {},
   "outputs": [
    {
     "name": "stdout",
     "output_type": "stream",
     "text": [
      "Dave\n",
      "David\n",
      "Andy\n",
      "Juliet\n"
     ]
    }
   ],
   "source": [
    "name = \"[Dave],[David],[Andy],[Juliet]\"\n",
    "\n",
    "name01 = name.split(\",\")\n",
    "for str_name in name01 :\n",
    "    print(str_name[1:-1])"
   ]
  },
  {
   "cell_type": "markdown",
   "id": "7227c189-25eb-4718-a15e-50d7dfde348b",
   "metadata": {},
   "source": [
    "- 1 ~ 30까지의 숫자 중 3의 배수만 출력해주세요 (while문을 활용해서 값을 도출하세요)"
   ]
  },
  {
   "cell_type": "code",
   "execution_count": 38,
   "id": "89236be7-cd70-427d-9793-1d801029ae16",
   "metadata": {},
   "outputs": [
    {
     "name": "stdout",
     "output_type": "stream",
     "text": [
      "3\n",
      "6\n",
      "9\n",
      "12\n",
      "15\n",
      "18\n",
      "21\n",
      "24\n",
      "27\n",
      "30\n"
     ]
    }
   ],
   "source": [
    "# 1부터 30까지의 숫자를 반복문을 활용해서 생성 및 찾아오기\n",
    "# 찾아온 숫자 중 3의 배수를 찾는다 (나머지 0: 짝수, 나머지1 : 홀수) 3으로 나누었을 때 나머지 값이 0 -> % 사용\n",
    "\n",
    "num = 0\n",
    "\n",
    "while num < 30 :  # num이 0이여서 0,1,2 이렇게 가기 때문\n",
    "    num += 1\n",
    "    if num % 3 == 0 :\n",
    "        print(num)"
   ]
  },
  {
   "cell_type": "markdown",
   "id": "595f365d-a5b6-44e7-8182-e01b9a207eee",
   "metadata": {},
   "source": [
    "- 1 ~ 30까지의 숫자 중 3의 배수만 출력해주세요 (for문을 활용해서 값을 도출하세요)"
   ]
  },
  {
   "cell_type": "code",
   "execution_count": 40,
   "id": "a2316d56-bcc7-44a8-a1b6-78f31e9826a9",
   "metadata": {},
   "outputs": [
    {
     "name": "stdout",
     "output_type": "stream",
     "text": [
      "3\n",
      "6\n",
      "9\n",
      "12\n",
      "15\n",
      "18\n",
      "21\n",
      "24\n",
      "27\n",
      "30\n"
     ]
    }
   ],
   "source": [
    "for data in range(1,31) :\n",
    "    if data % 3 == 0 :\n",
    "        print(data)"
   ]
  },
  {
   "cell_type": "markdown",
   "id": "fdcee994-d3fb-422b-978e-6def268f55af",
   "metadata": {},
   "source": [
    "- 다음 리스트 자료구조에서 음수값은 삭제하고 양수값만 가지고 있는 새로운 리스트 변수를 만들어서 출력해주세요\n",
    "- num_list = [0,--11, 31, 22, -11, 33, -44, -45]"
   ]
  },
  {
   "cell_type": "code",
   "execution_count": 58,
   "id": "12a07529-2777-4330-b266-387296bb1ee8",
   "metadata": {},
   "outputs": [
    {
     "data": {
      "text/plain": [
       "[0, 31, 22, 33]"
      ]
     },
     "execution_count": 58,
     "metadata": {},
     "output_type": "execute_result"
    }
   ],
   "source": [
    "num_list = [0,-11, 31, 22, -11, 33, -44, -45]\n",
    "new_list = list()\n",
    "\n",
    "for item in num_list :\n",
    "    if item >= 0 :\n",
    "        new_list.append(item)\n",
    "new_list"
   ]
  },
  {
   "cell_type": "markdown",
   "id": "1dcba9ca-962c-43ac-a6ab-202d3c0f7a94",
   "metadata": {},
   "source": [
    "- 아래 리스트에 있는 데이터들의 길이를 출력해주세요 (*단 1줄에 1개씩 구분해서 출력)\n",
    "- list_data = [\"Java\", \"C++\", \"Python\", \"Node\"]\n",
    "- 4\n",
    "- 3\n",
    "- 6\n",
    "- 4"
   ]
  },
  {
   "cell_type": "code",
   "execution_count": 57,
   "id": "8792b438-3d76-4a93-a44a-98aa00f509db",
   "metadata": {},
   "outputs": [
    {
     "name": "stdout",
     "output_type": "stream",
     "text": [
      "4\n",
      "3\n",
      "6\n",
      "4\n"
     ]
    }
   ],
   "source": [
    "list_data = [\"Java\", \"C++\", \"Python\", \"Node\"]\n",
    "\n",
    "for item in list_data :\n",
    "    print(len(item))"
   ]
  },
  {
   "cell_type": "markdown",
   "id": "249966bd-78f9-48e5-8ced-af7b631344f2",
   "metadata": {},
   "source": [
    "- filelist = [\"exercise01.docx\", \"exercise02.docx\", \"exercise03.docx\", \"exercise04.docx\"]\n",
    "```\n",
    "exercise01\n",
    "exercise02\n",
    "exercise03\n",
    "```"
   ]
  },
  {
   "cell_type": "code",
   "execution_count": 66,
   "id": "083ae308-3160-40ec-a1d6-757d01d762cc",
   "metadata": {},
   "outputs": [
    {
     "name": "stdout",
     "output_type": "stream",
     "text": [
      "exercise01\n",
      "exercise02\n",
      "exercise03\n",
      "exercise04\n"
     ]
    }
   ],
   "source": [
    "filelist = [\"exercise01.docx\", \"exercise02.docx\", \"exercise03.docx\", \"exercise04.docx\"]\n",
    "\n",
    "for filename in filelist :\n",
    "    print(filename.split(\".\")[0])"
   ]
  },
  {
   "cell_type": "markdown",
   "id": "f62940f6-95fb-4fff-9ad8-7079d8a93558",
   "metadata": {},
   "source": [
    "- filelist = [\"exercise01.docx\", \"exercise02.csv\", \"exercise03.txt\", \"exercise04.hwp\"]\n",
    "- 확장자가 \"txt\"인 값만 출력"
   ]
  },
  {
   "cell_type": "code",
   "execution_count": 71,
   "id": "e19376ad-8612-44f1-8a6e-de7284bd7fa2",
   "metadata": {},
   "outputs": [
    {
     "name": "stdout",
     "output_type": "stream",
     "text": [
      "exercise03.txt\n"
     ]
    }
   ],
   "source": [
    "filelist = [\"exercise01.docx\", \"exercise02.csv\", \"exercise03.txt\", \"exercise04.hwp\"]\n",
    "\n",
    "for filename in filelist :\n",
    "    if filename.split(\".\")[1] == \"txt\" :\n",
    "        print(filename)"
   ]
  }
 ],
 "metadata": {
  "kernelspec": {
   "display_name": "Python [conda env:anaconda3]",
   "language": "python",
   "name": "conda-env-anaconda3-py"
  },
  "language_info": {
   "codemirror_mode": {
    "name": "ipython",
    "version": 3
   },
   "file_extension": ".py",
   "mimetype": "text/x-python",
   "name": "python",
   "nbconvert_exporter": "python",
   "pygments_lexer": "ipython3",
   "version": "3.13.5"
  }
 },
 "nbformat": 4,
 "nbformat_minor": 5
}
