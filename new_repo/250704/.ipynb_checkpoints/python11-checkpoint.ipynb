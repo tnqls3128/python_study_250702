{
 "cells": [
  {
   "cell_type": "markdown",
   "id": "6b888ae1-e081-42cb-b4c6-8cd6dbd02e95",
   "metadata": {},
   "source": [
    "- 사용자로부터 어떤 값을 받고, 해당 값을 한화 (*한국돈)으로 바꿔서 출력되도록 해주세요\n",
    "- ex. 100 -> 환율 1112원 // 1112000원으로 출력되도록 해주세요"
   ]
  },
  {
   "cell_type": "code",
   "execution_count": 18,
   "id": "417e3232-4b04-416a-8f3e-1efe32707cf8",
   "metadata": {},
   "outputs": [
    {
     "name": "stdin",
     "output_type": "stream",
     "text": [
      "환전하고 싶은 달러를 입력해주세요. ex)100달러 1달러\n"
     ]
    },
    {
     "name": "stdout",
     "output_type": "stream",
     "text": [
      "1,112원\n"
     ]
    }
   ],
   "source": [
    "# 수학 -> math X\n",
    "# 수학능력평가시험 -> 수학 -> 논리적사고\n",
    "# 해결하고싶은 것을 말로 표현 -> 국어\n",
    "\n",
    "# 1. 사용자에게 값을 받는다\n",
    "# -> input)(), int()\n",
    "\n",
    "# 2. 사전에 환율을 정의해서 특정 변수에 할당해놓는다\n",
    "# 변수정의만 알면 됨\n",
    "\n",
    "# 3. 사용자에게 받은 값을 사전에 정의해놓은 환율과 계산한다\n",
    "# 연산자만 알면 됨\n",
    "\n",
    "# 4. 사용자의 값과 환율을 계산한 그 결과값을 출력한다\n",
    "# print()\n",
    "\n",
    "price = input(\"환전하고 싶은 달러를 입력해주세요. ex)100달러\")\n",
    "exchange = 1112\n",
    "\n",
    "dollar = int(price.replace(\"달러\", \"\")) #\"\" 빈문자(달러 제거), \" \" 빈 여백\n",
    "result = dollar * exchange\n",
    "\n",
    "print(f\"{result:,}원\")  # :, (천단위에서 ,로 끊기)"
   ]
  },
  {
   "cell_type": "markdown",
   "id": "677b6485-ca54-44e2-946d-b0162ecc7fd8",
   "metadata": {},
   "source": [
    "- 달러의 환율을 1112원 설정, 위안화의 환율 171원, 엔화 1010원 설정하되, 해당 화폐당 환율의 값을 딕셔너리라는 자료구조로 정의하고 사용자가 달러 혹은 엔화 혹은 위안화 값을 입력했을 때 해당 값을 한화로 출력될 수 있도록 해주세요\n",
    "  (ex. 100달러 -> 111,200원 // 100위안 -> 17,100원"
   ]
  },
  {
   "cell_type": "code",
   "execution_count": 43,
   "id": "47d9b4f4-76cd-4b3f-9e65-0fca11af499b",
   "metadata": {},
   "outputs": [
    {
     "name": "stdin",
     "output_type": "stream",
     "text": [
      "환전하고 싶은 금액 입력 :  100엔\n"
     ]
    },
    {
     "name": "stdout",
     "output_type": "stream",
     "text": [
      "10,100원\n"
     ]
    }
   ],
   "source": [
    "exchange_list = {\"달러\" : 1112, \"위안\" : 171, \"엔\" : 1010}\n",
    "user_money = input(\"환전하고 싶은 금액 입력 : \")\n",
    "# 100달러\n",
    "\n",
    "if user_money[-2:] == \"달러\" : #달러\n",
    "    print(f\"{exchange_list['달러'] * int(user_money[:-2]):,}원\")\n",
    "elif user_money[-2:] == \"위안\" :\n",
    "    print(f\"{exchange_list['위안'] * int(user_money[:-2]):,}원\")\n",
    "elif user_money[-1:] == \"엔\" :\n",
    "    print(f\"{exchange_list['엔'] * int(user_money[:-2]):,}원\")\n",
    "else :\n",
    "    print(\"달러, 위안, 엔 중 하나를 입력해주세요\")"
   ]
  },
  {
   "cell_type": "code",
   "execution_count": 50,
   "id": "7fc7a313-47e4-4bd7-a6f4-3eea35f6918e",
   "metadata": {},
   "outputs": [
    {
     "name": "stdout",
     "output_type": "stream",
     "text": [
      "------------\n",
      "-구구단 2단-\n",
      "------------\n",
      "2 X 1 = 2\n",
      "2 X 2 = 4\n",
      "2 X 3 = 6\n",
      "2 X 4 = 8\n",
      "2 X 5 = 10\n",
      "2 X 6 = 12\n",
      "2 X 7 = 14\n",
      "2 X 8 = 16\n",
      "2 X 9 = 18\n",
      "\n",
      "\n",
      "------------\n",
      "-구구단 3단-\n",
      "------------\n",
      "3 X 1 = 3\n",
      "3 X 2 = 6\n",
      "3 X 3 = 9\n",
      "3 X 4 = 12\n",
      "3 X 5 = 15\n",
      "3 X 6 = 18\n",
      "3 X 7 = 21\n",
      "3 X 8 = 24\n",
      "3 X 9 = 27\n",
      "\n",
      "\n",
      "------------\n",
      "-구구단 4단-\n",
      "------------\n",
      "4 X 1 = 4\n",
      "4 X 2 = 8\n",
      "4 X 3 = 12\n",
      "4 X 4 = 16\n",
      "4 X 5 = 20\n",
      "4 X 6 = 24\n",
      "4 X 7 = 28\n",
      "4 X 8 = 32\n",
      "4 X 9 = 36\n",
      "\n",
      "\n",
      "------------\n",
      "-구구단 5단-\n",
      "------------\n",
      "5 X 1 = 5\n",
      "5 X 2 = 10\n",
      "5 X 3 = 15\n",
      "5 X 4 = 20\n",
      "5 X 5 = 25\n",
      "5 X 6 = 30\n",
      "5 X 7 = 35\n",
      "5 X 8 = 40\n",
      "5 X 9 = 45\n",
      "\n",
      "\n",
      "------------\n",
      "-구구단 6단-\n",
      "------------\n",
      "6 X 1 = 6\n",
      "6 X 2 = 12\n",
      "6 X 3 = 18\n",
      "6 X 4 = 24\n",
      "6 X 5 = 30\n",
      "6 X 6 = 36\n",
      "6 X 7 = 42\n",
      "6 X 8 = 48\n",
      "6 X 9 = 54\n",
      "\n",
      "\n",
      "------------\n",
      "-구구단 7단-\n",
      "------------\n",
      "7 X 1 = 7\n",
      "7 X 2 = 14\n",
      "7 X 3 = 21\n",
      "7 X 4 = 28\n",
      "7 X 5 = 35\n",
      "7 X 6 = 42\n",
      "7 X 7 = 49\n",
      "7 X 8 = 56\n",
      "7 X 9 = 63\n",
      "\n",
      "\n",
      "------------\n",
      "-구구단 8단-\n",
      "------------\n",
      "8 X 1 = 8\n",
      "8 X 2 = 16\n",
      "8 X 3 = 24\n",
      "8 X 4 = 32\n",
      "8 X 5 = 40\n",
      "8 X 6 = 48\n",
      "8 X 7 = 56\n",
      "8 X 8 = 64\n",
      "8 X 9 = 72\n",
      "\n",
      "\n",
      "------------\n",
      "-구구단 9단-\n",
      "------------\n",
      "9 X 1 = 9\n",
      "9 X 2 = 18\n",
      "9 X 3 = 27\n",
      "9 X 4 = 36\n",
      "9 X 5 = 45\n",
      "9 X 6 = 54\n",
      "9 X 7 = 63\n",
      "9 X 8 = 72\n",
      "9 X 9 = 81\n",
      "\n",
      "\n"
     ]
    }
   ],
   "source": [
    "# 1. 2~9단까지 -> 2부터 9까지 반복순회 \n",
    "# 2. 피연산자로 1부터 9까지 반복순회 2*1 = 2\n",
    "# 3. 2단 이후 공백\n",
    "# 중첩 for문\n",
    "\n",
    "for num01 in range(2, 10) :\n",
    "    print(\"------------\")\n",
    "    print(f\"-구구단 {num01}단-\")\n",
    "    print(\"------------\")\n",
    "    for num02 in range(1, 10) :\n",
    "        print(f\"{num01} X {num02} = {num01 * num02}\")\n",
    "    print(\"\\n\")"
   ]
  },
  {
   "cell_type": "markdown",
   "id": "7f011c3f-c80a-4288-b8ba-a6570482584b",
   "metadata": {},
   "source": [
    "- 위에서 작성한 코드를 활용해서 다음과 같은 결과를 출력해주세요 구구단 2~9단까지 출력하되, 계산된 결과값이 짝수인 경우만 출력해주세요 ex) 3x3=9이기 때문에 출력되면 안됨 2x4=8이기 때문에 출력되어야함"
   ]
  },
  {
   "cell_type": "code",
   "execution_count": 55,
   "id": "b767bd1d-c579-4861-a781-9b559c9b603a",
   "metadata": {},
   "outputs": [
    {
     "name": "stdout",
     "output_type": "stream",
     "text": [
      "------------\n",
      "-구구단 2단-\n",
      "------------\n",
      "2 X 1 = 2\n",
      "2 X 2 = 4\n",
      "2 X 3 = 6\n",
      "2 X 4 = 8\n",
      "2 X 5 = 10\n",
      "2 X 6 = 12\n",
      "2 X 7 = 14\n",
      "2 X 8 = 16\n",
      "2 X 9 = 18\n",
      "\n",
      "\n",
      "------------\n",
      "-구구단 3단-\n",
      "------------\n",
      "3 X 2 = 6\n",
      "3 X 4 = 12\n",
      "3 X 6 = 18\n",
      "3 X 8 = 24\n",
      "\n",
      "\n",
      "------------\n",
      "-구구단 4단-\n",
      "------------\n",
      "4 X 1 = 4\n",
      "4 X 2 = 8\n",
      "4 X 3 = 12\n",
      "4 X 4 = 16\n",
      "4 X 5 = 20\n",
      "4 X 6 = 24\n",
      "4 X 7 = 28\n",
      "4 X 8 = 32\n",
      "4 X 9 = 36\n",
      "\n",
      "\n",
      "------------\n",
      "-구구단 5단-\n",
      "------------\n",
      "5 X 2 = 10\n",
      "5 X 4 = 20\n",
      "5 X 6 = 30\n",
      "5 X 8 = 40\n",
      "\n",
      "\n",
      "------------\n",
      "-구구단 6단-\n",
      "------------\n",
      "6 X 1 = 6\n",
      "6 X 2 = 12\n",
      "6 X 3 = 18\n",
      "6 X 4 = 24\n",
      "6 X 5 = 30\n",
      "6 X 6 = 36\n",
      "6 X 7 = 42\n",
      "6 X 8 = 48\n",
      "6 X 9 = 54\n",
      "\n",
      "\n",
      "------------\n",
      "-구구단 7단-\n",
      "------------\n",
      "7 X 2 = 14\n",
      "7 X 4 = 28\n",
      "7 X 6 = 42\n",
      "7 X 8 = 56\n",
      "\n",
      "\n",
      "------------\n",
      "-구구단 8단-\n",
      "------------\n",
      "8 X 1 = 8\n",
      "8 X 2 = 16\n",
      "8 X 3 = 24\n",
      "8 X 4 = 32\n",
      "8 X 5 = 40\n",
      "8 X 6 = 48\n",
      "8 X 7 = 56\n",
      "8 X 8 = 64\n",
      "8 X 9 = 72\n",
      "\n",
      "\n",
      "------------\n",
      "-구구단 9단-\n",
      "------------\n",
      "9 X 2 = 18\n",
      "9 X 4 = 36\n",
      "9 X 6 = 54\n",
      "9 X 8 = 72\n",
      "\n",
      "\n"
     ]
    }
   ],
   "source": [
    "for num01 in range(2, 10) :\n",
    "    print(\"------------\")\n",
    "    print(f\"-구구단 {num01}단-\")\n",
    "    print(\"------------\")\n",
    "    for num02 in range(1, 10) :\n",
    "        if (num01 * num02) % 2 ==0 :\n",
    "            print(f\"{num01} X {num02} = {num01 * num02}\")\n",
    "    print(\"\\n\")"
   ]
  },
  {
   "cell_type": "markdown",
   "id": "a433645d-ed19-4385-8910-fcd1a4b17e43",
   "metadata": {},
   "source": [
    "- dongs = [\"6209동\", \"6208동\", \"6207동\"]\n",
    "hos = [\"101호\", \"102호\", \"103호\", \"104호\"]\n",
    "\n",
    "```\n",
    "6209동 101호\n",
    "6209동 102호\n",
    "6209동 103호\n",
    "6208동 101호\n",
    "...\n",
    "\n",
    "```"
   ]
  },
  {
   "cell_type": "code",
   "execution_count": 64,
   "id": "2cdf4c28-0308-4c4a-a02a-db273e99d5d3",
   "metadata": {},
   "outputs": [
    {
     "name": "stdout",
     "output_type": "stream",
     "text": [
      "6209동 101호\n",
      "6209동 102호\n",
      "6209동 103호\n",
      "6209동 104호\n",
      "\n",
      "6208동 101호\n",
      "6208동 102호\n",
      "6208동 103호\n",
      "6208동 104호\n",
      "\n",
      "6207동 101호\n",
      "6207동 102호\n",
      "6207동 103호\n",
      "6207동 104호\n",
      "\n"
     ]
    }
   ],
   "source": [
    "dongs = [\"6209동\", \"6208동\", \"6207동\"]\n",
    "hos = [\"101호\", \"102호\", \"103호\", \"104호\"]  #list -> 반복문\n",
    "\n",
    "for dong in dongs :\n",
    "    for ho in hos :\n",
    "        print(dong, ho)\n",
    "    print() #(|n) -> 두줄"
   ]
  },
  {
   "cell_type": "code",
   "execution_count": 69,
   "id": "b0ebad16-63c9-4cfb-8bf3-b985d5a2b8ad",
   "metadata": {},
   "outputs": [
    {
     "data": {
      "text/plain": [
       "('coding01', 'coding02', 'coding03', 'coding04')"
      ]
     },
     "execution_count": 69,
     "metadata": {},
     "output_type": "execute_result"
    }
   ],
   "source": [
    "tupledata = (\"coding01\", \"coding02\", \"coding03\")\n",
    "# temp_list = list(tupledata)\n",
    "#temp_list.append(\"coding04\")\n",
    "# result = tuple(temp_list)\n",
    "\n",
    "# result\n",
    "\n",
    "tuple(list(tupledata) + [\"coding04\"]) # list+list"
   ]
  },
  {
   "cell_type": "markdown",
   "id": "1653ffcb-eb75-426d-a8d4-bcffac178487",
   "metadata": {},
   "source": [
    "- 딕셔너리 형태의 자료구조를 하나 만들어서 아래와 같이 값을 출력해주세요\n",
    "```\n",
    "enviroment : 환경 X\n",
    "company : 회사 O\n",
    "government : 정부 X\n",
    "face : 얼굴 X\n",
    "```"
   ]
  },
  {
   "cell_type": "code",
   "execution_count": 89,
   "id": "3bd77689-57eb-4ef2-b230-709316f3e25e",
   "metadata": {},
   "outputs": [
    {
     "name": "stdout",
     "output_type": "stream",
     "text": [
      "enviroment : ['환경', 'X']\n",
      "company : ['회사', 'O']\n",
      "government : ['정부', 'X']\n",
      "face : ['얼굴', 'X']\n"
     ]
    }
   ],
   "source": [
    "data = {\n",
    "    \"enviroment\" : [\"환경\", \"X\"], \n",
    "    \"company\" : [\"회사\", \"O\"],  \n",
    "    \"government\" : [\"정부\", \"X\"],  \n",
    "    \"face\" : [\"얼굴\", \"X\"]\n",
    "}\n",
    "for item in data.keys() : \n",
    "   print(f\"{item} : {data[item]}\")"
   ]
  },
  {
   "cell_type": "markdown",
   "id": "ec226f98-a988-4387-9130-81d91f8d6795",
   "metadata": {},
   "source": [
    "- 사용자로부터 사전의 등록되어있는 단어들 중 1개를 입력받으세요 그러면 입력받은 단어의 경우, 외움표시 O 표시로 수정하고 아직 외우지못한 단어들만 출력하는 프로그램 코드를 작성해주세요"
   ]
  },
  {
   "cell_type": "code",
   "execution_count": 109,
   "id": "204fabb4-8d4b-4c94-8379-97c5a00a5dff",
   "metadata": {},
   "outputs": [
    {
     "name": "stdin",
     "output_type": "stream",
     "text": [
      "다 외운 단어 입력 :  face\n"
     ]
    }
   ],
   "source": [
    "english = input(\"다 외운 단어 입력 : \")\n",
    "\n",
    "if english in data.keys() : \n",
    "    data[english][1] = \"O\"\n",
    "else : \n",
    "    print(\"사전에 존재하지않는 단어입니다\")\n",
    "\n",
    "for item in data.keys() : \n",
    "    data_list = data[item]\n",
    "    if data_list[1] == \"X\" :\n",
    "        print(item)"
   ]
  },
  {
   "cell_type": "markdown",
   "id": "393a4b51-fbcc-4c4d-8341-0c398f52f431",
   "metadata": {},
   "source": [
    "- dict_all = {\"enviroment\" : \"환경\", \"government\" : \"정부\"}\n",
    "- dict2 = {\"company\" : \"회사\", \"face\" : \"얼굴\"}\n",
    "- dict3 = {\"apple\" : \"사과\"}\n",
    "- dict_all 안에 dict2와 dicr3 값을 모두 넣어주세요 그리고 dict_all값을 출력해주세요"
   ]
  },
  {
   "cell_type": "code",
   "execution_count": 114,
   "id": "a507ff33-dd7b-4d5b-89b9-64053f3c9c6f",
   "metadata": {},
   "outputs": [
    {
     "data": {
      "text/plain": [
       "{'enviroment': '환경',\n",
       " 'government': '정부',\n",
       " 'company': '회사',\n",
       " 'face': '얼굴',\n",
       " 'apple': '사과'}"
      ]
     },
     "execution_count": 114,
     "metadata": {},
     "output_type": "execute_result"
    }
   ],
   "source": [
    "dict_all = {\"enviroment\" : \"환경\", \"government\" : \"정부\"}\n",
    "dict2 = {\"company\" : \"회사\", \"face\" : \"얼굴\"}\n",
    "dict3 = {\"apple\" : \"사과\"}\n",
    "\n",
    "for item in dict2.keys() :\n",
    "    dict_all[item] = dict2[item]\n",
    "for item in dict3.keys() :\n",
    "    dict_all[item] = dict3[item]\n",
    "    \n",
    "dict_all"
   ]
  },
  {
   "cell_type": "code",
   "execution_count": 123,
   "id": "bcb7bbe9-5643-42c9-8221-d3e01cb2bbb9",
   "metadata": {},
   "outputs": [
    {
     "data": {
      "text/plain": [
       "{2, 3, 4, 5, 6}"
      ]
     },
     "execution_count": 123,
     "metadata": {},
     "output_type": "execute_result"
    }
   ],
   "source": [
    "number_list = {1, 2, 3}\n",
    "number_list.remove(1)\n",
    "number_list.add(4)\n",
    "number_list.update([5,6]) # add : 값을 하나씩만 추가 / update : 이터러블한 객체인 리스트로 변경 후 복수 추가\n",
    "\n",
    "number_list"
   ]
  },
  {
   "cell_type": "markdown",
   "id": "4544e100-abbe-4b25-b322-eed1c3d5edc3",
   "metadata": {},
   "source": [
    "- 임의의 숫자 2개를 사용자에게 받으면 해당 2개의 숫자를 곱한 값을 반환하는 함수를 만들고, 해당 함수의 결과값을 화면에 출력해주세요"
   ]
  },
  {
   "cell_type": "code",
   "execution_count": 139,
   "id": "0b2d7e45-42fa-46c1-ba01-288451b74079",
   "metadata": {},
   "outputs": [
    {
     "name": "stdin",
     "output_type": "stream",
     "text": [
      "숫자를 입력하세요 2\n",
      "숫자를 입력하세요 4\n"
     ]
    },
    {
     "name": "stdout",
     "output_type": "stream",
     "text": [
      "8\n"
     ]
    }
   ],
   "source": [
    "# num01 = int(input(\"첫번째 숫자를 입력하세요\"))\n",
    "# num02 = int(input(\"첫번째 숫자를 입력하세요\"))\n",
    "\n",
    "num_all = [int(input(\"숫자를 입력하세요\")) for _ in range(2)]\n",
    "\n",
    "def f1 (num01, num02) :\n",
    "    return num01 * num02\n",
    "\n",
    "print(f1(num_all[0], num_all[1]))"
   ]
  },
  {
   "cell_type": "markdown",
   "id": "244d69be-8798-4134-9acb-7ca005d2f932",
   "metadata": {},
   "source": [
    "- 인자값 3개를 받을 수 있는 함수를 호출합니다. \n",
    "- func1(인자값1, 인자값2, 인자값3)\n",
    "- 해당 함수의 3번째 인자값 = 인자값3, + -> 첫번째 인자값과 두번째 인자값을 더한 결과값을 반환하도록 해주시고, 만약 3번째 인자값이 *라면, 첫번째 인자값과 두번쨰 인자값을 곱한 결과값을 반환해주세요. 그런데 만약 3번째 인자값이 +도 아니고 *도 아니라면 무조건 0이라는 값을 반환하도록 하는 함수를 만들어주세요."
   ]
  },
  {
   "cell_type": "code",
   "execution_count": 144,
   "id": "f61ebb96-e7d0-4e3e-99f5-ef635015f05c",
   "metadata": {},
   "outputs": [
    {
     "name": "stdout",
     "output_type": "stream",
     "text": [
      "3 12 0\n"
     ]
    }
   ],
   "source": [
    "def calc(data1, data2, way) :\n",
    "    if way == \"+\" :\n",
    "        return data1 + data2\n",
    "    elif way == \"*\" :\n",
    "        return data1 * data2\n",
    "    else :\n",
    "        return 0\n",
    "\n",
    "data01 = calc(1,2,\"+\")\n",
    "data02 = calc(3,4,\"*\")\n",
    "data03 = calc(2,4,\"-\")\n",
    "print(data01, data02, data03)"
   ]
  }
 ],
 "metadata": {
  "kernelspec": {
   "display_name": "Python [conda env:anaconda3]",
   "language": "python",
   "name": "conda-env-anaconda3-py"
  },
  "language_info": {
   "codemirror_mode": {
    "name": "ipython",
    "version": 3
   },
   "file_extension": ".py",
   "mimetype": "text/x-python",
   "name": "python",
   "nbconvert_exporter": "python",
   "pygments_lexer": "ipython3",
   "version": "3.13.5"
  }
 },
 "nbformat": 4,
 "nbformat_minor": 5
}
