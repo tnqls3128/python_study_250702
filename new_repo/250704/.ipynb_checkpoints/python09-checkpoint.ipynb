{
 "cells": [
  {
   "cell_type": "markdown",
   "id": "7c62550c-43e1-4c89-b39f-6f50d23fd0e8",
   "metadata": {},
   "source": [
    "#### 웹 사이트 데이터를 크롤링\n",
    "- 크롤링 : 동물의 발톱 or 갈퀴로 어떤 정보를 잡아채온다는 개념\n",
    "    - 파이썬이 아닌 언어로도 충분히 할 수 있는 기능\n",
    "    - 파이썬 문법이 타 언어대비 심플 & 간소화 -> 초심자 학습하기 매우 적절\n",
    "    - 개발자가 아니더라도 비개발자 간편하고 빠르게 개발언어를 활용해서 크롤링을 할 수 있도록 도와주는 거의 유일한 언어\n",
    "    - 파이썬 언어는 내부 or 외부 라이브러리 소스를 가져다가 사용할 수 있는 기회나 상황이 多\n",
    "- 라이브러리(외부)\n",
    "    - beautifulsoup4 : 아래 requst를 통해서 찾아온 html문서를 파싱(parsing -> 읽는다)\n",
    "    - request : 크롤링 해오고자 하는 웹 사이트를 요청 -> html 문서 안에 있는 코드를 가져오는 역할\n",
    "      1. pip install requests beautiful4 -> 설치\n",
    "      2. 이제부터 쓸 거라는 것을 셀에 입력 import, from\n",
    "      3. url = \"\"링크입력 \n",
    "      4. reponse(*응답) = requests.get(url) -> url 요청보내기(HTML가져오기)\n",
    "      5. soup(*함수) = BeautifulSoup(reponse.text, \"html.panser\") -> HTML문서 파싱(*해석)해서 soup객체로 저장\n",
    "      6. cards = soup.select(\"div.maxthumb img\") -> CSS선택자로 img태그들 가져오기\n",
    "      7. print(cards) -> img태그 리스트 출력\n",
    "         for card in cards :\n",
    "             print(card) -> 1줄로 리스트 \n"
   ]
  },
  {
   "cell_type": "code",
   "execution_count": 2,
   "id": "29093181-7ff7-4644-b52d-bc8f24c1264d",
   "metadata": {},
   "outputs": [
    {
     "name": "stdout",
     "output_type": "stream",
     "text": [
      "Defaulting to user installation because normal site-packages is not writeable\n",
      "Requirement already satisfied: requests in c:\\programdata\\anaconda3\\lib\\site-packages (2.32.3)\n",
      "Requirement already satisfied: charset-normalizer<4,>=2 in c:\\programdata\\anaconda3\\lib\\site-packages (from requests) (3.3.2)\n",
      "Requirement already satisfied: idna<4,>=2.5 in c:\\programdata\\anaconda3\\lib\\site-packages (from requests) (3.7)\n",
      "Requirement already satisfied: urllib3<3,>=1.21.1 in c:\\programdata\\anaconda3\\lib\\site-packages (from requests) (2.3.0)\n",
      "Requirement already satisfied: certifi>=2017.4.17 in c:\\programdata\\anaconda3\\lib\\site-packages (from requests) (2025.4.26)\n",
      "Note: you may need to restart the kernel to use updated packages.\n"
     ]
    }
   ],
   "source": [
    "pip install requests"
   ]
  },
  {
   "cell_type": "code",
   "execution_count": 3,
   "id": "b9273969-cba6-4833-85df-79243904ca8a",
   "metadata": {},
   "outputs": [
    {
     "name": "stdout",
     "output_type": "stream",
     "text": [
      "Defaulting to user installation because normal site-packages is not writeable\n",
      "Requirement already satisfied: beautifulsoup4 in c:\\programdata\\anaconda3\\lib\\site-packages (4.12.3)\n",
      "Requirement already satisfied: soupsieve>1.2 in c:\\programdata\\anaconda3\\lib\\site-packages (from beautifulsoup4) (2.5)\n",
      "Note: you may need to restart the kernel to use updated packages.\n"
     ]
    }
   ],
   "source": [
    "pip install beautifulsoup4"
   ]
  },
  {
   "cell_type": "code",
   "execution_count": 4,
   "id": "fa61f0b9-48a0-4f2f-aecf-95420fb9b56d",
   "metadata": {},
   "outputs": [
    {
     "name": "stdout",
     "output_type": "stream",
     "text": [
      "Defaulting to user installation because normal site-packages is not writeable\n",
      "Requirement already satisfied: requests in c:\\programdata\\anaconda3\\lib\\site-packages (2.32.3)\n",
      "Requirement already satisfied: beautifulsoup4 in c:\\programdata\\anaconda3\\lib\\site-packages (4.12.3)\n",
      "Requirement already satisfied: charset-normalizer<4,>=2 in c:\\programdata\\anaconda3\\lib\\site-packages (from requests) (3.3.2)\n",
      "Requirement already satisfied: idna<4,>=2.5 in c:\\programdata\\anaconda3\\lib\\site-packages (from requests) (3.7)\n",
      "Requirement already satisfied: urllib3<3,>=1.21.1 in c:\\programdata\\anaconda3\\lib\\site-packages (from requests) (2.3.0)\n",
      "Requirement already satisfied: certifi>=2017.4.17 in c:\\programdata\\anaconda3\\lib\\site-packages (from requests) (2025.4.26)\n",
      "Requirement already satisfied: soupsieve>1.2 in c:\\programdata\\anaconda3\\lib\\site-packages (from beautifulsoup4) (2.5)\n",
      "Note: you may need to restart the kernel to use updated packages.\n"
     ]
    }
   ],
   "source": [
    "pip install requests beautifulsoup4"
   ]
  },
  {
   "cell_type": "code",
   "execution_count": 25,
   "id": "4ec0a5b7-ae58-4e69-9d11-5be51f200f94",
   "metadata": {},
   "outputs": [
    {
     "name": "stdout",
     "output_type": "stream",
     "text": [
      "1번째 상품 : 상품카테고리 => 매트리스커버 관련 상품 추천 / 상품이미지 : https://static.coupangcdn.com/image/retail/images/2017/10/11/16/6/bf3b2157-528d-4b24-9991-b601a24f4c6f.jpg\n",
      "2번째 상품 : 상품카테고리 => 매트리스커버 관련 상품 추천 / 상품이미지 : https://static.coupangcdn.com/image/product/image/vendoritem/2018/11/28/3647689009/d72a996d-1e4e-42be-a23c-f9f6872214bb.jpg\n",
      "3번째 상품 : 상품카테고리 => 매트리스커버 관련 상품 추천 / 상품이미지 : https://static.coupangcdn.com/image/product/image/vendoritem/2019/06/11/3361297461/699c49cc-5f9f-4927-ab26-b184f90c1571.jpg\n",
      "4번째 상품 : 상품카테고리 => 매트리스커버 관련 상품 추천 / 상품이미지 : https://static.coupangcdn.com/image/retail/images/2018/10/26/16/9/c6dfa004-442c-4f48-9ff1-b76d81bae046.jpg\n",
      "5번째 상품 : 상품카테고리 => 매트리스커버 관련 상품 추천 / 상품이미지 : https://static.coupangcdn.com/image/retail/images/2019/04/01/22/6/f9566f49-cf8c-48dd-bc73-b543a3f47f62.jpg\n",
      "6번째 상품 : 상품카테고리 => 매트리스커버 관련 상품 추천 / 상품이미지 : https://static.coupangcdn.com/image/retail/images/12859794410743-0ab1b2fe-1cd4-4599-b38a-3fb22f3bf620.jpg\n",
      "7번째 상품 : 상품카테고리 => 매트리스커버 관련 상품 추천 / 상품이미지 : https://static.coupangcdn.com/image/retail/images/2019/03/28/19/3/2d9f9b52-0cc9-424f-8639-8f298429d244.jpg\n",
      "8번째 상품 : 상품카테고리 => 매트리스커버 관련 상품 추천 / 상품이미지 : https://static.coupangcdn.com/image/retail/images/2017/10/19/15/4/95b93d25-7014-458a-a2a5-9b93189cdcef.jpg\n",
      "9번째 상품 : 상품카테고리 => 행거도어 관련 상품 추천 / 상품이미지 : https://static.coupangcdn.com/image/retail/images/2019/07/29/12/3/704931d7-4dbd-4af7-9247-856831bdc61e.jpg\n",
      "10번째 상품 : 상품카테고리 => 매트리스커버 관련 상품 추천 / 상품이미지 : https://static.coupangcdn.com/image/retail/images/2017/10/13/10/3/8379ffd3-63be-4da4-98f9-895aaa0c9b52.jpg\n",
      "11번째 상품 : 상품카테고리 => 매트리스커버 관련 상품 추천 / 상품이미지 : https://static.coupangcdn.com/image/retail/images/2018/09/17/19/4/329dbb2f-a0ad-44d4-af46-1eea0c548b67.jpg\n",
      "12번째 상품 : 상품카테고리 => 매트리스커버 관련 상품 추천 / 상품이미지 : https://static.coupangcdn.com/image/retail/images/339338956730835-5cbe0521-2a03-4fe2-8eb7-7a7ae9ff187f.jpg\n"
     ]
    }
   ],
   "source": [
    "import requests\n",
    "from bs4 import BeautifulSoup \n",
    "\n",
    "url = \"https://davelee-fun.github.io\"\n",
    "response = requests.get(url)\n",
    "soup = BeautifulSoup(response.text, \"html.parser\")\n",
    "\n",
    "cards = soup.select(\"div.maxthumb img\")\n",
    "card_data = []\n",
    "\n",
    "for idx, card in enumerate(cards, start=1) :  \n",
    "    title = card.get(\"alt\", \"제목 없음\").strip()\n",
    "    img_url = card.get(\"src\", \"\").strip()\n",
    "   #  print(card.get(\"src\", \"\").strip())  #불필요한 문자열 제거\n",
    "   #  print(card.get(\"alt\", \"제목 없음\").strip())\n",
    "\n",
    "    card_info = (idx, title, img_url)\n",
    "    card_data.append(card_info)\n",
    "\n",
    "for item in card_data :  #item = 튜플에 대한\n",
    "    print(f\"{item[0]}번째 상품 : 상품카테고리 => {item[1]} / 상품이미지 : {item[2]}\")"
   ]
  }
 ],
 "metadata": {
  "kernelspec": {
   "display_name": "Python [conda env:anaconda3]",
   "language": "python",
   "name": "conda-env-anaconda3-py"
  },
  "language_info": {
   "codemirror_mode": {
    "name": "ipython",
    "version": 3
   },
   "file_extension": ".py",
   "mimetype": "text/x-python",
   "name": "python",
   "nbconvert_exporter": "python",
   "pygments_lexer": "ipython3",
   "version": "3.13.5"
  }
 },
 "nbformat": 4,
 "nbformat_minor": 5
}
