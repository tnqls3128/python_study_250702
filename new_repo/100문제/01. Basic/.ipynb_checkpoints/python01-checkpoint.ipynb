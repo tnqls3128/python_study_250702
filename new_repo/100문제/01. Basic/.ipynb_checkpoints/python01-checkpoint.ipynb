{
 "cells": [
  {
   "cell_type": "markdown",
   "id": "d87271e8-b3be-427c-92ac-443b41baadc5",
   "metadata": {},
   "source": [
    "#### 1. 네이버 뉴스에서 '디지털 마케팅' 키워드로 검색한 뉴스 제목 10개를 수집하세요"
   ]
  },
  {
   "cell_type": "code",
   "execution_count": 10,
   "id": "4748b3e3-63db-44a3-886b-9611c2edfda3",
   "metadata": {},
   "outputs": [
    {
     "name": "stdout",
     "output_type": "stream",
     "text": [
      "1. 한컴위드, 다날과 차세대 디지털 금융 서비스 시장 공동 공략\n",
      "2. JT저축은행-한국폴리텍대학, 디지털 역량 강화 위한 챗GPT 교육\n",
      "3. 조선대, 인도네시아 에어랑가대학 대상 치과기술 마케팅 연수 개최\n",
      "4. SOOP, 2Q 영업익 300억·9.9%↓…'마케팅·인건비' 상승 영향\n",
      "5. 롯데·신라免, 타겟 마케팅으로 부진 속 돌파구 찾는다\n",
      "6. 국민체육진흥공단, '전국 대학생 스포츠 마케팅 경진 대회' 개최\n",
      "7. 진화하는 은행 캐릭터 마케팅…신한은행 \"금융 여정 동행 경험 심는다\"\n",
      "8. 다날·한컴위드, 스테이블코인 전자금융 사업 본격화 …\"시장 최적화 디...\n",
      "9. [Biz-inside,China] 쑥쑥 크는 中 전자상거래, AI로 무장하다…상담·마케...\n",
      "10. 정읍시, 지황 농산물 가공식품 온라인 마케팅 강화교육 수료\n"
     ]
    }
   ],
   "source": [
    "import requests   # html 문서가져오는 역할\n",
    "from bs4 import BeautifulSoup\n",
    "\n",
    "query = \"디지털 마케팅\"\n",
    "url = f\"https://search.naver.com/search.naver?where=news&query={query}\"\n",
    "\n",
    "headers = {   # 로봇이 아니라고 속이는 객체\n",
    "    \"user-Agent\" : \"Mozilla/5.0 (Windows NT 10.0; Win64; x64) AppleWebKit/537.36 (KHTML, like Gecko) Chrome/138.0.0.0 Safari/537.36 Edg/138.0.0.0\"   \n",
    "    # 네이버 콘솔 -> window.navigator.userAgent\n",
    "}\n",
    "\n",
    "res = requests.get(url, headers)\n",
    "soup = BeautifulSoup(res.text, \"html.parser\")\n",
    "titles = soup.select(\"a.ox1N67gcMkHhMh7hbfHi.VZxw34rcBHTWHgERxv0b\")\n",
    "\n",
    "for i, title in enumerate(titles[:10], 1) :\n",
    "    print(f\"{i}. {title.get_text().strip()}\")"
   ]
  },
  {
   "cell_type": "markdown",
   "id": "90029853-7434-498c-91be-157ed36ec303",
   "metadata": {},
   "source": [
    "#### 2. 다음 뉴스에서 IT 섹션의 기사제목과 링크를 수집하세요"
   ]
  },
  {
   "cell_type": "code",
   "execution_count": 35,
   "id": "6b4eba67-e14e-4446-a315-14d1acd7a6de",
   "metadata": {},
   "outputs": [
    {
     "name": "stdout",
     "output_type": "stream",
     "text": [
      "1. 얇고 가볍게 변신한 갤폴드7···이동 중 업무가 쉬워졌다[써보니] 기자가 이동 중에 취재 아이템을 정리하거나 기사를 쓰고 고쳐야 할 상황은 흔하다. 한때는 반드시 노트북을 꺼내고 사내 시스템에 접속해야 했지만, 요즘은 스마트폰으로 많은 작업이 가능해졌다. 덕분에 만원 지하철에서 내려 승강장 의자에 앉아 노트북을 펼쳐야 하는 상황은 줄었다. 하지만 비교적 화면이 작은 스마트폰으로 자료를 찾고 긴 문장을 입력하는 일은 여전히 경향신문 2분 전-https://v.daum.net/v/20250730151004395\n",
      "2. 알츠하이머 조기 진단 ‘간단하게’…극미량 체액검사로 진단 디지털타임스 2분 전-https://v.daum.net/v/20250730150926357\n",
      "3. 커지는 미디어부처 개편 목소리…\"파편화 시대 끝내야\" 뉴시스 6분 전-https://v.daum.net/v/20250730150543209\n",
      "4. 표준연, 지자체와 힘 합쳐 기업 QX 견인...사업 1년 만에 성과 창출 전자신문 8분 전-https://v.daum.net/v/20250730150404152\n",
      "5. '호기로운 출격' 엑시노스2500, 평가는 '쓴맛'…스냅드래곤에 참패 머니투데이 11분 전-https://v.daum.net/v/20250730150056007\n",
      "6. K- AI 국대만 있나? 우리도 있다… 테크기업-대학 손잡고 산업난제 해결 도전 한국일보 14분 전-https://v.daum.net/v/20250730145746860\n",
      "7. 美 동부도 찜통더위…기후지도로 직접 확인했더니 지디넷코리아 15분 전-https://v.daum.net/v/20250730145656811\n",
      "8. “20명이 하던 일 1명이 뚝딱”…질병 진단업계 ‘자동화’ 경쟁 매일경제 21분 전-https://v.daum.net/v/20250730145101561\n",
      "9. 사람마다 다른 車 보험료...절감하는 방법은? IT동아 36분 전-https://v.daum.net/v/20250730143605893\n"
     ]
    }
   ],
   "source": [
    "import requests\n",
    "from bs4 import BeautifulSoup\n",
    "\n",
    "url = \"https://news.daum.net/tech\"\n",
    "\n",
    "headers = {   # 로봇이 아니라고 속이는 객체\n",
    "    \"user-Agent\" : \"Mozilla/5.0 (Windows NT 10.0; Win64; x64) AppleWebKit/537.36 (KHTML, like Gecko) Chrome/138.0.0.0 Safari/537.36 Edg/138.0.0.0\"   \n",
    "    # 콘솔 -> window.navigator.userAgent\n",
    "}\n",
    "\n",
    "res = requests.get(url, headers)\n",
    "# res.encoding = \"utf-8\"\n",
    "soup = BeautifulSoup(res.content, \"html.parser\")\n",
    "\n",
    "articles = soup.select(\"ul.list_newsheadline2 li a.item_newsheadline2\")\n",
    "\n",
    "for i, article in enumerate(articles, 1) :\n",
    "    title = article.text.strip()\n",
    "    link = article.get(\"href\")\n",
    "    print(f\"{i}. {title}-{link}\")"
   ]
  },
  {
   "cell_type": "markdown",
   "id": "fefed91e-94be-4f46-a107-30287474bea6",
   "metadata": {},
   "source": [
    "#### 3. YES24의 경제 베스트셀러 1~10위 도서 제목과 저자를 수집하세요"
   ]
  },
  {
   "cell_type": "code",
   "execution_count": 36,
   "id": "f48aea50-3bbc-45af-8aee-472fee9e237f",
   "metadata": {},
   "outputs": [
    {
     "name": "stdout",
     "output_type": "stream",
     "text": [
      "1. 자본주의 - 저자 : EBS 〈자본주의〉제작팀, 정지은, 고희정 저/EBS MEDIA 기획\n",
      "2. 생각에 관한 생각 - 저자 : 대니얼 카너먼 저/이창신 역\n",
      "3. 더 그레이트 비트코인 - 저자 : 오태민 저\n",
      "4. 부의 추월차선 (10주년 스페셜 에디션) - 저자 : 엠제이 드마코 저/신소영 역\n",
      "5. 레버리지 - 저자 : 롭 무어 저/김유미 역\n",
      "6. 달러는 왜 비트코인을 싫어하는가 - 저자 : 사이페딘 아모스 저/위대선 역\n",
      "7. 넛지: 파이널 에디션 - 저자 : 리처드 탈러, 캐스 선스타인 저/이경식 역/최정규 감수\n",
      "8. 시대예보: 핵개인의 시대 - 저자 : 송길영 저\n",
      "9. 일할 사람이 사라진다 - 저자 : 이철희 저\n",
      "10. 경제신문이 말하지 않는 경제 이야기 - 저자 : 임주영 저\n"
     ]
    }
   ],
   "source": [
    "import requests\n",
    "from bs4 import BeautifulSoup\n",
    "\n",
    "url = \"https://www.yes24.com/product/category/steadyseller?pageNumber=1&pageSize=24&categoryNumber=001001025007\"\n",
    "\n",
    "headers = {\n",
    "     \"user-Agent\" : \"Mozilla/5.0 (Windows NT 10.0; Win64; x64) AppleWebKit/537.36 (KHTML, like Gecko) Chrome/138.0.0.0 Safari/537.36 Edg/138.0.0.0\"   \n",
    "}\n",
    "\n",
    "res = requests.get(url,headers)\n",
    "soup = BeautifulSoup(res.text, \"html.parser\")\n",
    "\n",
    "books = soup.select(\"ul#yesBestList > li\")\n",
    "\n",
    "for i, book in enumerate(books[:10], 1) :\n",
    "    title_tag = book.select_one(\"div.info_row.info_name a.gd_name\")\n",
    "    author_tag = book.select_one(\"span.authPub.info_auth\")\n",
    "\n",
    "    if title_tag and author_tag :\n",
    "        title = title_tag.text.strip()\n",
    "        author = author_tag.text.strip()\n",
    "    print(f\"{i}. {title} - 저자 : {author}\")"
   ]
  },
  {
   "cell_type": "markdown",
   "id": "f63d6fb1-eaaa-4b42-b941-b5c554cc8427",
   "metadata": {},
   "source": [
    "#### 4. 기상청 날씨 페이지에서 오늘의 전국 날씨 요약을 추출하세요"
   ]
  },
  {
   "cell_type": "code",
   "execution_count": 38,
   "id": "a50cf3f4-48de-479f-b54d-b41edbcde7c8",
   "metadata": {},
   "outputs": [
    {
     "name": "stdout",
     "output_type": "stream",
     "text": [
      "오늘의 전국 날씨 요약 : \n",
      "□  (종합) 당분간 무더위와 열대야 주의, 전남해안과 경남남해안, 제주도해안 너울 유의\n"
     ]
    }
   ],
   "source": [
    "import requests\n",
    "from bs4 import BeautifulSoup\n",
    "\n",
    "url = \"https://www.weather.go.kr/w/weather/forecast/short-term.do\"   # 파라미터\n",
    "\n",
    "headers = {\n",
    "    \"user-Agent\" : \"Mozilla/5.0 (Windows NT 10.0; Win64; x64) AppleWebKit/537.36 (KHTML, like Gecko) Chrome/138.0.0.0 Safari/537.36 Edg/138.0.0.0\"\n",
    "}\n",
    "\n",
    "res = requests.get(url,headers)\n",
    "soup = BeautifulSoup(res.text, \"html.parser\")\n",
    "\n",
    "summary_tag = soup.select_one(\"div.cmp-view-content > p.summary > span.depth_1\")\n",
    "\n",
    "if summary_tag : \n",
    "    print(\"오늘의 전국 날씨 요약 : \")\n",
    "    print(summary_tag.text.strip())\n",
    "else : \n",
    "    print(\"날씨 요약 정보를 찾을 수 없습니다\")"
   ]
  },
  {
   "cell_type": "markdown",
   "id": "f91b1bb2-d907-4fab-8d2d-100fe5e7e043",
   "metadata": {},
   "source": [
    "#### 5. 잡코리아에서 '데이터 분석가'직무 공고 제목 20개를 수집하세요"
   ]
  },
  {
   "cell_type": "code",
   "execution_count": 4,
   "id": "4e7c67dc-2e24-4161-8e36-9513a4b8e002",
   "metadata": {},
   "outputs": [
    {
     "name": "stdout",
     "output_type": "stream",
     "text": [
      "1.데이터 분석가 (경력)\n",
      "2.데이터 분석가\n",
      "3.[CVS] 데이터 분석가(Business Analyst)\n",
      "4.[쿡앱스] 게임 데이터 분석가 모집\n",
      "5.[기어세컨드] 데이터 분석가 채용\n",
      "6.데이터 애널리스트 / 데이터분석 전문가 / 통계 전문가 / Data Analyst (통\n",
      "7.Data Analyst (데이터 분석가)\n",
      "8.[CVS] 데이터 분석가 1년 인턴 (Business Analyst Intern)\n",
      "9.[인텔리전스랩스그룹] 데이터 분석가 (인게임 로그 및 비즈니스 인사이트 분석)\n",
      "10.데이터 분석가(신입/경력)\n",
      "11.공공데이터 품질 관리와 진단, 데이터 분석가\n",
      "12.[다우키움 계열사] 데이터 분석가 (경력)\n",
      "13.[통계팀] 데이터 분석가 모집\n",
      "14.[커머스플랫폼팀] 데이터 분석 전문가 (Senior Data Analyst) 모집\n",
      "15.[디저트39] 데이터 분석가(Data Analyst)/데이터 분석 엔지니어 팀장급\n",
      "16.데이터분석가 구인\n",
      "17.[어니컴(주)] 데이터분석가 신입/경력 모집\n",
      "18.[(중급이상/ 경력직)] 빅데이터 전문가를 모십니다\n",
      "19.데이터분석가 채용(경력)\n",
      "20.[리비바이오] 데이터분석가\n"
     ]
    }
   ],
   "source": [
    "import requests\n",
    "from bs4 import BeautifulSoup\n",
    "\n",
    "query = \"데이터 분석가\"\n",
    "url = f\"https://www.jobkorea.co.kr/Search/?stext={query}\"\n",
    "\n",
    "header = {\n",
    "    \"user-Agent\" : \"Mozilla/5.0 (Windows NT 10.0; Win64; x64) AppleWebKit/537.36 (KHTML, like Gecko) Chrome/138.0.0.0 Safari/537.36 Edg/138.0.0.0\"\n",
    "}\n",
    "\n",
    "res = requests.get(url, headers=header)\n",
    "soup = BeautifulSoup(res.text, \"html.parser\")\n",
    "\n",
    "titles = soup.select(\"div.styles_mb_space8__dk46ts1p a.sn28bt0\")\n",
    "\n",
    "for i, title in enumerate(titles[:20], 1) :\n",
    "    print(f\"{i}.{title.text.strip()}\")\n",
    "                    "
   ]
  },
  {
   "cell_type": "markdown",
   "id": "c549f769-9be1-46af-9545-1bd893f297cf",
   "metadata": {},
   "source": [
    "#### 6. 잡코리아에서 '데이터 분석가' 직무 공고 제목을 수집하세요\n",
    "- 셀레니움 코드로 크롤링하기\n",
    "- 6개 페이지 > 서울지역 > 경력 1~3년차만 크롤링 해오기\n",
    "- 엑셀로 출력 (해당 공고 타이틀과 지원할 수 있는 URL링크)"
   ]
  },
  {
   "cell_type": "code",
   "execution_count": 8,
   "id": "ddb41a5e-8b6b-4ff4-8455-c3d2559b80ee",
   "metadata": {},
   "outputs": [
    {
     "name": "stdout",
     "output_type": "stream",
     "text": [
      "Defaulting to user installation because normal site-packages is not writeable\n",
      "Requirement already satisfied: pandas in c:\\programdata\\anaconda3\\lib\\site-packages (2.2.3)\n",
      "Requirement already satisfied: numpy>=1.26.0 in c:\\programdata\\anaconda3\\lib\\site-packages (from pandas) (2.1.3)\n",
      "Requirement already satisfied: python-dateutil>=2.8.2 in c:\\programdata\\anaconda3\\lib\\site-packages (from pandas) (2.9.0.post0)\n",
      "Requirement already satisfied: pytz>=2020.1 in c:\\programdata\\anaconda3\\lib\\site-packages (from pandas) (2024.1)\n",
      "Requirement already satisfied: tzdata>=2022.7 in c:\\programdata\\anaconda3\\lib\\site-packages (from pandas) (2025.2)\n",
      "Requirement already satisfied: six>=1.5 in c:\\programdata\\anaconda3\\lib\\site-packages (from python-dateutil>=2.8.2->pandas) (1.17.0)\n",
      "Note: you may need to restart the kernel to use updated packages.\n"
     ]
    }
   ],
   "source": [
    "pip install pandas"
   ]
  },
  {
   "cell_type": "code",
   "execution_count": 19,
   "id": "ac7d2e5a-1a9d-45c5-8007-92fc54a4a958",
   "metadata": {},
   "outputs": [
    {
     "name": "stdout",
     "output_type": "stream",
     "text": [
      "엑셀 저장완료\n"
     ]
    }
   ],
   "source": [
    "from selenium import webdriver\n",
    "from selenium.webdriver.chrome.service import Service\n",
    "from selenium.webdriver.chrome.options import Options\n",
    "from selenium.webdriver.common.by import By\n",
    "from webdriver_manager.chrome import ChromeDriverManager\n",
    "import time\n",
    "import urllib.parse\n",
    "import pandas as pd\n",
    "\n",
    "service = Service(ChromeDriverManager().install())\n",
    "\n",
    "options = Options()\n",
    "options.add_argument(\"--headless\")\n",
    "options.add_argument(\"--window-size=1920x1080\")\n",
    "options.add_argument(\"--start-maximized\")\n",
    "options.add_argument(\"user-agent=Mozilla/5.0 (Windows NT 10.0; Win64; x64) AppleWebKit/537.36 (KHTML, like Gecko) Chrome/138.0.0.0 Safari/537.36 Edg/138.0.0.0\")\n",
    "options.add_argument(\"lang=ko-KR\")\n",
    "\n",
    "driver = webdriver.Chrome(service=service, options=options)\n",
    "\n",
    "query = \"데이터 분석가\"\n",
    "encoded_query = urllib.parse.quote(query)\n",
    "\n",
    "max_pages = 6\n",
    "\n",
    "results = []\n",
    "\n",
    "for page in range(1, max_pages + 1) :\n",
    "    url = f\"https://www.jobkorea.co.kr/Search?stext={encoded_query}&careerType=1&tabType=recruit&Page_No={page}&local=I000\"\n",
    "    driver.get(url)\n",
    "    time.sleep(2)\n",
    "\n",
    "    job_posts = driver.find_elements(By.CSS_SELECTOR, \".styles_mb_space8__dk46ts1p\")\n",
    "    for post in job_posts :\n",
    "        try :\n",
    "            title_elem = post.find_element(By.CSS_SELECTOR, \".sn28bt0\")\n",
    "            title = title_elem.text.strip()\n",
    "            link = title_elem.get_attribute(\"href\")\n",
    "            results.append({\n",
    "                \"제목\" : title,\n",
    "                \"지원링크\" : link\n",
    "            })\n",
    "        except :\n",
    "            continue\n",
    "driver.quit()\n",
    "\n",
    "df = pd.DataFrame(results)\n",
    "df.to_excel(\"잡코리아_데이터분석가_서울_신입_3페이지.xlsx\", index=False)\n",
    "print(\"엑셀 저장완료\")"
   ]
  }
 ],
 "metadata": {
  "kernelspec": {
   "display_name": "Python [conda env:anaconda3]",
   "language": "python",
   "name": "conda-env-anaconda3-py"
  },
  "language_info": {
   "codemirror_mode": {
    "name": "ipython",
    "version": 3
   },
   "file_extension": ".py",
   "mimetype": "text/x-python",
   "name": "python",
   "nbconvert_exporter": "python",
   "pygments_lexer": "ipython3",
   "version": "3.13.5"
  }
 },
 "nbformat": 4,
 "nbformat_minor": 5
}
