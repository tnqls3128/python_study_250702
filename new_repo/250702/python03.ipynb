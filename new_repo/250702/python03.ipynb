{
 "cells": [
  {
   "cell_type": "markdown",
   "id": "7508569c-bc1c-4266-9c47-ed0ac66d5de1",
   "metadata": {},
   "source": [
    "#### 조건문\n",
    "```\n",
    "if 조건 : \n",
    "    실행문\n",
    "if 조건1 and 조건2 :  # 두 조건 모두 참일 때 실행\n",
    "    실행문\n",
    "if 조건1 or 조건2 :   # 둘 중 하나라도 참이면 실행\n",
    "    실행문\n",
    "if not 조건 :   # 조건이 false일 때 실행 (참이면 X)\n",
    "    실행문\n",
    "```\n",
    "\n",
    "```\n",
    "if 조건 :\n",
    "    실행문\n",
    "else :\n",
    "    실행문\n",
    "```"
   ]
  },
  {
   "cell_type": "code",
   "execution_count": 8,
   "id": "80d2df5b-4577-4442-a0ea-45675fb4903d",
   "metadata": {},
   "outputs": [
    {
     "name": "stdin",
     "output_type": "stream",
     "text": [
      "당신의 나이는? 28\n"
     ]
    },
    {
     "name": "stdout",
     "output_type": "stream",
     "text": [
      "당신은 성인입니다\n",
      "축하드립니다\n",
      "이제부터 인생은 시작입니다\n",
      "무엇이든 할 수 있습니다\n",
      "응원합니다\n"
     ]
    }
   ],
   "source": [
    "age = int(input(\"당신의 나이는?\"))\n",
    "\n",
    "if age >= 19 :\n",
    "    print(\"당신은 성인입니다\")\n",
    "    print(\"축하드립니다\")\n",
    "    print(\"이제부터 인생은 시작입니다\")\n",
    "    print(\"무엇이든 할 수 있습니다\")\n",
    "    print(\"응원합니다\")"
   ]
  },
  {
   "cell_type": "code",
   "execution_count": 14,
   "id": "a1c75e81-553b-40ba-857a-d396822a75eb",
   "metadata": {},
   "outputs": [
    {
     "name": "stdin",
     "output_type": "stream",
     "text": [
      "인성이의 나이는? 20\n",
      "지섭이의 나이는? 18\n"
     ]
    },
    {
     "name": "stdout",
     "output_type": "stream",
     "text": [
      "영화관 입장 가능\n"
     ]
    }
   ],
   "source": [
    "age1 = int(input(\"인성이의 나이는?\"))\n",
    "age2 = int(input(\"지섭이의 나이는?\"))\n",
    "\n",
    "#둘 다 19세 이상이여야 영화관 입장 가능\n",
    "if age1 >= 19 and age2 >= 19 :\n",
    "           print(\"영화관 입장 가능\")\n",
    "\n",
    "# 둘 중 1명이라도 20살 이상이면 영화관 입장 가능\n",
    "if age1 >= 19 or age2 >= 19 :\n",
    "           print(\"영화관 입장 가능\")"
   ]
  },
  {
   "cell_type": "code",
   "execution_count": null,
   "id": "0cee59c3-e96a-4a65-b6e8-7325dda5b641",
   "metadata": {},
   "outputs": [],
   "source": [
    "age3 = int(input(\"승원이의 나이는?\"))\n",
    "\n",
    "if not age3 <= 19 :\n",
    "    print(\"영화관 입장 가능!\")"
   ]
  },
  {
   "cell_type": "code",
   "execution_count": 16,
   "id": "150d617e-7738-41d6-9f29-a0ab22b09133",
   "metadata": {},
   "outputs": [
    {
     "name": "stdin",
     "output_type": "stream",
     "text": [
      "현재 가지고 있는 현금은 얼마인가요? 40000\n"
     ]
    },
    {
     "name": "stdout",
     "output_type": "stream",
     "text": [
      "오늘 저녁은 집에서\n"
     ]
    }
   ],
   "source": [
    "cash = int(input(\"현재 가지고 있는 현금은 얼마인가요?\"))\n",
    "\n",
    "if cash > 100000 :\n",
    "    print(\"오늘 저녁은 VIPS\")\n",
    "else :\n",
    "    print(\"오늘 저녁은 집에서\")"
   ]
  },
  {
   "cell_type": "markdown",
   "id": "8361e070-f5da-4fd3-9361-6cff724fcb4b",
   "metadata": {},
   "source": [
    "- 사용자로부터 나이를 입력받아서, 나이가 19세 이상이면 \"당신은 성인입니다\" 출력, 19세 미만이라고 한다면 \"당신은 청소년입니다\"출력"
   ]
  },
  {
   "cell_type": "code",
   "execution_count": 21,
   "id": "23c48ad9-3ddb-4be2-89ca-32350bcf0168",
   "metadata": {},
   "outputs": [
    {
     "name": "stdin",
     "output_type": "stream",
     "text": [
      "당신의 나이는 몇살인가요? 18\n"
     ]
    },
    {
     "name": "stdout",
     "output_type": "stream",
     "text": [
      "당신은 청소년입니다\n"
     ]
    }
   ],
   "source": [
    "userage = int(input(\"당신의 나이는 몇살인가요?\"))\n",
    "\n",
    "if userage >=19 :\n",
    "    print(\"당신은 성인입니다\")\n",
    "else :\n",
    "    print(\"당신은 청소년입니다\")"
   ]
  },
  {
   "cell_type": "markdown",
   "id": "b6223795-dcca-4261-bcdb-f244fffabc5a",
   "metadata": {},
   "source": [
    "- 사용자로부터 나이를 입력받아서 나이가 19세 이상이면 당신은 성인입니다, 13세 이상 19세 미만이면 당신은 청소년 입니다, 13세 미만 5세 이상은 당신은 아동입니다 "
   ]
  },
  {
   "cell_type": "markdown",
   "id": "0b2b0388-a5ca-4286-ab8a-4ff61de6a2db",
   "metadata": {},
   "source": [
    "#### else문 유의사항\n",
    "- else는 어떤 조건문 안에서 1회만 사용 가능\n",
    "- else문 조건문 중간에 절대 입력 불가\n",
    "- else문 독립적으로 조건식 받을 수 없음\n",
    "- else문은 조건문 내 반드시 작성해야하는 필수값은 아님"
   ]
  },
  {
   "cell_type": "code",
   "execution_count": 37,
   "id": "ecab880d-3c5d-4b09-954e-dddd2ed7369e",
   "metadata": {},
   "outputs": [
    {
     "name": "stdin",
     "output_type": "stream",
     "text": [
      "당신의나이는? 5\n"
     ]
    },
    {
     "name": "stdout",
     "output_type": "stream",
     "text": [
      "당신은 아동입니다\n"
     ]
    }
   ],
   "source": [
    "userAge02 = int(input(\"당신의나이는?\"))\n",
    "\n",
    "if userAge02 >= 19 :\n",
    "    print(\"당신은 성인입니다\")\n",
    "elif 13 <= userAge02 < 19 :\n",
    "    print(\"당신은 청소년입니다\")\n",
    "elif 13 > userAge02 >= 5 :\n",
    "    print(\"당신은 아동입니다\")\n",
    "\n",
    "#else 는 한번만 사용, 중간에 사용X\n",
    "#elif = else if 약자"
   ]
  },
  {
   "cell_type": "markdown",
   "id": "77a2786f-3137-4369-a0e2-0c4d8995a202",
   "metadata": {},
   "source": [
    "- 사용자로부터 현재 현금이 얼마인지 확인 후 10만원 이상이면 레스토랑으로 갑시다 출력, 그렇지 않은 경우 만약 5만원 이상이라면 뷔페로 갑시다 출력, 5만원 미만이라면 집으로 가세요 출력"
   ]
  },
  {
   "cell_type": "code",
   "execution_count": 46,
   "id": "4aef3f2a-c57d-457d-923a-fc75190d090d",
   "metadata": {},
   "outputs": [
    {
     "name": "stdin",
     "output_type": "stream",
     "text": [
      "현금이 얼마있습니까? 70000\n"
     ]
    },
    {
     "name": "stdout",
     "output_type": "stream",
     "text": [
      "뷔페로 갑시다\n"
     ]
    }
   ],
   "source": [
    "userCash01 = int(input(\"현금이 얼마있습니까?\"))\n",
    "\n",
    "if userCash01 >= 100000 :\n",
    "     print(\"레스토랑으로 갑시다\")\n",
    "else :\n",
    "    if userCash01 >= 50000 :\n",
    "        print(\"뷔페로 갑시다\")\n",
    "    else :\n",
    "        print(\"집으로가세요\")"
   ]
  },
  {
   "cell_type": "markdown",
   "id": "79e773bb-c8d6-41fb-9fc0-e51dfe84e3d4",
   "metadata": {},
   "source": [
    "- 사용자로부터 얼마의 현금이 있는지 확인 후 10만원 초과인 경우 레스토랑 출력, 그렇지 않은 경우 만약 5만원 미만인 경우 집 출력, 7만원 초과인경우 패밀리레스토랑 출력, 6만원 초과인경우 한식집 출력, 그렇지 않으면 분식집 출력"
   ]
  },
  {
   "cell_type": "code",
   "execution_count": 68,
   "id": "7c24726d-4c44-4f97-a44b-b5ae1bfc8ef9",
   "metadata": {},
   "outputs": [
    {
     "name": "stdin",
     "output_type": "stream",
     "text": [
      "현금이 얼마 있습니까? 50000\n"
     ]
    },
    {
     "name": "stdout",
     "output_type": "stream",
     "text": [
      "집\n"
     ]
    }
   ],
   "source": [
    "userCash02 = int(input(\"현금이 얼마 있습니까?\"))\n",
    "\n",
    "if userCash02 > 100000 :\n",
    "    print(\"레스토랑\")\n",
    "elif 70000 < userCash02 <= 100000 :\n",
    "    print(\"한식집\")\n",
    "elif 50000 < userCash02 <= 70000 : \n",
    "    print(\"분식집\")\n",
    "else :\n",
    "    print(\"집\")\n",
    "\n",
    "# 챗 GPT"
   ]
  },
  {
   "cell_type": "code",
   "execution_count": 64,
   "id": "3840b7b3-a1f4-428b-9639-9677d14e1388",
   "metadata": {},
   "outputs": [
    {
     "name": "stdin",
     "output_type": "stream",
     "text": [
      "현금이 얼마 있습니까? 50000\n"
     ]
    },
    {
     "name": "stdout",
     "output_type": "stream",
     "text": [
      "분식집\n"
     ]
    }
   ],
   "source": [
    "userCash02 = int(input(\"현금이 얼마 있습니까?\"))\n",
    "\n",
    "if userCash02 > 100000 :\n",
    "    print(\"레스토랑\")\n",
    "else :\n",
    "    if userCash02 >= 50000 :\n",
    "        if userCash02 > 70000 :\n",
    "            print(\"패밀리레스토랑\")\n",
    "        elif userCash02 > 60000 :\n",
    "            print(\"한식집\")\n",
    "        else :\n",
    "            print(\"분식집\")\n",
    "    else :\n",
    "        print(\"집\")"
   ]
  },
  {
   "cell_type": "markdown",
   "id": "67f24b67-6811-4e5d-b4b8-24308a89d16f",
   "metadata": {},
   "source": [
    "- 사용자로부터 특정 숫자를 입력받은 후 해당 숫자가 홀수 인지 짝수 인지 분별해서 출력해주세요"
   ]
  },
  {
   "cell_type": "code",
   "execution_count": 93,
   "id": "a04e56e5-177c-46b7-9583-7d9980904a0a",
   "metadata": {},
   "outputs": [
    {
     "name": "stdin",
     "output_type": "stream",
     "text": [
      " 5\n"
     ]
    },
    {
     "name": "stdout",
     "output_type": "stream",
     "text": [
      "홀수\n"
     ]
    }
   ],
   "source": [
    "num = int(input())\n",
    "\n",
    "if num % 2 == 0 :\n",
    "    print(\"짝수\")\n",
    "else :\n",
    "    print(\"홀수\")"
   ]
  },
  {
   "cell_type": "markdown",
   "id": "3111745c-c922-4949-8517-aeebe37b6c2b",
   "metadata": {},
   "source": [
    "- 사용자로부터 3개의 숫자를 입력받은 후 그 중 가장 작은 숫자를 출력해주세요"
   ]
  },
  {
   "cell_type": "code",
   "execution_count": 94,
   "id": "0d3c1697-387a-4405-b119-14331b759a52",
   "metadata": {},
   "outputs": [
    {
     "name": "stdin",
     "output_type": "stream",
     "text": [
      " 5\n",
      " 2\n",
      " 7\n"
     ]
    },
    {
     "name": "stdout",
     "output_type": "stream",
     "text": [
      "2\n"
     ]
    }
   ],
   "source": [
    "num1 = int(input())\n",
    "num2 = int(input())\n",
    "num3 = int(input())\n",
    "\n",
    "if num1 <= num2 and num1 <= num3 :\n",
    "    print(num1)\n",
    "elif num2 <= num1 and num2 <= num3 :\n",
    "    print(num2)\n",
    "elif num3 <= num1 and num3 <= num2 :\n",
    "    print(num3)"
   ]
  },
  {
   "cell_type": "code",
   "execution_count": 95,
   "id": "ea51a7a7-f1bc-428b-84d9-9a648ff7be6d",
   "metadata": {},
   "outputs": [
    {
     "name": "stdin",
     "output_type": "stream",
     "text": [
      " 5\n",
      " 10\n",
      " 9\n"
     ]
    },
    {
     "data": {
      "text/plain": [
       "5"
      ]
     },
     "execution_count": 95,
     "metadata": {},
     "output_type": "execute_result"
    }
   ],
   "source": [
    "num1 = int(input())\n",
    "num2 = int(input())\n",
    "num3 = int(input())\n",
    "\n",
    "min(num1, num2, num3)"
   ]
  },
  {
   "cell_type": "code",
   "execution_count": 97,
   "id": "d63976c8-91db-4414-8c2b-ca1c2b7363a5",
   "metadata": {},
   "outputs": [
    {
     "name": "stdin",
     "output_type": "stream",
     "text": [
      " 15\n",
      " 1\n",
      " 2\n"
     ]
    },
    {
     "data": {
      "text/plain": [
       "1"
      ]
     },
     "execution_count": 97,
     "metadata": {},
     "output_type": "execute_result"
    }
   ],
   "source": [
    "nums = [int(input()) for _ in range(3)]\n",
    "min(nums)"
   ]
  }
 ],
 "metadata": {
  "kernelspec": {
   "display_name": "Python [conda env:anaconda3]",
   "language": "python",
   "name": "conda-env-anaconda3-py"
  },
  "language_info": {
   "codemirror_mode": {
    "name": "ipython",
    "version": 3
   },
   "file_extension": ".py",
   "mimetype": "text/x-python",
   "name": "python",
   "nbconvert_exporter": "python",
   "pygments_lexer": "ipython3",
   "version": "3.13.5"
  }
 },
 "nbformat": 4,
 "nbformat_minor": 5
}
