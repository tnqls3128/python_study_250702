{
 "cells": [
  {
   "cell_type": "markdown",
   "id": "a58340a4-06f4-4f7a-ab89-3928ee50e79c",
   "metadata": {},
   "source": [
    "#### 파이썬을 활용한 크롤링 방법론\n",
    "1. html문서 구조 파악\n",
    "- 태그들이 주로 반복사용되는 경우\n",
    "- find() // find_all()\n",
    "2. CSS Selector (*선택자) 활용\n",
    "- html 내 태그 혹은 클래스, 아이디 요소를 css파일에서 선택해서 무언가를 하고자 할 때 명칭 -> 선택자\n",
    "- select() => 기본적으로 class속성을 가지고 있는 선택자들을 찾아와서 반복문을 사용하고 싶은 경우\n",
    "- select_one() => id속성과 같이 문서상에 한번밖에 사용을 하지 못하는 경우에 크롤링 하고 싶을 때\n",
    "- ul > li(선택자 영역에서만 사용가능) // li"
   ]
  },
  {
   "cell_type": "code",
   "execution_count": 14,
   "id": "80e25637-5ae7-4d56-99d3-105a3164c96d",
   "metadata": {},
   "outputs": [
    {
     "name": "stdout",
     "output_type": "stream",
     "text": [
      "1 나만의엣지있는블로그사이트만들기\n",
      "2 당신의커리어에파이썬을입히세요!자신만의자동프로그램까지가져가는특별한강의\n"
     ]
    }
   ],
   "source": [
    "import requests\n",
    "from bs4 import BeautifulSoup\n",
    "\n",
    "res = requests.get(\"https://crawlingtest.netlify.app/#\")\n",
    "soup = BeautifulSoup(res.content, \"html.parser\")\n",
    "\n",
    "items = soup.select(\"h3\")\n",
    "\n",
    "for index, item in enumerate(items) :\n",
    "    text = item.get_text().strip().replace(\" \", \"\").replace(\"\\n\", \"\")\n",
    "    print(index+1, text)"
   ]
  },
  {
   "cell_type": "code",
   "execution_count": 15,
   "id": "c47db8ee-58eb-412a-9114-8bc0d0104e15",
   "metadata": {},
   "outputs": [
    {
     "data": {
      "text/plain": [
       "[<h1>메가스터디 크롤링 테스트 페이지</h1>]"
      ]
     },
     "execution_count": 15,
     "metadata": {},
     "output_type": "execute_result"
    }
   ],
   "source": [
    "import requests\n",
    "from bs4 import BeautifulSoup\n",
    "\n",
    "res = requests.get(\"https://crawlingtest.netlify.app/#\")\n",
    "soup = BeautifulSoup(res.content, \"html.parser\")\n",
    "\n",
    "items = soup.select(\"body > h1\")\n",
    "items"
   ]
  },
  {
   "cell_type": "code",
   "execution_count": 19,
   "id": "71b2e8d4-348b-4c89-9b96-15e2b9835bfa",
   "metadata": {},
   "outputs": [
    {
     "name": "stdout",
     "output_type": "stream",
     "text": [
      "<li class=\"course\">\n",
      "<a href=\"#\">(왕초보) - 클래스 소개</a>\n",
      "</li>\n",
      "<li class=\"course\">\n",
      "<a href=\"#\">(왕초보) - 블로그 개발 필요한 준비물 준비하기</a>\n",
      "</li>\n",
      "<li class=\"course\">\n",
      "<a href=\"#\">(왕초보) - Github pages 설정해서 블로그 첫 페이지 만들어보기</a>\n",
      "</li>\n",
      "<li class=\"course\">\n",
      "<a href=\"#\">(왕초보) - 초간단 페이지 만들어보기</a>\n",
      "</li>\n",
      "<li class=\"course\">\n",
      "<a href=\"#\">(왕초보) - 이쁘게 테마 적용해보기</a>\n",
      "</li>\n",
      "<li class=\"course\">\n",
      "<a href=\"#\">(왕초보) - 마크다운 기초 이해하고, 실제 나만의 블로그 페이지\n",
      "          만들기</a>\n",
      "</li>\n",
      "<li class=\"course\">\n",
      "<a href=\"#\">(왕초보) - 다양한 마크다운 기법 익혀보며, 나만의 블로그 페이지\n",
      "          꾸며보기</a>\n",
      "</li>\n",
      "<li class=\"course\">\n",
      "<a href=\"#\">(초급) - 강사가 실제 사용하는 자동 프로그램 소개 [2]</a>\n",
      "</li>\n",
      "<li class=\"course\">\n",
      "<a href=\"#\">(초급) - 필요한 프로그램 설치 시연 [5]</a>\n",
      "</li>\n",
      "<li class=\"course\">\n",
      "<a href=\"#\">(초급) - 데이터를 엑셀 파일로 만들기 [9]</a>\n",
      "</li>\n",
      "<li class=\"course\">\n",
      "<a href=\"#\">(초급) -     엑셀 파일 이쁘게! 이쁘게! [8]</a>\n",
      "</li>\n",
      "<li class=\"course\">\n",
      "<a href=\"#\">(초급) -     나대신 주기적으로 파이썬 프로그램\n",
      "          실행하기 [7]</a>\n",
      "</li>\n",
      "<li class=\"course\">\n",
      "<a href=\"#\">(초급) - 파이썬으로 슬랙(slack) 메신저에 글쓰기 [40]</a>\n",
      "</li>\n",
      "<li class=\"course\">\n",
      "<a href=\"#\">(초급) - 웹사이트 변경사항 주기적으로 체크해서, 메신저로 알람주기\n",
      "          [12]</a>\n",
      "</li>\n",
      "<li class=\"course\">\n",
      "<a href=\"#\">(초급) - 네이버 API 사용해서, 블로그에 글쓰기 [42]</a>\n",
      "</li>\n",
      "<li class=\"course\">\n",
      "<a href=\"#\">(중급) - 자동으로 쿠팡파트너스 API 로 가져온 상품 정보, 네이버\n",
      "          블로그/트위터에 홍보하기 [412]</a>\n",
      "</li>\n"
     ]
    }
   ],
   "source": [
    "import requests\n",
    "from bs4 import BeautifulSoup\n",
    "\n",
    "res = requests.get(\"https://crawlingtest.netlify.app/#\")\n",
    "soup = BeautifulSoup(res.content, \"html.parser\")\n",
    "\n",
    "items = soup.select(\"ul > li\")\n",
    "for item in items :\n",
    "    print(item)"
   ]
  },
  {
   "cell_type": "code",
   "execution_count": 25,
   "id": "adcdd7da-dc35-416d-9921-5a3759581297",
   "metadata": {},
   "outputs": [
    {
     "data": {
      "text/plain": [
       "[<li class=\"course\">\n",
       " <a href=\"#\">(왕초보) - 클래스 소개</a>\n",
       " </li>,\n",
       " <li class=\"course\">\n",
       " <a href=\"#\">(왕초보) - 블로그 개발 필요한 준비물 준비하기</a>\n",
       " </li>,\n",
       " <li class=\"course\">\n",
       " <a href=\"#\">(왕초보) - Github pages 설정해서 블로그 첫 페이지 만들어보기</a>\n",
       " </li>,\n",
       " <li class=\"course\">\n",
       " <a href=\"#\">(왕초보) - 초간단 페이지 만들어보기</a>\n",
       " </li>,\n",
       " <li class=\"course\">\n",
       " <a href=\"#\">(왕초보) - 이쁘게 테마 적용해보기</a>\n",
       " </li>,\n",
       " <li class=\"course\">\n",
       " <a href=\"#\">(왕초보) - 마크다운 기초 이해하고, 실제 나만의 블로그 페이지\n",
       "           만들기</a>\n",
       " </li>,\n",
       " <li class=\"course\">\n",
       " <a href=\"#\">(왕초보) - 다양한 마크다운 기법 익혀보며, 나만의 블로그 페이지\n",
       "           꾸며보기</a>\n",
       " </li>]"
      ]
     },
     "execution_count": 25,
     "metadata": {},
     "output_type": "execute_result"
    }
   ],
   "source": [
    "import requests\n",
    "from bs4 import BeautifulSoup\n",
    "\n",
    "res = requests.get(\"https://crawlingtest.netlify.app/#\")\n",
    "soup = BeautifulSoup(res.content, \"html.parser\")\n",
    "\n",
    "# items = soup.select(\".course\")\n",
    "items =  soup.select(\"#hobby_course_list .course\")    \n",
    "# id가 hobby_course_list인 요소 내부에서 class가 coures인 모든 항목 <li>를 선택해 리스트로 저장\n",
    "items\n",
    "\n",
    "# for item in items :\n",
    "#     print(item.get_text())"
   ]
  },
  {
   "cell_type": "code",
   "execution_count": 40,
   "id": "609f90af-08a7-4629-b723-163ad86b6b01",
   "metadata": {},
   "outputs": [
    {
     "data": {
      "text/plain": [
       "[<li class=\"course\" id=\"specialad\">\n",
       " <a href=\"#\">(왕초보) - 클래스 소개</a>\n",
       " </li>]"
      ]
     },
     "execution_count": 40,
     "metadata": {},
     "output_type": "execute_result"
    }
   ],
   "source": [
    "import requests\n",
    "from bs4 import BeautifulSoup\n",
    "\n",
    "res = requests.get(\"https://crawlingtest.netlify.app/#\")\n",
    "soup = BeautifulSoup(res.content, \"html.parser\")\n",
    "\n",
    "# items = soup.select(\".course#specialad\")\n",
    "# items = soup.select(\".course.maintitle\")\n",
    "items = soup.select(\"body > #hobby_course_list > .course#specialad\")\n",
    "# body태그 > id가 hobby_course_list인 요소 > 그 안의 class가 course면서 id가 specialad인 요소 선택\n",
    "items"
   ]
  },
  {
   "cell_type": "code",
   "execution_count": 41,
   "id": "a9c10639-a67e-4e7a-8626-0138ea74634d",
   "metadata": {},
   "outputs": [
    {
     "data": {
      "text/plain": [
       "<li class=\"course\" id=\"specialad\">\n",
       "<a href=\"#\">(왕초보) - 클래스 소개</a>\n",
       "</li>"
      ]
     },
     "execution_count": 41,
     "metadata": {},
     "output_type": "execute_result"
    }
   ],
   "source": [
    "import requests\n",
    "from bs4 import BeautifulSoup\n",
    "\n",
    "res = requests.get(\"https://crawlingtest.netlify.app/#\")\n",
    "soup = BeautifulSoup(res.content, \"html.parser\")\n",
    "\n",
    "items = soup.select_one(\"#specialad\")\n",
    "items"
   ]
  },
  {
   "cell_type": "code",
   "execution_count": 55,
   "id": "9624980d-3461-430a-9a03-398f4d724550",
   "metadata": {},
   "outputs": [
    {
     "name": "stdout",
     "output_type": "stream",
     "text": [
      " 일정 / 커리큘럼 타이틀 / 난이도\n",
      " 5.1 ~ 6.15 / 나만의 엣지있는 블로그 사이트 만들기 (취미로 익히는 IT) / 초급\n",
      " 6.16 ~ 7.31 / 파이썬과 데이터과학 첫걸음 (IT 기본기 익히기) / 중급\n"
     ]
    }
   ],
   "source": [
    "import requests\n",
    "from bs4 import BeautifulSoup\n",
    "\n",
    "res = requests.get(\"https://crawlingtest.netlify.app/#\")\n",
    "soup = BeautifulSoup(res.content, \"html.parser\")\n",
    "\n",
    "trs = soup.select(\"tr\")\n",
    "\n",
    "# for tr in trs :\n",
    "#     tds = tr.select(\"td\")\n",
    "#     for td in tds :\n",
    "#         print(td.get_text())\n",
    "\n",
    "for tr in trs :\n",
    "    tds = tr.find_all(\"td\")\n",
    "    row_str = \"\"    # 각 행의 텍스트를 저장할 빈 문자열 초기화\n",
    "    for td in tds :\n",
    "        row_str += f\" / {td.get_text()}\"    # 각 셀의 텍스트 앞에 / 를 붙여서 누적\n",
    "    print(row_str[2: ])    # 맨 앞에 붙은 불필요한 / 제거하기 위해 인덱스2부터 출력"
   ]
  }
 ],
 "metadata": {
  "kernelspec": {
   "display_name": "Python [conda env:anaconda3]",
   "language": "python",
   "name": "conda-env-anaconda3-py"
  },
  "language_info": {
   "codemirror_mode": {
    "name": "ipython",
    "version": 3
   },
   "file_extension": ".py",
   "mimetype": "text/x-python",
   "name": "python",
   "nbconvert_exporter": "python",
   "pygments_lexer": "ipython3",
   "version": "3.13.5"
  }
 },
 "nbformat": 4,
 "nbformat_minor": 5
}
