{
 "cells": [
  {
   "cell_type": "markdown",
   "id": "ab9431e8-b72a-4d3e-957e-f3d9d8a89808",
   "metadata": {},
   "source": [
    "#### 1. 다음 사이트를 크롤링 할 수 있도록 bs4,requests를 활용해서 기본 세팅해주세요"
   ]
  },
  {
   "cell_type": "code",
   "execution_count": 5,
   "id": "a26aa8bb-3b87-4f0c-9c02-d9ca6086c26b",
   "metadata": {},
   "outputs": [],
   "source": [
    "import requests\n",
    "from bs4 import BeautifulSoup\n",
    "\n",
    "res = requests.get(\"https://davelee-fun.github.io/\")\n",
    "soup = BeautifulSoup(res.content, \"html.parser\")"
   ]
  },
  {
   "cell_type": "markdown",
   "id": "b2b21503-366e-4c4d-a2cf-d881ad5e8e44",
   "metadata": {},
   "source": [
    "#### 2. 현재 쇼핑몰 내 우측 상단 Blog, About 메뉴명을 크롤링해서 출력해주세요"
   ]
  },
  {
   "cell_type": "code",
   "execution_count": 9,
   "id": "5b8c4524-234c-4830-ad21-8f566dcbb53b",
   "metadata": {},
   "outputs": [
    {
     "name": "stdout",
     "output_type": "stream",
     "text": [
      "\n",
      "Blog\n",
      "\n",
      "\n",
      "About\n",
      "\n"
     ]
    }
   ],
   "source": [
    "import requests\n",
    "from bs4 import BeautifulSoup\n",
    "\n",
    "url = \"https://davelee-fun.github.io/\"\n",
    "\n",
    "res = requests.get(url)\n",
    "soup = BeautifulSoup(res.content, \"html.parser\")\n",
    "\n",
    "items = soup.select(\"li.nav-item\")\n",
    "\n",
    "for item in items :\n",
    "    print(item.get_text())"
   ]
  },
  {
   "cell_type": "markdown",
   "id": "efe01765-06ad-4f35-94c4-e7d276f2bbe8",
   "metadata": {},
   "source": [
    "#### 3. 현재 찾아온 메뉴명 중에서 가상클래스 active가 적용된 메뉴명만 출력해주세요"
   ]
  },
  {
   "cell_type": "code",
   "execution_count": 21,
   "id": "70df1f3d-7d2c-4d74-950a-363a68cb11a3",
   "metadata": {},
   "outputs": [
    {
     "name": "stdout",
     "output_type": "stream",
     "text": [
      "Blog\n"
     ]
    }
   ],
   "source": [
    "import requests\n",
    "from bs4 import BeautifulSoup\n",
    "\n",
    "url = \"https://davelee-fun.github.io/\"\n",
    "\n",
    "res = requests.get(url)\n",
    "soup = BeautifulSoup(res.content, \"html.parser\")\n",
    "\n",
    "# items = soup.select(\"li.nav-item.active\")\n",
    "item = soup.select_one(\"li.nav-item.active\")\n",
    "print(item.get_text().strip())\n",
    "\n",
    "# for item in items :\n",
    "#     print(item.get_text())"
   ]
  },
  {
   "cell_type": "markdown",
   "id": "43b2111a-ef7f-4d5e-9f4d-30a172095109",
   "metadata": {},
   "source": [
    "#### 4. 현재 사이트에서 sitetitle이라는 클래스 값을 가지고 있는 h1 태그 안 텍스트를 출력해주세요"
   ]
  },
  {
   "cell_type": "code",
   "execution_count": 26,
   "id": "90bde913-4bda-4121-b501-2c53dd8bf3fa",
   "metadata": {},
   "outputs": [
    {
     "name": "stdout",
     "output_type": "stream",
     "text": [
      "Teddy의 선물 블로그\n"
     ]
    }
   ],
   "source": [
    "item = soup.select_one(\"h1.sitetitle\")\n",
    "print(item.string)"
   ]
  },
  {
   "cell_type": "markdown",
   "id": "c2896178-e53a-4c6c-b131-3a20d94628aa",
   "metadata": {},
   "source": [
    "#### 5. 현재 사이트에서 \"선물하기 좋은 선물을 고르고 골라서 소개하는 블로그입니다\" 라는 서브타이틀을 찾아서 크롤링해서 출력해주세요"
   ]
  },
  {
   "cell_type": "code",
   "execution_count": 32,
   "id": "b8038ba6-fc8a-4993-8b0b-9db109d0fdf9",
   "metadata": {},
   "outputs": [
    {
     "name": "stdout",
     "output_type": "stream",
     "text": [
      "선물하기 좋은 선물을 고르고 골라서 소개하는 블로그입니다.\n"
     ]
    }
   ],
   "source": [
    "item = soup.select(\"p.lead\")\n",
    "print(item[0].get_text().strip())"
   ]
  },
  {
   "cell_type": "markdown",
   "id": "bfb6879f-6d0a-4a49-8410-3f28a525cacf",
   "metadata": {},
   "source": [
    "#### 6. 현재 사이트에서 Featured 카테고리에 속해있는 상품명만 가져와서 출력해주세요"
   ]
  },
  {
   "cell_type": "code",
   "execution_count": 45,
   "id": "0a739761-0832-45df-9a57-e11f0971fa14",
   "metadata": {},
   "outputs": [
    {
     "name": "stdout",
     "output_type": "stream",
     "text": [
      " 보몽드 순면스퀘어 솔리드 누빔매트커버, 다크블루\n",
      " 슈에뜨룸 선인장 리플 침구 세트, 베이지\n",
      " 선우랜드 레인보우 2단 문걸이용 옷걸이 _중형, 화이트, 상세페이지참조\n",
      " 보드래 헬로우 누빔 매트리스커버, 핑크\n",
      " 보드래 퍼펙트 누빔 매트리스커버, 차콜\n",
      " 피아블 클래식 방수 매트리스커버, 화이트\n",
      " 더자리 에코항균 마이크로 매트리스커버, 밀키차콜그레이\n",
      " 더자리 프레쉬 퓨어 매트리스 커버, 퓨어 차콜그레이\n",
      " 몽쉐어 알러스킨 항균 매트리스 커버, 카키그레이\n",
      " 쿠팡 브랜드 - 코멧 홈 40수 트윌 순면 100% 홑겹 매트리스커버, 그레이\n",
      " 패브릭아트 항균 마이크로 원단 매트리스 커버, 아이보리\n",
      " 바숨 순면 누빔 침대 매트리스커버, 차콜\n",
      " WEMAX 다용도 문옷걸이, 화이트, 1개\n",
      " 타카타카 프리미엄 나노 화이바 누빔 매트리스 커버, 젠틀핑핑\n",
      " 보몽드 순면스퀘어 누빔매트커버, 다크그레이\n",
      " 보드래 국내산 순면 60수 누빔 매트리스커버, 그레이\n"
     ]
    }
   ],
   "source": [
    "items = soup.select(\"h4.card-text\")\n",
    "\n",
    "for item in items :\n",
    "    # print(item.get_text().strip())\n",
    "    print(item.get_text().strip().split(\":\")[1])"
   ]
  },
  {
   "cell_type": "code",
   "execution_count": 44,
   "id": "26b627d6-6777-49e1-a78d-851d6517bbe5",
   "metadata": {},
   "outputs": [
    {
     "name": "stdout",
     "output_type": "stream",
     "text": [
      "매트리스커버 관련 상품 추천\n",
      "여름이불세트 관련 상품 추천\n",
      "행거도어 관련 상품 추천\n",
      "매트리스커버 관련 상품 추천\n",
      "매트리스커버 관련 상품 추천\n",
      "매트리스커버 관련 상품 추천\n",
      "매트리스커버 관련 상품 추천\n",
      "매트리스커버 관련 상품 추천\n",
      "매트리스커버 관련 상품 추천\n",
      "매트리스커버 관련 상품 추천\n",
      "매트리스커버 관련 상품 추천\n",
      "매트리스커버 관련 상품 추천\n",
      "행거도어 관련 상품 추천\n",
      "매트리스커버 관련 상품 추천\n",
      "매트리스커버 관련 상품 추천\n",
      "매트리스커버 관련 상품 추천\n"
     ]
    }
   ],
   "source": [
    "items = soup.select(\"a.text-dark\")\n",
    "\n",
    "for item in items :\n",
    "    print(item.get_text())"
   ]
  },
  {
   "cell_type": "markdown",
   "id": "5eb22c39-0fd0-49cd-bb9c-e41aaf97f92f",
   "metadata": {},
   "source": [
    "#### 7. 현재 사이트에 All stories 카테고리에 속해있는 상품들의 상품명만 가져와서 출력해주세요"
   ]
  },
  {
   "cell_type": "code",
   "execution_count": 56,
   "id": "0bad781b-ecd3-4456-95af-6c1b2589ad94",
   "metadata": {},
   "outputs": [
    {
     "name": "stdout",
     "output_type": "stream",
     "text": [
      "상품명: 보드래 퍼펙트 누빔 매트리스커버, 차콜\n",
      "상품명: 피아블 클래식 방수 매트리스커버, 화이트\n",
      "상품명: 더자리 에코항균 마이크로 매트리스커버, 밀키차콜그레이\n",
      "상품명: 더자리 프레쉬 퓨어 매트리스 커버, 퓨어 차콜그레이\n",
      "상품명: 몽쉐어 알러스킨 항균 매트리스 커버, 카키그레이\n",
      "상품명: 쿠팡 브랜드 - 코멧 홈 40수 트윌 순면 100% 홑겹 매트리스커버, 그레이\n",
      "상품명: 패브릭아트 항균 마이크로 원단 매트리스 커버, 아이보리\n",
      "상품명: 바숨 순면 누빔 침대 매트리스커버, 차콜\n",
      "상품명: WEMAX 다용도 문옷걸이, 화이트, 1개\n",
      "상품명: 타카타카 프리미엄 나노 화이바 누빔 매트리스 커버, 젠틀핑핑\n",
      "상품명: 보몽드 순면스퀘어 누빔매트커버, 다크그레이\n",
      "상품명: 보드래 국내산 순면 60수 누빔 매트리스커버, 그레이\n"
     ]
    }
   ],
   "source": [
    "import requests\n",
    "from bs4 import BeautifulSoup\n",
    "\n",
    "url = \"https://davelee-fun.github.io/\"\n",
    "\n",
    "res = requests.get(url)\n",
    "soup = BeautifulSoup(res.content, \"html.parser\")\n",
    "\n",
    "allstories = soup.select_one(\".recent-posts\")\n",
    "items = allstories.select(\"h4.card-text\")\n",
    "\n",
    "for item in items :\n",
    "    print(item.get_text().strip())"
   ]
  },
  {
   "cell_type": "markdown",
   "id": "fb110026-76c9-4bbb-9a73-bd1d802292b1",
   "metadata": {},
   "source": [
    "#### 8. 현재 사이트에 \"Never newsletter\" 카테고리에 속해있는 상품들의 상품명만 가져와서 출력해주세요"
   ]
  },
  {
   "cell_type": "code",
   "execution_count": 68,
   "id": "a27c9154-1d13-4ded-b4d5-4c7018bef95c",
   "metadata": {},
   "outputs": [
    {
     "name": "stdout",
     "output_type": "stream",
     "text": [
      "Never miss a story from us, subscribe to our newsletter\n"
     ]
    }
   ],
   "source": [
    "text = soup.select_one(\"div.container.text-center\")\n",
    "print(text.get_text().strip())"
   ]
  }
 ],
 "metadata": {
  "kernelspec": {
   "display_name": "Python [conda env:anaconda3]",
   "language": "python",
   "name": "conda-env-anaconda3-py"
  },
  "language_info": {
   "codemirror_mode": {
    "name": "ipython",
    "version": 3
   },
   "file_extension": ".py",
   "mimetype": "text/x-python",
   "name": "python",
   "nbconvert_exporter": "python",
   "pygments_lexer": "ipython3",
   "version": "3.13.5"
  }
 },
 "nbformat": 4,
 "nbformat_minor": 5
}
