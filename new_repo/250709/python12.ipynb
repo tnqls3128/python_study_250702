{
 "cells": [
  {
   "cell_type": "markdown",
   "id": "967d8014-48e9-4977-b259-1772d643fe67",
   "metadata": {},
   "source": [
    "#### 함수 선언\n",
    "\n",
    "- 매개변수는 함수에 넘겨진 값을 참조(가리켜서)사용하기 때문에 참조변수라고도 부름"
   ]
  },
  {
   "cell_type": "markdown",
   "id": "42de5cc1-39ae-490d-a409-a04d29792ab9",
   "metadata": {},
   "source": [
    "#### 1. 절차지향언어가 문제를 해결해가는 과정 -> 데이터보다 처리순서\n",
    "- 예 ) 냉장고에 코끼를 넣는다\n",
    "- 1. 냉장고 문을 연다 // open 냉장고\n",
    "  2. 코끼리를 냉장고에 넣는다 // insert 코끼리 into 냉장고\n",
    "  3. 냉장고 문을 닫는다 // close냉장고"
   ]
  },
  {
   "cell_type": "markdown",
   "id": "d880ee33-b9f7-475e-86ea-d6f24fa8320f",
   "metadata": {},
   "source": [
    "#### 2. 객체지향언어가 문제를 해결해가는 과정 -> 문제를 객체 단위로 나눠서 해결\n",
    "- 예 ) 냉장고에 코끼리를 넣는다\n",
    "- 1. 코끼리라는 동물의 정보를 수집해서 해당 동물에 대한 설계도 (*코끼리는 냉장고의 문을 열 수도 있고 안으로 들어갈 수 있는 기능을 사전에 정의함)를 만든다\n",
    "  2. 이전 단계에서 만든 코끼리 설계도를 기반으로 코끼리1 이라는 객체를 하나 만든다\n",
    "  3. 냉장고라는 사물의 정보를 수집해서 해당 사물에 대한 설계도 (*만약 코끼리가 냉장고 안에 들어오면 문이 자동으로 닫혀지도록 하는 기능을 사전에 정의함)를 만든다\n",
    "  4. 이전 단계에서 만든 냉장고 설계도를 기반으로 냉장고1 이라는 객체를 하나 만든다\n",
    "  5. 코끼리1 이라는 객체안에 \"내장\"되어있는 기능을 호출해서 냉장고1 이라는 객체의 문을 열게 한다\n",
    "  6. 코끼리1 이라는 객체안에 \"내장\"되어있는 기능을 호출해서 냉장고1 이라는 객체안으로 들어가게 한다\n",
    "  7. 냉장고1 이라는 객체안에 \"내장\"되어있는 기능을 호출해서 냉장고1 이라는 객체의 문을 닫게 한다"
   ]
  },
  {
   "cell_type": "markdown",
   "id": "a5edf315-459f-4053-a6d3-473ceb2a9f0c",
   "metadata": {},
   "source": [
    "#### 3. 객체지향 프로그래밍 언어 핵심 요소\n",
    "1. 어떤 사물 혹은 동물을 나타낼 수 있는 설계도 -> class\n",
    "   - attribute (속성) : 코끼리의 다리는 4개 / 코끼리의 코는 1개 = 코는 손의 역할\n",
    "   - method (기능 = 객체만의 기능을 구현할 수 있는 함수) : 코끼리가 냉장고를 보면 자신의 코로 문을 연다 / 코끼리가 자신의 코로 문을 연다면 그 안으로 들어간다\n",
    "   - 만약 해당 객체가 사전에 설계도면에 정의가 되어있는 속성값과 기능을 구현하고 싶다면 이렇게 작성해라 -> 객체.속성명 // 객체.메서드함수()\n",
    "2. 어떤 사물 혹은 동물의 정보를 가지고 있는 설계도를 가지고 만들어진 객체 -> object = 객체\n",
    "   - 객체명.속성 : 객체가 가지고 있는 어떤 정보들을 찾아올 수 있음\n",
    "   - 객체명.메서드함수() : 객체가 가지고 있는 고유한 메서드함수를 실행하겠다는 의미"
   ]
  },
  {
   "cell_type": "markdown",
   "id": "6ca4d0da-c52b-4902-847d-1b96db3158ff",
   "metadata": {},
   "source": [
    "#### 4. class를 활용한 객체생성 \n",
    "1. 클래스 정의 : class Student -> Student라는 클래스를 정의하겠다는 의미\n",
    "2. 클래스 안에 속성과 \"메서드함수\"를 정의하려면 \"생성자 함수 = 초기화 함수를 만들어야함\n",
    "   - _init_ : 클래스를 통해서 객체가 생성될 때 자동으로 호출되는 특별한 함수\n",
    "     self : _init_ : 특별한 함수를 선언할 때 반드시 첫번째 매개변수로 작성해야함 -> 자기자신 -> 클래스를 통해서 생성되어질 객체 그 당사자\n",
    "     - 예 _ list_(self, name, grade) -> 클래스를 활용해서 최초에 객체를 생설할 때 name이라는 속성값과 grade라는 속성값을 받아서 객체본의 속성으로 정의하겠다는 의미를 내포\n",
    "     - 클래스 안에서 생성자함수를 사용하는 예\n",
    "     - def_init_(self, name, grade) :\n",
    "           self.name = name\n",
    "           self.grade = grade\n",
    "     - self.name -> 클래스 안에 있는 하나의 변수로서 인식\n",
    "     - 생성자 함수를 선언한 이후에 메서드함수를 선언 -> 개발자가 원하는 직관적인 이름으로 메서드 함수명 선언\n",
    "       def study(self) :\n",
    "           print(f\"{self.name}가 공부를 열심히 합니다\")\n",
    "     - 클래스를 통해서 새롭게 탄생한 객체.study(공유) -> 공유가 공부를 열심히 합니다 라는 구문이 출력"
   ]
  },
  {
   "cell_type": "code",
   "execution_count": 1,
   "id": "485fedfd-2e68-4792-afab-039f93cb4415",
   "metadata": {},
   "outputs": [
    {
     "name": "stdout",
     "output_type": "stream",
     "text": [
      "Fun Coding\n"
     ]
    }
   ],
   "source": [
    "#함수선언\n",
    "def print_string(data) :  #data를 매개변수로 받아 출력하는 함수 정의\n",
    "    print(data)  #전달받은 data값 출력\n",
    "\n",
    "#함수호출\n",
    "print_string(\"Fun Coding\")\n"
   ]
  },
  {
   "cell_type": "code",
   "execution_count": 12,
   "id": "862228f1-a772-47e1-bbb5-a5dba25c87a4",
   "metadata": {},
   "outputs": [
    {
     "name": "stdout",
     "output_type": "stream",
     "text": [
      "<class 'str'>\n"
     ]
    }
   ],
   "source": [
    "string = \"Fun Coding\"  #문자열 객체정의, 문자열 관련 함수들 사용\n",
    "string.split()    # 문자열을 공백 기준으로 나누어 리스트로 반환\n",
    "print(type(string))\n",
    "\n",
    "# slit() -> 파이썬 언어에 내장되어있었기 때문에 개발자가 해당함수를 선언한 적도 없는데 사용가능\n",
    "# 내장 -> 누군가(*파이썬이라는 언어를 창시한 개발자)가 파이썬이라는 언어 안에 사전에 만들어놓았다는 의미\n",
    "# 그렇다면 창시자는 어떻게, 어떤 방법으로 파이썬이라는 언어에 이 함수를 내장시킬 수 있었는지?\n",
    "# 창시자가 만들어놓은 파이썬 언어 -> 복잡하고 반복적으로 실행되어야하는 어떤 기능을 한번 정의해놓고 필요시 커스텀 편집을 하면서 편리하게 기능을 구현\n"
   ]
  },
  {
   "cell_type": "code",
   "execution_count": 25,
   "id": "33f9260d-0780-430a-90f6-c5c65bf33467",
   "metadata": {},
   "outputs": [],
   "source": [
    "class Student :    #Student라는 이름의 설계도를 만드는 것\n",
    "    def __init__(self, name, grade) :    #생성자함수 __init__\n",
    "        self.name = name    #객체의 이름 저장\n",
    "        self.grade = grade    #객체의 학년 저장\n",
    "\n",
    "        #self 는 생성될 객체 자신을 가리는 키워드\n",
    "        #self.name = 그 객체가 가진 name\n",
    "\n",
    "    def study(self) :    #메서드 함수 : 클래스 안에서 객체만의 기능을 정의하는 함수\n",
    "        print(f\"{self.name}가 공부를 열심히 합니다\")\n",
    "        \n",
    "    def take_exam(self) :\n",
    "        print(f\"{self.name}가 시험을 봅니다\")"
   ]
  },
  {
   "cell_type": "code",
   "execution_count": 27,
   "id": "d1eb9762-752a-43dc-bfc3-8abcb71706c2",
   "metadata": {},
   "outputs": [
    {
     "name": "stdout",
     "output_type": "stream",
     "text": [
      "SooBin 3\n",
      "SooBin가 공부를 열심히 합니다\n",
      "SooBin가 시험을 봅니다\n"
     ]
    }
   ],
   "source": [
    "student = Student(\"SooBin\", 3)    # Student 클래스 기반으로 객체 생성\n",
    "print(student.name, student.grade)    \n",
    "student.study()    #객체의 기능(메서드) 실행\n",
    "student.take_exam()"
   ]
  },
  {
   "cell_type": "code",
   "execution_count": 8,
   "id": "3ff3c986-6e7f-47fe-843b-8694f0ca1b97",
   "metadata": {},
   "outputs": [
    {
     "name": "stdout",
     "output_type": "stream",
     "text": [
      "환급받을 금액은 총 450원 입니다\n"
     ]
    }
   ],
   "source": [
    "eggs = [ \n",
    "    [\"O\", \"O\", \"X\", \"O\", \"O\"],\n",
    "    [\"O\", \"O\", \"O\", \"X\", \"X\"]\n",
    "]\n",
    "refund = 0\n",
    "\n",
    "for row in eggs :\n",
    "     for egg in row :\n",
    "         if egg == \"X\" :\n",
    "             refund += 150\n",
    "\n",
    "print(f\"환급받을 금액은 총 {refund}원 입니다\")"
   ]
  }
 ],
 "metadata": {
  "kernelspec": {
   "display_name": "Python [conda env:anaconda3]",
   "language": "python",
   "name": "conda-env-anaconda3-py"
  },
  "language_info": {
   "codemirror_mode": {
    "name": "ipython",
    "version": 3
   },
   "file_extension": ".py",
   "mimetype": "text/x-python",
   "name": "python",
   "nbconvert_exporter": "python",
   "pygments_lexer": "ipython3",
   "version": "3.13.5"
  }
 },
 "nbformat": 4,
 "nbformat_minor": 5
}
