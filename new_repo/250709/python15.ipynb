{
 "cells": [
  {
   "cell_type": "code",
   "execution_count": 6,
   "id": "6770faa8-2cde-4d55-8d71-a21bfa91279c",
   "metadata": {},
   "outputs": [
    {
     "name": "stdout",
     "output_type": "stream",
     "text": [
      "<h1 id=\"title\">[1]크롤링이란?</h1>\n",
      "[1]크롤링이란?\n",
      "[1]크롤링이란?\n"
     ]
    }
   ],
   "source": [
    "from bs4 import BeautifulSoup    # BeautifulSoup 라이브러리 불러오기\n",
    "\n",
    "html = \"<html>\\\n",
    "            <body>\\\n",
    "                <h1 id='title'>[1]크롤링이란?</h1>\\\n",
    "                <p class='cssstyle'>웹페이지에서 필요한 데이터를 추출하는 것</p>\\\n",
    "                <p id='body' align='center'>파이썬을 중심으로 다양한 웹크롤링 기술 발달</p>\\\n",
    "            </body>\\\n",
    "        </html>\"\n",
    "\n",
    "soup = BeautifulSoup(html, \"html.parser\")    # BeautifulSoup이용해 html문자열 파싱\n",
    "data = soup.find(\"h1\")    # soup객체에서 h1태그 하나를 찾아서 data변수에 저장\n",
    "print(data)  \n",
    "print(data.string)    # 태그 안의 텍스트만 추출할 때\n",
    "print(data.get_text())    # 위와 동일하나 더 유연"
   ]
  },
  {
   "cell_type": "code",
   "execution_count": 9,
   "id": "089a8870-611d-4151-86b8-9c84ec321c6d",
   "metadata": {},
   "outputs": [
    {
     "name": "stdout",
     "output_type": "stream",
     "text": [
      "<body> <h1 id=\"title\">[1]크롤링이란?</h1> <p class=\"cssstyle\">웹페이지에서 필요한 데이터를 추출하는 것</p> <p align=\"center\" id=\"body\">파이썬을 중심으로 다양한 웹크롤링 기술 발달</p> </body>\n",
      "None\n",
      " [1]크롤링이란? 웹페이지에서 필요한 데이터를 추출하는 것 파이썬을 중심으로 다양한 웹크롤링 기술 발달 \n"
     ]
    }
   ],
   "source": [
    "from bs4 import BeautifulSoup    \n",
    "\n",
    "html = \"<html>\\\n",
    "            <body>\\\n",
    "                <h1 id='title'>[1]크롤링이란?</h1>\\\n",
    "                <p class='cssstyle'>웹페이지에서 필요한 데이터를 추출하는 것</p>\\\n",
    "                <p id='body' align='center'>파이썬을 중심으로 다양한 웹크롤링 기술 발달</p>\\\n",
    "            </body>\\\n",
    "        </html>\"\n",
    "\n",
    "soup = BeautifulSoup(html, \"html.parser\")    \n",
    "data = soup.find(\"body\")   \n",
    "print(data)  \n",
    "\n",
    "print(data.string)    \n",
    "#string -> 크롤링하고자 하는 대상의 직접적인 텍스트 문자열을 찾아와야 할 때\n",
    "\n",
    "print(data.get_text())    \n",
    "#get_text() -> 자식요소의 텍스트 문자열까지 크롤링하고자 할 때"
   ]
  },
  {
   "cell_type": "code",
   "execution_count": 11,
   "id": "71967b7f-b9df-4234-b379-0158add6e97c",
   "metadata": {},
   "outputs": [
    {
     "name": "stdout",
     "output_type": "stream",
     "text": [
      "<p class=\"cssstyle\">웹페이지에서 필요한 데이터를 추출하는 것</p>\n",
      "웹페이지에서 필요한 데이터를 추출하는 것\n"
     ]
    }
   ],
   "source": [
    "from bs4 import BeautifulSoup    \n",
    "\n",
    "html = \"<html>\\\n",
    "            <body>\\\n",
    "                <h1 id='title'>[1]크롤링이란?</h1>\\\n",
    "                <p class='cssstyle'>웹페이지에서 필요한 데이터를 추출하는 것</p>\\\n",
    "                <p id='body' align='center'>파이썬을 중심으로 다양한 웹크롤링 기술 발달</p>\\\n",
    "            </body>\\\n",
    "        </html>\"\n",
    "\n",
    "soup = BeautifulSoup(html, \"html.parser\")    \n",
    "data = soup.find(\"p\")   \n",
    "print(data)  \n",
    "print(data.string)"
   ]
  },
  {
   "cell_type": "code",
   "execution_count": 16,
   "id": "8039ec03-af2e-494c-9ace-8d86f474fc2f",
   "metadata": {},
   "outputs": [
    {
     "name": "stdout",
     "output_type": "stream",
     "text": [
      "웹페이지에서 필요한 데이터를 추출하는 것\n",
      "파이썬을 중심으로 다양한 웹크롤링 기술 발달\n"
     ]
    }
   ],
   "source": [
    "from bs4 import BeautifulSoup    \n",
    "\n",
    "html = \"<html>\\\n",
    "            <body>\\\n",
    "                <h1 id='title'>[1]크롤링이란?</h1>\\\n",
    "                <p class='cssstyle'>웹페이지에서 필요한 데이터를 추출하는 것</p>\\\n",
    "                <p id='body' align='center'>파이썬을 중심으로 다양한 웹크롤링 기술 발달</p>\\\n",
    "            </body>\\\n",
    "        </html>\"\n",
    "\n",
    "soup = BeautifulSoup(html, \"html.parser\")    \n",
    "data = soup.find_all(\"p\")   \n",
    "\n",
    "#print(data.string) -> 리스트에서 사용X\n",
    "\n",
    "for item in data :\n",
    "    print(item.string)"
   ]
  },
  {
   "cell_type": "code",
   "execution_count": 19,
   "id": "b11c46ea-dc1c-43a1-a8e5-afeac5228734",
   "metadata": {},
   "outputs": [
    {
     "name": "stdout",
     "output_type": "stream",
     "text": [
      "파이썬을 중심으로 다양한 웹크롤링 기술 발달\n"
     ]
    }
   ],
   "source": [
    "from bs4 import BeautifulSoup    \n",
    "\n",
    "html = \"<html>\\\n",
    "            <body>\\\n",
    "                <h1 id='title'>[1]크롤링이란?</h1>\\\n",
    "                <p class='cssstyle'>웹페이지에서 필요한 데이터를 추출하는 것</p>\\\n",
    "                <p id='body' align='center'>파이썬을 중심으로 다양한 웹크롤링 기술 발달</p>\\\n",
    "            </body>\\\n",
    "        </html>\"\n",
    "\n",
    "soup = BeautifulSoup(html, \"html.parser\")    \n",
    "# data = soup.find(\"p\", attrs = {\"id\":\"body\"})  -> id 속성인 body 인 첫번째 p태그를 찾음\n",
    "# attrs = {\"id\" : \"\"body\"} -> HTML 속성을 기준으로 찾겠다는 의미\n",
    "data = soup.find(\"p\", attrs = {\"align\":\"center\"})\n",
    "print(data.string)"
   ]
  },
  {
   "cell_type": "code",
   "execution_count": 32,
   "id": "eae61ace-400e-4904-b7d9-bd1e2f2e1830",
   "metadata": {},
   "outputs": [
    {
     "name": "stdout",
     "output_type": "stream",
     "text": [
      "파이썬을 중심으로 다양한 웹크롤링 기술 발달 -2\n"
     ]
    }
   ],
   "source": [
    "from bs4 import BeautifulSoup    \n",
    "\n",
    "html = \"<html>\\\n",
    "            <body>\\\n",
    "                <h1 id='title'>[1]크롤링이란?</h1>\\\n",
    "                <p class='cssstyle'>웹페이지에서 필요한 데이터를 추출하는 것</p>\\\n",
    "                <p id='body01' align='center'>파이썬을 중심으로 다양한 웹크롤링 기술 발달 -1</p>\\\n",
    "                <p id='body02' align='center'>파이썬을 중심으로 다양한 웹크롤링 기술 발달 -2</p>\\\n",
    "            </body>\\\n",
    "        </html>\"\n",
    "\n",
    "soup = BeautifulSoup(html, \"html.parser\")    \n",
    "# data = soup.find(\"p\", attrs = {\"id\":\"body02\", \"align\" : \"center\"})\n",
    "data = soup.find(\"p\", id = \"body02\")\n",
    "print(data.string)"
   ]
  },
  {
   "cell_type": "code",
   "execution_count": 29,
   "id": "3d218c61-6f07-4ac8-b0ee-20453974a88d",
   "metadata": {},
   "outputs": [
    {
     "name": "stdout",
     "output_type": "stream",
     "text": [
      "웹페이지에서 필요한 데이터를 추출하는 것 -2\n"
     ]
    }
   ],
   "source": [
    "from bs4 import BeautifulSoup    \n",
    "\n",
    "html = \"<html>\\\n",
    "            <body>\\\n",
    "                <h1 id='title'>[1]크롤링이란?</h1>\\\n",
    "                <p class='cssstyle01'>웹페이지에서 필요한 데이터를 추출하는 것 -1</p>\\\n",
    "                <p class='cssstyle02'>웹페이지에서 필요한 데이터를 추출하는 것 -2</p>\\\n",
    "                <p id='body01' align='center'>파이썬을 중심으로 다양한 웹크롤링 기술 발달 -1</p>\\\n",
    "                <p id='body02' align='center'>파이썬을 중심으로 다양한 웹크롤링 기술 발달 -2</p>\\\n",
    "            </body>\\\n",
    "        </html>\"\n",
    "\n",
    "soup = BeautifulSoup(html, \"html.parser\")    \n",
    "# data = soup.find(\"p\", attrs = {\"id\":\"body02\", \"align\" : \"center\"})\n",
    "# data = soup.find(\"p\", attrs ={\"class\":\"cssstyle02\"})\n",
    "# data = soup.find(\"p\", class_=\"cssstyle02\")\n",
    "data = soup.find(\"p\",\"cssstyle02\")\n",
    "print(data.string)"
   ]
  }
 ],
 "metadata": {
  "kernelspec": {
   "display_name": "Python [conda env:anaconda3]",
   "language": "python",
   "name": "conda-env-anaconda3-py"
  },
  "language_info": {
   "codemirror_mode": {
    "name": "ipython",
    "version": 3
   },
   "file_extension": ".py",
   "mimetype": "text/x-python",
   "name": "python",
   "nbconvert_exporter": "python",
   "pygments_lexer": "ipython3",
   "version": "3.13.5"
  }
 },
 "nbformat": 4,
 "nbformat_minor": 5
}
