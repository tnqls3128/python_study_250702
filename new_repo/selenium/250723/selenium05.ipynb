{
 "cells": [
  {
   "cell_type": "markdown",
   "id": "fd54b96e-e7e7-4682-8517-771aa8cf1df2",
   "metadata": {},
   "source": [
    "#### 7. 다음 웹 사이트에 접속해서 selenium을 활용해 크롤링해오세요.\n",
    "- https://divjason.github.io/sellenium-test/\n",
    "- input 태그 요소에 아이디 error@error.com / 비밀번호 1234 입력 후 로그인 버튼 누르게 해주세요\n",
    "- 클릭 이후 이동한 페이지에서 message라는 클래스 속성값을 가지고 있는 요소의 텍스트 정보를 출력\n",
    "- 해당 페이지에서 로그아웃 버튼을 클릭 후 이동한 페이지에서 다시 message라는 클래스 속성값을 가지고 있논 요소의 텍스트 정보를 출력"
   ]
  },
  {
   "cell_type": "code",
   "execution_count": 7,
   "id": "cfb7d488-0e15-4f33-91b8-a9147308bb14",
   "metadata": {},
   "outputs": [
    {
     "name": "stdout",
     "output_type": "stream",
     "text": [
      "실제 사이트는 https://megaitlab.com/ 입니다\n",
      "뉴스: 머신러닝 강좌가 나왔어요~~~\n"
     ]
    }
   ],
   "source": [
    "from selenium import webdriver\n",
    "from selenium.webdriver.chrome.service import Service\n",
    "from selenium.webdriver.common.by import By\n",
    "from selenium.webdriver.common.keys import Keys\n",
    "from webdriver_manager.chrome import ChromeDriverManager\n",
    "from selenium.webdriver.chrome.options import Options\n",
    "import time\n",
    "import pyautogui\n",
    "\n",
    "service = Service(\"C:\\\\Users\\\\user\\\\Downloads\\\\chromedriver-win64\\\\chromedriver-win64\\\\chromedriver.exe\")\n",
    "\n",
    "prefs = {\n",
    "    \"credentials_enable_service\": False,   # 크롬 웹 자체 로그인 팝업 비활성화\n",
    "    \"profile.password_manager_enabled\": False   # 비밀번호 저장 팝업 끄기\n",
    "}\n",
    "\n",
    "options = Options()\n",
    "# options.add_argument(\"headless\")\n",
    "options.add_argument(\"window-size=1920x1080\")\n",
    "options.add_experimental_option(\"prefs\", prefs)\n",
    "options.add_argument(\"--disable-gpu\")\n",
    "options.add_argument(\"--user-agent=Mozilla/5.0 (Windows NT 10.0; Win64; x64) AppleWebKit/537.36 (KHTML, like Gecko) Chrome/138.0.0.0 Safari/537.36 Edg/138.0.0.0\")\n",
    "options.add_argument(\"lang=ko_KR\")\n",
    "\n",
    "\n",
    "driver = webdriver.Chrome(service=service, options = options)\n",
    "driver.get(\"https://divjason.github.io/sellenium-test/\")\n",
    "\n",
    "element = driver.find_element(By.ID, \"username\")\n",
    "element.clear()\n",
    "element.send_keys(\"error@error.com\")\n",
    "\n",
    "element = driver.find_element(By.ID, \"password\")\n",
    "element.clear()\n",
    "element.send_keys(\"123456\")\n",
    "\n",
    "time.sleep(1)\n",
    "\n",
    "# element.send_keys(Keys.RETURN)\n",
    "element = driver.find_element(By.CSS_SELECTOR, \"input[type='submit']\")\n",
    "element.click()  # 정석\n",
    "\n",
    "driver.get(\"https://divjason.github.io/sellenium-test/index.html\")\n",
    "\n",
    "element = driver.find_element(By.CSS_SELECTOR, \"div.message\")\n",
    "print(element.text)\n",
    "\n",
    "\n",
    "time.sleep(2)\n",
    "\n",
    "driver.quit()"
   ]
  }
 ],
 "metadata": {
  "kernelspec": {
   "display_name": "Python [conda env:anaconda3]",
   "language": "python",
   "name": "conda-env-anaconda3-py"
  },
  "language_info": {
   "codemirror_mode": {
    "name": "ipython",
    "version": 3
   },
   "file_extension": ".py",
   "mimetype": "text/x-python",
   "name": "python",
   "nbconvert_exporter": "python",
   "pygments_lexer": "ipython3",
   "version": "3.13.5"
  }
 },
 "nbformat": 4,
 "nbformat_minor": 5
}
