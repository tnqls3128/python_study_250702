{
 "cells": [
  {
   "cell_type": "code",
   "execution_count": 4,
   "id": "a8e58e71-a568-472c-b611-f20df6da1990",
   "metadata": {},
   "outputs": [
    {
     "name": "stdout",
     "output_type": "stream",
     "text": [
      "Teddy의 선물 블로그\n"
     ]
    }
   ],
   "source": [
    "from selenium import webdriver    # 웹 브라우저 자동화 기본 모듈\n",
    "from selenium.webdriver.chrome.service import Service    # 크롬 브라우저 사용할 때 필요한 서비스 객체를 만들어주는 도구 가져옴\n",
    "from selenium.webdriver.common.by import By    # 웹 페이지 안에서 요소(버튼 등) 찾을 때 사용할 검색 방법\n",
    "from webdriver_manager.chrome import ChromeDriverManager   # 크롬 드라이버를 자동으로 설치하고 관리해주는 도구\n",
    "import time\n",
    "\n",
    "service = Service(ChromeDriverManager().install())  #자동으로 설치하고 해당경로를 Service 객체에 넘김\n",
    "driver = webdriver.Chrome(service = service)  # 위에서 만든 service 객체를 사용해서 크롬 웹드라이버 실행\n",
    "\n",
    "driver.get(\"https://davelee-fun.github.io/\")\n",
    "\n",
    "element = driver.find_element(By.TAG_NAME, \"h1\")   # 페이지에서 첫번째로 나오는 <h1>태그를 찾아 해당요소를 elment변수에 저장\n",
    "\n",
    "print(element.text)   # 찾은 <h1> 요소 텍스트 내용 출력\n",
    "\n",
    "time.sleep(1)  # 1초간 대기\n",
    "\n",
    "driver.quit()   # 웹 브라우저 종료"
   ]
  },
  {
   "cell_type": "code",
   "execution_count": 8,
   "id": "226041a2-0766-4481-bd7b-e57813aadca6",
   "metadata": {},
   "outputs": [
    {
     "name": "stdout",
     "output_type": "stream",
     "text": [
      "상품명: 보몽드 순면스퀘어 솔리드 누빔매트커버, 다크블루\n",
      "상품명: 슈에뜨룸 선인장 리플 침구 세트, 베이지\n",
      "상품명: 선우랜드 레인보우 2단 문걸이용 옷걸이 _중형, 화이트, 상세페이지참조\n",
      "상품명: 보드래 헬로우 누빔 매트리스커버, 핑크\n",
      "상품명: 보드래 퍼펙트 누빔 매트리스커버, 차콜\n",
      "상품명: 피아블 클래식 방수 매트리스커버, 화이트\n",
      "상품명: 더자리 에코항균 마이크로 매트리스커버, 밀키차콜그레이\n",
      "상품명: 더자리 프레쉬 퓨어 매트리스 커버, 퓨어 차콜그레이\n",
      "상품명: 몽쉐어 알러스킨 항균 매트리스 커버, 카키그레이\n",
      "상품명: 쿠팡 브랜드 - 코멧 홈 40수 트윌 순면 100% 홑겹 매트리스커버, 그레이\n",
      "상품명: 패브릭아트 항균 마이크로 원단 매트리스 커버, 아이보리\n",
      "상품명: 바숨 순면 누빔 침대 매트리스커버, 차콜\n",
      "상품명: WEMAX 다용도 문옷걸이, 화이트, 1개\n",
      "상품명: 타카타카 프리미엄 나노 화이바 누빔 매트리스 커버, 젠틀핑핑\n",
      "상품명: 보몽드 순면스퀘어 누빔매트커버, 다크그레이\n",
      "상품명: 보드래 국내산 순면 60수 누빔 매트리스커버, 그레이\n"
     ]
    }
   ],
   "source": [
    "from selenium import webdriver  # 웹브라우저 자동화 모듈\n",
    "from selenium.webdriver.chrome.service import Service   # 크롬 드라이버 서비스 관리\n",
    "from selenium.webdriver.common.by import By   # 요소 찾을 때 사용하는 방법 모음\n",
    "from webdriver_manager.chrome import ChromeDriverManager   # 크롬 드라이버 자동 설치 도구\n",
    "import time\n",
    "\n",
    "service = Service(ChromeDriverManager().install())   # 크롬드라이버 설치 및 경로 설정 -> service 객체 생성\n",
    "driver = webdriver.Chrome(service=service)   # 위 객체를 이용해서 크롭 웹드라이버 실행\n",
    "\n",
    "driver.get(\"https://davelee-fun.github.io/\")\n",
    "\n",
    "elements = driver.find_elements(By.TAG_NAME, \"h4\")  # 페이지 내 모든 <h4>태그 요소를 리스트로 찾아 저장\n",
    "\n",
    "for element in elements :   # 찾은 요소 하나씩 순회하며 텍스트 출력\n",
    "    print(element.text)    # 각 태그 내부 글자만 출력\n",
    "\n",
    "time.sleep(1)\n",
    "\n",
    "driver.quit()"
   ]
  },
  {
   "cell_type": "code",
   "execution_count": 1,
   "id": "dd48dcf5-ae95-44c4-8b6c-c117207c35b2",
   "metadata": {},
   "outputs": [
    {
     "name": "stdout",
     "output_type": "stream",
     "text": [
      "\n"
     ]
    }
   ],
   "source": [
    "from selenium import webdriver\n",
    "from selenium.webdriver.chrome.service import Service\n",
    "from selenium.webdriver.common.by import By\n",
    "from webdriver_manager.chrome import ChromeDriverManager\n",
    "import time\n",
    "\n",
    "service = Service(ChromeDriverManager().install())\n",
    "driver = webdriver.Chrome(service=service)\n",
    "\n",
    "driver.get(\"https://davelee-fun.github.io/\")\n",
    "\n",
    "elements = driver.find_elements(By.ID, \"navbarMediumish\")\n",
    "for element in elements :\n",
    "    print(element.text)\n",
    "\n",
    "time.sleep(1)\n",
    "\n",
    "driver.quit()"
   ]
  }
 ],
 "metadata": {
  "kernelspec": {
   "display_name": "Python [conda env:anaconda3]",
   "language": "python",
   "name": "conda-env-anaconda3-py"
  },
  "language_info": {
   "codemirror_mode": {
    "name": "ipython",
    "version": 3
   },
   "file_extension": ".py",
   "mimetype": "text/x-python",
   "name": "python",
   "nbconvert_exporter": "python",
   "pygments_lexer": "ipython3",
   "version": "3.13.5"
  }
 },
 "nbformat": 4,
 "nbformat_minor": 5
}
