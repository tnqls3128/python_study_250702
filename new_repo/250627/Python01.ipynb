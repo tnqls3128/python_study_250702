{
 "cells": [
  {
   "cell_type": "markdown",
   "id": "6499fd3f-6be2-42ca-928f-f6e1e554766f",
   "metadata": {},
   "source": [
    "## 파이썬 기초문법\n",
    "### 1.변수 (이름을 붙인 것 x=10 에서 x)\n",
    "\n",
    "### 2. 내장함수 (*Built-in Function)\n",
    "- print()\n",
    "- input()\n",
    "- type()\n",
    " \n",
    "### 3. 연산자\n",
    "- 사칙연산\n",
    "- 비교연산\n",
    "### 4. 자료타입\n",
    "- stuing\n",
    "- int\n",
    "- float\n",
    "- boolean\n",
    "\n",
    "### 5. 형변환\n",
    "- int() => 정수변환\n",
    "- float() => 실수변환\n",
    "- str() => 문자열로 변환\n",
    "\n",
    "### 6. F-string\n",
    "= F\"문자열 {변수}\"\n",
    "\n",
    "### 7. 문자열\n",
    "- \"\"\" \"\"\" => 문장길때\n",
    "- \\n => 행바꿈\n",
    "- len() => 글자길이\n",
    "- find() => 몇번째\n",
    "- replace() => 바꿈\n",
    "- strip() => 특정 문자를 없애줌 잘라내기\n",
    "- format() => 매서드함수일때와 단독으로 쓰일 때 완전 다름\n",
    "- [index]\n",
    "- [index : index]"
   ]
  },
  {
   "cell_type": "code",
   "execution_count": 34,
   "id": "d5a48279-e8d4-42a7-842a-55e3dbc56682",
   "metadata": {},
   "outputs": [],
   "source": [
    "# 단축키\n",
    "# Above : 위쪽에 셀 추가\n",
    "# Below : 아래쪽에 셀 추가\n",
    "# dd : 셀 삭제\n",
    "# Ctrl+Z : 되돌리기\n",
    "# enter : 행바꿈\n",
    "# Ctrl + enter : 셀 실행\n",
    "# z : 셀 삭제 취소"
   ]
  },
  {
   "cell_type": "code",
   "execution_count": 3,
   "id": "e098c2a5-bca0-4c3e-86e9-09d1b26ee503",
   "metadata": {},
   "outputs": [
    {
     "name": "stdout",
     "output_type": "stream",
     "text": [
      "1\n"
     ]
    }
   ],
   "source": [
    "num = 1 \n",
    "\n",
    "# num, lion, apple... => 변수 (*어떤 값을 담을 수 있는 그릇, 직관&명시)\n",
    "# sneak 표기법 => hellow_world \n",
    "# camel 표기법 => hellowWoerld (대문자로 단어 표시, 낙타, 혹) *추천\n",
    "# Hungarian 표기법 => HellowWorld (앞단어마다 대문자 단어 표시)\n",
    "# 변수의 이름이 숫자로 시작되어서는 안됨 *반드시\n",
    "# num이라는 변수 안에 1이라는 값을 할당했다\n",
    "\n",
    "print(num) \n",
    "# print() => 함수 (*Function : 기능)\n",
    "# print라는 함수 안에 num이라는 변수를 인자=argumant값(함수에 전달하는 값)으로 사용했다"
   ]
  },
  {
   "cell_type": "code",
   "execution_count": 11,
   "id": "9ac6d341-f901-40ae-a1bd-3e58414a6c73",
   "metadata": {},
   "outputs": [
    {
     "name": "stdout",
     "output_type": "stream",
     "text": [
      "Hello world\n"
     ]
    }
   ],
   "source": [
    "# 문자열은 따옴표 필수\n",
    "print(\"Hello world\")"
   ]
  },
  {
   "cell_type": "code",
   "execution_count": 10,
   "id": "c214d05d-a211-46fa-a663-82eeab6d3844",
   "metadata": {},
   "outputs": [
    {
     "name": "stdout",
     "output_type": "stream",
     "text": [
      "<class 'int'>\n",
      "<class 'str'>\n"
     ]
    }
   ],
   "source": [
    "# 자료타입이 왜 중요한가?\n",
    "print(type(1))\n",
    "print(type(\"1\"))"
   ]
  },
  {
   "cell_type": "code",
   "execution_count": 15,
   "id": "4dc07efa-43de-4cc7-aaed-0c888bb3e609",
   "metadata": {},
   "outputs": [
    {
     "name": "stdout",
     "output_type": "stream",
     "text": [
      "10\n",
      "4\n",
      "21\n",
      "2.3333333333333335\n",
      "50\n"
     ]
    }
   ],
   "source": [
    "# 4칙연산 & 우선연산 가능\n",
    "num01 = 3\n",
    "num02 = 7\n",
    "\n",
    "print(num01 + num02)\n",
    "print(num02 - num01)\n",
    "print(num01 * num02)\n",
    "print(num02 / num01)\n",
    "print((7+3)*5)"
   ]
  },
  {
   "cell_type": "code",
   "execution_count": 22,
   "id": "4f886f8c-7a09-45ff-a510-fb69692f0686",
   "metadata": {},
   "outputs": [
    {
     "name": "stdout",
     "output_type": "stream",
     "text": [
      "2.142857142857143\n",
      "2\n",
      "1\n",
      "8\n"
     ]
    }
   ],
   "source": [
    "print(15/7) # 나누기 연산자\n",
    "print(15//7) # 나누기 후 몫의 값을 정수로 찾아오는 연산자\n",
    "print(15 % 7) # 나누기 후 나머지 연산자\n",
    "print(2 ** 3) # 밑과 지수 활용"
   ]
  },
  {
   "cell_type": "code",
   "execution_count": 30,
   "id": "d469f315-945f-4ce0-aff9-2e24edee5003",
   "metadata": {},
   "outputs": [
    {
     "name": "stdout",
     "output_type": "stream",
     "text": [
      "<class 'str'> <class 'int'> <class 'float'> <class 'bool'>\n"
     ]
    }
   ],
   "source": [
    "str_data = \"Hello\" # 문자열\n",
    "int_data = 1 # 정수\n",
    "float_data = 1.1 # 실수(소수점)\n",
    "bool_data = True # 논리형\n",
    "\n",
    "print(type(str_data), type(int_data), type(float_data), type(bool_data))"
   ]
  },
  {
   "cell_type": "code",
   "execution_count": 29,
   "id": "72f31c7c-2e86-4b41-8ab1-a1c9bff5d914",
   "metadata": {},
   "outputs": [
    {
     "name": "stdout",
     "output_type": "stream",
     "text": [
      "30\n"
     ]
    }
   ],
   "source": [
    "digit1 = 10\n",
    "digit2 = 20\n",
    "name = \"skoong\"\n",
    "\n",
    "print(digit1 + digit2) # 동일한 자료형태의 경우에는 연산처리 가능"
   ]
  },
  {
   "cell_type": "code",
   "execution_count": 42,
   "id": "eee8dbd7-abd6-41c4-9117-546e4cc34669",
   "metadata": {},
   "outputs": [
    {
     "name": "stdout",
     "output_type": "stream",
     "text": [
      "True\n",
      "False\n",
      "False\n",
      "True\n",
      "False\n",
      "True\n"
     ]
    }
   ],
   "source": [
    "num1 = 2\n",
    "num2 = 4\n",
    "\n",
    "print(num1 < num2)\n",
    "print(num1 > num2)\n",
    "print(num1 >= num2)\n",
    "print(num1 <= num2)\n",
    "print(num1 == num2) # 등호표시 1개 : 대입 , 2개 : 같은지\n",
    "print(num1 != num2) # not : ! (같지않다)\n",
    "# 백종원 키워드 기사만 찾아와라 할 때 활용 "
   ]
  },
  {
   "cell_type": "code",
   "execution_count": 44,
   "id": "8d6d8bfc-805f-4075-94fd-b5c963f62402",
   "metadata": {},
   "outputs": [],
   "source": [
    "age = 28\n",
    "name = \"SooBin\"\n",
    "height = 158\n",
    "weight = 10\n",
    "foot_size = 230\n",
    "glass = True\n",
    "marriage = False\n",
    "gender = \"female\"\n",
    "hobby = \"netflix\""
   ]
  },
  {
   "cell_type": "markdown",
   "id": "47582f77-b078-40f8-8af6-607648771f98",
   "metadata": {},
   "source": [
    "### 반지름이 10인 변수를 선언하시고, 해당 반지름을 기준으로 하는 원의 지름, 둘레(2*파이*반지름), 넓이(파이*반지름제곱)값을 변수로 선언 및 할당 => 출력"
   ]
  },
  {
   "cell_type": "code",
   "execution_count": 67,
   "id": "41f8abca-ad8f-4815-ad66-9c28ed32b92e",
   "metadata": {},
   "outputs": [
    {
     "name": "stdout",
     "output_type": "stream",
     "text": [
      "1. 반지름 :  10\n",
      "2. 지름 :  20\n",
      "3. 원의 둘레 :  62.830000000000005\n",
      "4. 원의 넓이 :  314.15000000000003\n",
      "1. 반지름 :  1. 반지름 :  10 2. 지름 :  20 3. 원의 둘레 :  62.830000000000005 4. 원의 넓이 :  314.15000000000003\n",
      "1. 반지름 : 10\n"
     ]
    }
   ],
   "source": [
    "radius = 10\n",
    "pi = 3.1415\n",
    "radius2 = radius * 2\n",
    "radius3 = 2 * pi * radius\n",
    "radius4 = pi * radius ** 2\n",
    "\n",
    "print(\"1. 반지름 : \", radius)\n",
    "print(\"2. 지름 : \", radius2)\n",
    "print(\"3. 원의 둘레 : \", radius3)\n",
    "print(\"4. 원의 넓이 : \", radius4)\n",
    "\n",
    "print(\"1. 반지름 : \",\"1. 반지름 : \", radius, \"2. 지름 : \", radius2, \"3. 원의 둘레 : \", radius3, \"4. 원의 넓이 : \", radius4)\n",
    "print(f\"1. 반지름 : {radius}\") #F-String = Fommat String"
   ]
  },
  {
   "cell_type": "code",
   "execution_count": 76,
   "id": "895b5fc9-5e44-4284-8e80-ce0f6445ede9",
   "metadata": {},
   "outputs": [
    {
     "name": "stdin",
     "output_type": "stream",
     "text": [
      "What is your name? soobin\n",
      "Where aer you from? inchon\n",
      "man or woman? woman\n",
      "How old are you? 28\n"
     ]
    },
    {
     "name": "stdout",
     "output_type": "stream",
     "text": [
      "<class 'str'>\n",
      "Hi soobin from inchon\n"
     ]
    }
   ],
   "source": [
    "name = input(\"What is your name?\")\n",
    "address = input(\"Where aer you from?\")\n",
    "gender = input(\"man or woman?\")\n",
    "age = input(\"How old are you?\")\n",
    "\n",
    "print(type(age))\n",
    "print(f\"Hi {name} from {address}\")"
   ]
  },
  {
   "cell_type": "code",
   "execution_count": 77,
   "id": "7c6771e0-0948-447b-b20d-3e86a19e4504",
   "metadata": {},
   "outputs": [
    {
     "name": "stdin",
     "output_type": "stream",
     "text": [
      " 2\n",
      " 5\n"
     ]
    },
    {
     "name": "stdout",
     "output_type": "stream",
     "text": [
      "10\n"
     ]
    }
   ],
   "source": [
    "num1 = int(input())\n",
    "num2 = int(input())\n",
    "\n",
    "print(num1*num2)"
   ]
  },
  {
   "cell_type": "code",
   "execution_count": 86,
   "id": "644cd3c4-c425-4919-bfd2-f3f00092481a",
   "metadata": {},
   "outputs": [
    {
     "name": "stdout",
     "output_type": "stream",
     "text": [
      "<class 'float'>\n",
      "<class 'int'>\n",
      "<class 'int'>\n"
     ]
    }
   ],
   "source": [
    "num3 = 6.3 #float\n",
    "num4 = 1 #int\n",
    "\n",
    "print(type(num3))\n",
    "print(type(num4))\n",
    "\n",
    "num5 = int(num3)\n",
    "print(type(num5))"
   ]
  },
  {
   "cell_type": "code",
   "execution_count": 118,
   "id": "b399cbd5-f12c-4084-ad16-dc38b2535e6f",
   "metadata": {},
   "outputs": [
    {
     "name": "stdout",
     "output_type": "stream",
     "text": [
      "작중 게임이 전 세계적으로 열린다는 언급과 VIP들이 해외 순항을 하는 외국인들인 것들로 볼 때 분명 한국에만 있는 조직이거나 한국에서만 열리는 게임은 아니다. \n",
      "세계적으로 영향력을 뻗친 막강한 조직이고 \n",
      "각 나라마다 지부 같은게 있는 것으로 보인다. \n",
      "최초로 어느 나라에서 발생한 조직인지 언급은 나오지 않았다.\n",
      "\n"
     ]
    }
   ],
   "source": [
    "article1 = \"VIP들로부터 엄청난 후원을 받고 있는 만큼 그 스케일도 어마무시하다. 무인도 하나를 통째로 점거해 그곳에 거대한 게임장을 짓는가 하면 총기도 밀수입해 진행 요원들이 모두 총기로 무장하고 있어 준 민간 군사조직 수준의 군사력을 갖추고 있다. 실제로 황준호도 지원을 요청할 때 최소한 해경 정도는 되어야 진압이 가능하다고 판단했다. 권총 몇 자루로 무장한 경찰, 형사 몇 명으로는 상대도 안 된다는 것.\"\n",
    "article2 = \"\"\"작중 게임이 전 세계적으로 열린다는 언급과 VIP들이 해외 순항을 하는 외국인들인 것들로 볼 때 분명 한국에만 있는 조직이거나 한국에서만 열리는 게임은 아니다. \n",
    "세계적으로 영향력을 뻗친 막강한 조직이고 \\n각 나라마다 지부 같은게 있는 것으로 보인다. \n",
    "최초로 어느 나라에서 발생한 조직인지 언급은 나오지 않았다.\n",
    "\"\"\"\n",
    "\n",
    "# \" \" => 문장길이 짧을 때\n",
    "# \"\"\" \"\"\" => 문장길이 길 때\n",
    "# \\n => 행바꿈 (특수문자로 인식)\n",
    "# 행바꿈 => 문자열 1개로 인식하므로 숫자가 바뀜 (행바꿈 없으면 0에서 시작)\n",
    "\n",
    "print(article2)"
   ]
  },
  {
   "cell_type": "code",
   "execution_count": 123,
   "id": "ad0b872a-81d2-4f56-89d3-5f39bc022790",
   "metadata": {},
   "outputs": [
    {
     "name": "stdout",
     "output_type": "stream",
     "text": [
      "3\n",
      "176\n",
      "0\n",
      "1\n"
     ]
    }
   ],
   "source": [
    "# article2라는 변수를 선언했고, 해당 변수에 문자열 형태의 값을 할당\n",
    "# article2라는 변수에 문자열 형태의 값이 할당됨으로 인해서 이제 article2라는 변수는 문자열 객체라고 부를 수 있게 됨\n",
    "# 객체는 어떤 타입의 객체이냐에 따라서 사용할 수 있는 메서드 함수(*문자열())가 결정!\n",
    "# 함수 : 단독적 사용가능 (독립함수)\n",
    "# 메서드함수 : 문자열 객체에서만 쓸 수 있는 함수 (특정자료함수) \n",
    "\n",
    "print(article2.count(\"조직\")) # 크롤링할 때 count 함수 쓰면 됨 (좋아요 라는 단어가 전월대비 많음, 적음 등등)\n",
    "print(len(article2)) # 글자수세기(length) => len\n",
    "print(article2.find(\"작\")) # 몇번째에 시작 되었는지(행바꿈과 연관, 행바꿈 시 1) => find #\"작\"이라는 문자열은 0번째 인덱스값을 가지고 있음\n",
    "print(article2.find(\"중\"))\n",
    "\n",
    "# 동의보감 => 동 : 0 // 감 : 3 => 문자열의 전체 총개수 -1 = 마지막번째 문자열의 인덱스값과 항상 동일"
   ]
  },
  {
   "cell_type": "code",
   "execution_count": 133,
   "id": "2d8420fa-99c1-4580-8f0b-e0880c05a020",
   "metadata": {},
   "outputs": [
    {
     "name": "stdout",
     "output_type": "stream",
     "text": [
      "When the outlawed Kurdistan Workers' Party (PKK) announced last month that it would disband and end its decades-long insurgency against Turkey, Leila hoped she might soon be reunited with her son.\n",
      "\n",
      "Three years ago, the former sandwich seller left home to join the group - proscribed as a terrorist organisation by Turkey, the US, UK and EU - in the remote Qandil Mountains, near Iraq's border with Iran.\n",
      "\n",
      "Apart from two videos he's sent, the last in March, Leila hasn't seen him since.\n",
      "0\n",
      "14\n",
      "When the out Kurdistan Workers' Party (PKK) announced last month that it would disband and end its decades-long insurgency against Turkey, Leila hoped she might soon be reunited with her son.\n",
      "\n",
      "Three years ago, the former sandwich seller left home to join the group - proscribed as a terrorist organisation by Turkey, the US, UK and EU - in the remote Qandil Mountains, near Iraq's border with Iran.\n",
      "\n",
      "Apart from two videos he's sent, the last in March, Leila hasn't seen him since.\n"
     ]
    }
   ],
   "source": [
    "article3 = \"\"\"When the outlawed Kurdistan Workers' Party (PKK) announced last month that it would disband and end its decades-long insurgency against Turkey, Leila hoped she might soon be reunited with her son.\n",
    "\n",
    "Three years ago, the former sandwich seller left home to join the group - proscribed as a terrorist organisation by Turkey, the US, UK and EU - in the remote Qandil Mountains, near Iraq's border with Iran.\n",
    "\n",
    "Apart from two videos he's sent, the last in March, Leila hasn't seen him since.\"\"\"\n",
    "print(article3)\n",
    "print(article3.find(\"W\"))\n",
    "print(article3.find(\"w\"))\n",
    "print(article3.replace(\"outlawed\", \"out\"))\n"
   ]
  },
  {
   "cell_type": "code",
   "execution_count": 180,
   "id": "fdc70710-fed1-4ef6-9e49-363f8bf00c68",
   "metadata": {},
   "outputs": [
    {
     "name": "stdout",
     "output_type": "stream",
     "text": [
      "python\n",
      "p\n",
      "y\n",
      "6\n",
      "n\n",
      "n\n",
      "python\n",
      "th\n",
      "o\n"
     ]
    }
   ],
   "source": [
    "# 파이썬 > 문자열 > 슬라이스 기능\n",
    "\n",
    "text01 = \"python\"\n",
    "\n",
    "print(text01)\n",
    "print(text01[0])\n",
    "print(text01[1])\n",
    "print(len(text01))\n",
    "print(text01[len(text01) - 1])\n",
    "print(text01[-1])\n",
    "\n",
    "print(text01[0:6]) #[0:해당값 앞까지]\n",
    "print(text01[2:4])\n",
    "print(text01[-2])\n",
    "\n",
    "# 인덱스 : 값들 각각에 붙는 번호"
   ]
  },
  {
   "cell_type": "code",
   "execution_count": 179,
   "id": "db482535-d3ce-4b73-88d8-ec5b89160f85",
   "metadata": {},
   "outputs": [
    {
     "name": "stdout",
     "output_type": "stream",
     "text": [
      "14\n",
      "8\n",
      "soobin\n"
     ]
    }
   ],
   "source": [
    "some_string = \"   computer   \"\n",
    "print(len(some_string))\n",
    "\n",
    "some_string2 = some_string.strip()\n",
    "print(len(some_string2))\n",
    "\n",
    "some_string3 = \"...soobin...\"\n",
    "print(some_string3.strip(\".\"))"
   ]
  },
  {
   "cell_type": "code",
   "execution_count": 182,
   "id": "2029169a-ece0-4f7b-95d2-706d6d3d6ee9",
   "metadata": {},
   "outputs": [
    {
     "name": "stdout",
     "output_type": "stream",
     "text": [
      "I have a pen. I have a apple\n",
      "I have a pen. I have a apple\n",
      "I have a apple. I have a pen\n",
      "I have a pen. I have a apple\n"
     ]
    }
   ],
   "source": [
    "var01 = \"pen\"\n",
    "var02 = \"apple\"\n",
    "\n",
    "print(f\"I have a {var01}. I have a {var02}\")\n",
    "\n",
    "print(\"I have a {}. I have a {}\".format(\"pen\", \"apple\")) # format : 인자값(전달)에 따라 넣어줌\n",
    "print(\"I have a {1}. I have a {0}\".format(\"pen\", \"apple\"))\n",
    "print(\"I have a {0}. I have a {1}\".format(\"pen\", \"apple\"))"
   ]
  },
  {
   "cell_type": "code",
   "execution_count": 185,
   "id": "b5615957-5082-4aff-9e39-5969ab6e68cb",
   "metadata": {},
   "outputs": [
    {
     "name": "stdout",
     "output_type": "stream",
     "text": [
      "0.90\n"
     ]
    }
   ],
   "source": [
    "interast = 0.897\n",
    "print(format(interast, \".2f\"))"
   ]
  },
  {
   "cell_type": "code",
   "execution_count": 195,
   "id": "0136d08e-eb96-42eb-b10f-348fe63d0c7f",
   "metadata": {},
   "outputs": [
    {
     "name": "stdout",
     "output_type": "stream",
     "text": [
      "I have a 100. i have a apple.\n"
     ]
    }
   ],
   "source": [
    "print(\"I have a %d. i have a %s.\" % (100, \"apple\"))\n",
    "\n",
    "# %s : 문자열 입력\n",
    "# %d : 정수 입력\n",
    "# %f : 실수 입력"
   ]
  },
  {
   "cell_type": "code",
   "execution_count": null,
   "id": "b4233cec-0661-4701-a3a4-a6e1aa20094a",
   "metadata": {},
   "outputs": [],
   "source": []
  }
 ],
 "metadata": {
  "kernelspec": {
   "display_name": "Python [conda env:base] *",
   "language": "python",
   "name": "conda-base-py"
  },
  "language_info": {
   "codemirror_mode": {
    "name": "ipython",
    "version": 3
   },
   "file_extension": ".py",
   "mimetype": "text/x-python",
   "name": "python",
   "nbconvert_exporter": "python",
   "pygments_lexer": "ipython3",
   "version": "3.13.5"
  }
 },
 "nbformat": 4,
 "nbformat_minor": 5
}
